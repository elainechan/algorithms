{
 "cells": [
  {
   "cell_type": "code",
   "execution_count": null,
   "metadata": {},
   "outputs": [],
   "source": [
    "# high, normal, low\n",
    "    # 'high performance' FIFO queue with O(1) insertion and removal\n",
    "    # heap\n",
    "    \n",
    "'''\n",
    "g1 [t1, t2]\n",
    "\n",
    "g2 [t1, (t2, p2), (t3, p1)]\n",
    "\n",
    "'''\n",
    "# look at operating systems scheduling\n",
    "# 'priority inversion'"
   ]
  }
 ],
 "metadata": {
  "kernelspec": {
   "display_name": "Electric Vine Grid",
   "language": "python",
   "name": "electric-vine-grid"
  },
  "language_info": {
   "codemirror_mode": {
    "name": "ipython",
    "version": 3
   },
   "file_extension": ".py",
   "mimetype": "text/x-python",
   "name": "python",
   "nbconvert_exporter": "python",
   "pygments_lexer": "ipython3",
   "version": "3.6.4"
  }
 },
 "nbformat": 4,
 "nbformat_minor": 2
}
