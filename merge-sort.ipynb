{
 "cells": [
  {
   "cell_type": "code",
   "execution_count": 48,
   "metadata": {},
   "outputs": [],
   "source": [
    "def merge(arr1, arr2):\n",
    "    result = []\n",
    "    d1 = d2 = 0\n",
    "    # walk through\n",
    "    while d1 < len(arr1) and d2 < len(arr2):\n",
    "        if arr1[d1] < arr2[d2]:\n",
    "            result.append(arr1[d1]) # \n",
    "            print('first while if,', 'arr1=', arr1, ', d1=', d1)\n",
    "            d1 += 1\n",
    "        else:\n",
    "            result.append(arr2[d2])\n",
    "            print('first while else,', 'arr2=', arr2, ', d2=', d2)\n",
    "            d2 += 1\n",
    "    while d1 < len(arr1):\n",
    "        result.append(arr1[d1])\n",
    "        print('second while,', 'arr1=', arr1, ', d1=', d1)\n",
    "        d1 += 1\n",
    "    while d2 < len(arr2):\n",
    "        result.append(arr2[d2])\n",
    "        print('third while,', 'arr2=', arr2, ', d2=', d2)\n",
    "        d2 += 1\n",
    "    return result\n",
    "\n",
    "def mergesort(a):\n",
    "    if len(a) <= 1:\n",
    "        return a\n",
    "    mid = len(a)//2\n",
    "    lefthalf = a[:mid]\n",
    "    righthalf = a[mid:]\n",
    "    # sort left half\n",
    "    sorted_left = mergesort(lefthalf)\n",
    "    print('sorted_left =', sorted_left)\n",
    "    # sort right half\n",
    "    sorted_right = mergesort(righthalf)\n",
    "    print('sorted_right =', sorted_right)\n",
    "    return merge(sorted_left, sorted_right)"
   ]
  },
  {
   "cell_type": "code",
   "execution_count": 49,
   "metadata": {},
   "outputs": [
    {
     "data": {
      "text/plain": [
       "[78, 53, 49, 65, 8, 71, 8, 47, 66, 3, 21, 14, 43, 31, 42, 84, 35, 3, 4, 6]"
      ]
     },
     "execution_count": 49,
     "metadata": {},
     "output_type": "execute_result"
    }
   ],
   "source": [
    "import random\n",
    "a1 = [random.randrange(1,101,1) for i in range(20)]; a1"
   ]
  },
  {
   "cell_type": "code",
   "execution_count": 50,
   "metadata": {},
   "outputs": [
    {
     "name": "stdout",
     "output_type": "stream",
     "text": [
      "sorted_left = [78]\n",
      "sorted_right = [53]\n",
      "first while else, arr2= [53] , d2= 0\n",
      "second while, arr1= [78] , d1= 0\n",
      "sorted_left = [53, 78]\n",
      "sorted_left = [49]\n",
      "sorted_left = [65]\n",
      "sorted_right = [8]\n",
      "first while else, arr2= [8] , d2= 0\n",
      "second while, arr1= [65] , d1= 0\n",
      "sorted_right = [8, 65]\n",
      "first while else, arr2= [8, 65] , d2= 0\n",
      "first while if, arr1= [49] , d1= 0\n",
      "third while, arr2= [8, 65] , d2= 1\n",
      "sorted_right = [8, 49, 65]\n",
      "first while else, arr2= [8, 49, 65] , d2= 0\n",
      "first while else, arr2= [8, 49, 65] , d2= 1\n",
      "first while if, arr1= [53, 78] , d1= 0\n",
      "first while else, arr2= [8, 49, 65] , d2= 2\n",
      "second while, arr1= [53, 78] , d1= 1\n",
      "sorted_left = [8, 49, 53, 65, 78]\n",
      "sorted_left = [71]\n",
      "sorted_right = [8]\n",
      "first while else, arr2= [8] , d2= 0\n",
      "second while, arr1= [71] , d1= 0\n",
      "sorted_left = [8, 71]\n",
      "sorted_left = [47]\n",
      "sorted_left = [66]\n",
      "sorted_right = [3]\n",
      "first while else, arr2= [3] , d2= 0\n",
      "second while, arr1= [66] , d1= 0\n",
      "sorted_right = [3, 66]\n",
      "first while else, arr2= [3, 66] , d2= 0\n",
      "first while if, arr1= [47] , d1= 0\n",
      "third while, arr2= [3, 66] , d2= 1\n",
      "sorted_right = [3, 47, 66]\n",
      "first while else, arr2= [3, 47, 66] , d2= 0\n",
      "first while if, arr1= [8, 71] , d1= 0\n",
      "first while else, arr2= [3, 47, 66] , d2= 1\n",
      "first while else, arr2= [3, 47, 66] , d2= 2\n",
      "second while, arr1= [8, 71] , d1= 1\n",
      "sorted_right = [3, 8, 47, 66, 71]\n",
      "first while else, arr2= [3, 8, 47, 66, 71] , d2= 0\n",
      "first while else, arr2= [3, 8, 47, 66, 71] , d2= 1\n",
      "first while if, arr1= [8, 49, 53, 65, 78] , d1= 0\n",
      "first while else, arr2= [3, 8, 47, 66, 71] , d2= 2\n",
      "first while if, arr1= [8, 49, 53, 65, 78] , d1= 1\n",
      "first while if, arr1= [8, 49, 53, 65, 78] , d1= 2\n",
      "first while if, arr1= [8, 49, 53, 65, 78] , d1= 3\n",
      "first while else, arr2= [3, 8, 47, 66, 71] , d2= 3\n",
      "first while else, arr2= [3, 8, 47, 66, 71] , d2= 4\n",
      "second while, arr1= [8, 49, 53, 65, 78] , d1= 4\n",
      "sorted_left = [3, 8, 8, 47, 49, 53, 65, 66, 71, 78]\n",
      "sorted_left = [21]\n",
      "sorted_right = [14]\n",
      "first while else, arr2= [14] , d2= 0\n",
      "second while, arr1= [21] , d1= 0\n",
      "sorted_left = [14, 21]\n",
      "sorted_left = [43]\n",
      "sorted_left = [31]\n",
      "sorted_right = [42]\n",
      "first while if, arr1= [31] , d1= 0\n",
      "third while, arr2= [42] , d2= 0\n",
      "sorted_right = [31, 42]\n",
      "first while else, arr2= [31, 42] , d2= 0\n",
      "first while else, arr2= [31, 42] , d2= 1\n",
      "second while, arr1= [43] , d1= 0\n",
      "sorted_right = [31, 42, 43]\n",
      "first while if, arr1= [14, 21] , d1= 0\n",
      "first while if, arr1= [14, 21] , d1= 1\n",
      "third while, arr2= [31, 42, 43] , d2= 0\n",
      "third while, arr2= [31, 42, 43] , d2= 1\n",
      "third while, arr2= [31, 42, 43] , d2= 2\n",
      "sorted_left = [14, 21, 31, 42, 43]\n",
      "sorted_left = [84]\n",
      "sorted_right = [35]\n",
      "first while else, arr2= [35] , d2= 0\n",
      "second while, arr1= [84] , d1= 0\n",
      "sorted_left = [35, 84]\n",
      "sorted_left = [3]\n",
      "sorted_left = [4]\n",
      "sorted_right = [6]\n",
      "first while if, arr1= [4] , d1= 0\n",
      "third while, arr2= [6] , d2= 0\n",
      "sorted_right = [4, 6]\n",
      "first while if, arr1= [3] , d1= 0\n",
      "third while, arr2= [4, 6] , d2= 0\n",
      "third while, arr2= [4, 6] , d2= 1\n",
      "sorted_right = [3, 4, 6]\n",
      "first while else, arr2= [3, 4, 6] , d2= 0\n",
      "first while else, arr2= [3, 4, 6] , d2= 1\n",
      "first while else, arr2= [3, 4, 6] , d2= 2\n",
      "second while, arr1= [35, 84] , d1= 0\n",
      "second while, arr1= [35, 84] , d1= 1\n",
      "sorted_right = [3, 4, 6, 35, 84]\n",
      "first while else, arr2= [3, 4, 6, 35, 84] , d2= 0\n",
      "first while else, arr2= [3, 4, 6, 35, 84] , d2= 1\n",
      "first while else, arr2= [3, 4, 6, 35, 84] , d2= 2\n",
      "first while if, arr1= [14, 21, 31, 42, 43] , d1= 0\n",
      "first while if, arr1= [14, 21, 31, 42, 43] , d1= 1\n",
      "first while if, arr1= [14, 21, 31, 42, 43] , d1= 2\n",
      "first while else, arr2= [3, 4, 6, 35, 84] , d2= 3\n",
      "first while if, arr1= [14, 21, 31, 42, 43] , d1= 3\n",
      "first while if, arr1= [14, 21, 31, 42, 43] , d1= 4\n",
      "third while, arr2= [3, 4, 6, 35, 84] , d2= 4\n",
      "sorted_right = [3, 4, 6, 14, 21, 31, 35, 42, 43, 84]\n",
      "first while else, arr2= [3, 4, 6, 14, 21, 31, 35, 42, 43, 84] , d2= 0\n",
      "first while if, arr1= [3, 8, 8, 47, 49, 53, 65, 66, 71, 78] , d1= 0\n",
      "first while else, arr2= [3, 4, 6, 14, 21, 31, 35, 42, 43, 84] , d2= 1\n",
      "first while else, arr2= [3, 4, 6, 14, 21, 31, 35, 42, 43, 84] , d2= 2\n",
      "first while if, arr1= [3, 8, 8, 47, 49, 53, 65, 66, 71, 78] , d1= 1\n",
      "first while if, arr1= [3, 8, 8, 47, 49, 53, 65, 66, 71, 78] , d1= 2\n",
      "first while else, arr2= [3, 4, 6, 14, 21, 31, 35, 42, 43, 84] , d2= 3\n",
      "first while else, arr2= [3, 4, 6, 14, 21, 31, 35, 42, 43, 84] , d2= 4\n",
      "first while else, arr2= [3, 4, 6, 14, 21, 31, 35, 42, 43, 84] , d2= 5\n",
      "first while else, arr2= [3, 4, 6, 14, 21, 31, 35, 42, 43, 84] , d2= 6\n",
      "first while else, arr2= [3, 4, 6, 14, 21, 31, 35, 42, 43, 84] , d2= 7\n",
      "first while else, arr2= [3, 4, 6, 14, 21, 31, 35, 42, 43, 84] , d2= 8\n",
      "first while if, arr1= [3, 8, 8, 47, 49, 53, 65, 66, 71, 78] , d1= 3\n",
      "first while if, arr1= [3, 8, 8, 47, 49, 53, 65, 66, 71, 78] , d1= 4\n",
      "first while if, arr1= [3, 8, 8, 47, 49, 53, 65, 66, 71, 78] , d1= 5\n",
      "first while if, arr1= [3, 8, 8, 47, 49, 53, 65, 66, 71, 78] , d1= 6\n",
      "first while if, arr1= [3, 8, 8, 47, 49, 53, 65, 66, 71, 78] , d1= 7\n",
      "first while if, arr1= [3, 8, 8, 47, 49, 53, 65, 66, 71, 78] , d1= 8\n",
      "first while if, arr1= [3, 8, 8, 47, 49, 53, 65, 66, 71, 78] , d1= 9\n",
      "third while, arr2= [3, 4, 6, 14, 21, 31, 35, 42, 43, 84] , d2= 9\n"
     ]
    },
    {
     "data": {
      "text/plain": [
       "[3, 3, 4, 6, 8, 8, 14, 21, 31, 35, 42, 43, 47, 49, 53, 65, 66, 71, 78, 84]"
      ]
     },
     "execution_count": 50,
     "metadata": {},
     "output_type": "execute_result"
    }
   ],
   "source": [
    "a2 = mergesort(a1); a2"
   ]
  },
  {
   "cell_type": "code",
   "execution_count": 51,
   "metadata": {},
   "outputs": [
    {
     "name": "stdout",
     "output_type": "stream",
     "text": [
      "In a1 but not in a2: []\n",
      "In a2 but not in a1: []\n"
     ]
    },
    {
     "data": {
      "text/plain": [
       "(None, None)"
      ]
     },
     "execution_count": 51,
     "metadata": {},
     "output_type": "execute_result"
    }
   ],
   "source": [
    "from collections import Counter\n",
    "c1, c2 = Counter(a1), Counter(a2)\n",
    "diff1, diff2 = (c1 - c2), (c2 - c1)\n",
    "print('In a1 but not in a2:', list(diff1.elements())), print('In a2 but not in a1:', list(diff2.elements()))"
   ]
  },
  {
   "cell_type": "code",
   "execution_count": 36,
   "metadata": {},
   "outputs": [
    {
     "name": "stdout",
     "output_type": "stream",
     "text": [
      "sorted_left = [9]\n",
      "sorted_right = [8]\n",
      "first while else, arr2= [8] , d2= 0\n",
      "second while, arr1= [9] , d1= 0\n",
      "sorted_left = [8, 9]\n",
      "sorted_left = [7]\n",
      "sorted_right = [6]\n",
      "first while else, arr2= [6] , d2= 0\n",
      "second while, arr1= [7] , d1= 0\n",
      "sorted_right = [6, 7]\n",
      "first while else, arr2= [6, 7] , d2= 0\n",
      "first while else, arr2= [6, 7] , d2= 1\n",
      "second while, arr1= [8, 9] , d1= 0\n",
      "second while, arr1= [8, 9] , d1= 1\n",
      "sorted_left = [6, 7, 8, 9]\n",
      "sorted_left = [5]\n",
      "sorted_right = [4]\n",
      "first while else, arr2= [4] , d2= 0\n",
      "second while, arr1= [5] , d1= 0\n",
      "sorted_left = [4, 5]\n",
      "sorted_left = [3]\n",
      "sorted_left = [2]\n",
      "sorted_right = [1]\n",
      "first while else, arr2= [1] , d2= 0\n",
      "second while, arr1= [2] , d1= 0\n",
      "sorted_right = [1, 2]\n",
      "first while else, arr2= [1, 2] , d2= 0\n",
      "first while else, arr2= [1, 2] , d2= 1\n",
      "second while, arr1= [3] , d1= 0\n",
      "sorted_right = [1, 2, 3]\n",
      "first while else, arr2= [1, 2, 3] , d2= 0\n",
      "first while else, arr2= [1, 2, 3] , d2= 1\n",
      "first while else, arr2= [1, 2, 3] , d2= 2\n",
      "second while, arr1= [4, 5] , d1= 0\n",
      "second while, arr1= [4, 5] , d1= 1\n",
      "sorted_right = [1, 2, 3, 4, 5]\n",
      "first while else, arr2= [1, 2, 3, 4, 5] , d2= 0\n",
      "first while else, arr2= [1, 2, 3, 4, 5] , d2= 1\n",
      "first while else, arr2= [1, 2, 3, 4, 5] , d2= 2\n",
      "first while else, arr2= [1, 2, 3, 4, 5] , d2= 3\n",
      "first while else, arr2= [1, 2, 3, 4, 5] , d2= 4\n",
      "second while, arr1= [6, 7, 8, 9] , d1= 0\n",
      "second while, arr1= [6, 7, 8, 9] , d1= 1\n",
      "second while, arr1= [6, 7, 8, 9] , d1= 2\n",
      "second while, arr1= [6, 7, 8, 9] , d1= 3\n"
     ]
    },
    {
     "data": {
      "text/plain": [
       "[1, 2, 3, 4, 5, 6, 7, 8, 9]"
      ]
     },
     "execution_count": 36,
     "metadata": {},
     "output_type": "execute_result"
    }
   ],
   "source": [
    "arr = [9,8,7,6,5,4,3,2,1]\n",
    "mergesort(arr)"
   ]
  },
  {
   "cell_type": "code",
   "execution_count": 37,
   "metadata": {},
   "outputs": [
    {
     "data": {
      "text/plain": [
       "([26, 50, 17, 38], [3, 89, 13, 38])"
      ]
     },
     "execution_count": 37,
     "metadata": {},
     "output_type": "execute_result"
    }
   ],
   "source": [
    "arr1 = [random.randrange(1,101,1) for i in range(4)]\n",
    "arr2 = [random.randrange(1,101,1) for i in range(4)]\n",
    "arr1, arr2"
   ]
  },
  {
   "cell_type": "code",
   "execution_count": 38,
   "metadata": {},
   "outputs": [
    {
     "data": {
      "text/plain": [
       "([17, 26, 38, 50], [3, 13, 38, 89])"
      ]
     },
     "execution_count": 38,
     "metadata": {},
     "output_type": "execute_result"
    }
   ],
   "source": [
    "arr1.sort()\n",
    "arr2.sort()\n",
    "arr1, arr2"
   ]
  },
  {
   "cell_type": "code",
   "execution_count": 39,
   "metadata": {},
   "outputs": [
    {
     "name": "stdout",
     "output_type": "stream",
     "text": [
      "first while else, arr2= [3, 13, 38, 89] , d2= 0\n",
      "first while else, arr2= [3, 13, 38, 89] , d2= 1\n",
      "first while if, arr1= [17, 26, 38, 50] , d1= 0\n",
      "first while if, arr1= [17, 26, 38, 50] , d1= 1\n",
      "first while else, arr2= [3, 13, 38, 89] , d2= 2\n",
      "first while if, arr1= [17, 26, 38, 50] , d1= 2\n",
      "first while if, arr1= [17, 26, 38, 50] , d1= 3\n",
      "third while, arr2= [3, 13, 38, 89] , d2= 3\n"
     ]
    },
    {
     "data": {
      "text/plain": [
       "[3, 13, 17, 26, 38, 38, 50, 89]"
      ]
     },
     "execution_count": 39,
     "metadata": {},
     "output_type": "execute_result"
    }
   ],
   "source": [
    "merge(arr1, arr2)"
   ]
  },
  {
   "cell_type": "code",
   "execution_count": 40,
   "metadata": {},
   "outputs": [
    {
     "data": {
      "text/plain": [
       "([2, 44, 48, 52, 52, 65, 67, 68, 86, 95],\n",
       " [4, 4, 20, 21, 31, 34, 71, 73, 79, 90])"
      ]
     },
     "execution_count": 40,
     "metadata": {},
     "output_type": "execute_result"
    }
   ],
   "source": [
    "arr1 = [random.randrange(1,101,1) for i in range(10)]\n",
    "arr2 = [random.randrange(1,101,1) for i in range(10)]\n",
    "arr1.sort()\n",
    "arr2.sort()\n",
    "arr1, arr2"
   ]
  },
  {
   "cell_type": "code",
   "execution_count": 41,
   "metadata": {},
   "outputs": [
    {
     "name": "stdout",
     "output_type": "stream",
     "text": [
      "first while if, arr1= [2, 44, 48, 52, 52, 65, 67, 68, 86, 95] , d1= 0\n",
      "first while else, arr2= [4, 4, 20, 21, 31, 34, 71, 73, 79, 90] , d2= 0\n",
      "first while else, arr2= [4, 4, 20, 21, 31, 34, 71, 73, 79, 90] , d2= 1\n",
      "first while else, arr2= [4, 4, 20, 21, 31, 34, 71, 73, 79, 90] , d2= 2\n",
      "first while else, arr2= [4, 4, 20, 21, 31, 34, 71, 73, 79, 90] , d2= 3\n",
      "first while else, arr2= [4, 4, 20, 21, 31, 34, 71, 73, 79, 90] , d2= 4\n",
      "first while else, arr2= [4, 4, 20, 21, 31, 34, 71, 73, 79, 90] , d2= 5\n",
      "first while if, arr1= [2, 44, 48, 52, 52, 65, 67, 68, 86, 95] , d1= 1\n",
      "first while if, arr1= [2, 44, 48, 52, 52, 65, 67, 68, 86, 95] , d1= 2\n",
      "first while if, arr1= [2, 44, 48, 52, 52, 65, 67, 68, 86, 95] , d1= 3\n",
      "first while if, arr1= [2, 44, 48, 52, 52, 65, 67, 68, 86, 95] , d1= 4\n",
      "first while if, arr1= [2, 44, 48, 52, 52, 65, 67, 68, 86, 95] , d1= 5\n",
      "first while if, arr1= [2, 44, 48, 52, 52, 65, 67, 68, 86, 95] , d1= 6\n",
      "first while if, arr1= [2, 44, 48, 52, 52, 65, 67, 68, 86, 95] , d1= 7\n",
      "first while else, arr2= [4, 4, 20, 21, 31, 34, 71, 73, 79, 90] , d2= 6\n",
      "first while else, arr2= [4, 4, 20, 21, 31, 34, 71, 73, 79, 90] , d2= 7\n",
      "first while else, arr2= [4, 4, 20, 21, 31, 34, 71, 73, 79, 90] , d2= 8\n",
      "first while if, arr1= [2, 44, 48, 52, 52, 65, 67, 68, 86, 95] , d1= 8\n",
      "first while else, arr2= [4, 4, 20, 21, 31, 34, 71, 73, 79, 90] , d2= 9\n",
      "second while, arr1= [2, 44, 48, 52, 52, 65, 67, 68, 86, 95] , d1= 9\n"
     ]
    },
    {
     "data": {
      "text/plain": [
       "[2, 4, 4, 20, 21, 31, 34, 44, 48, 52, 52, 65, 67, 68, 71, 73, 79, 86, 90, 95]"
      ]
     },
     "execution_count": 41,
     "metadata": {},
     "output_type": "execute_result"
    }
   ],
   "source": [
    "merge(arr1, arr2)"
   ]
  },
  {
   "cell_type": "code",
   "execution_count": 42,
   "metadata": {},
   "outputs": [],
   "source": [
    "def merge_sort(a):\n",
    "    if len(a) <= 1:\n",
    "        return a\n",
    "    mid = len(a)//2\n",
    "    lefthalf = a[:mid]\n",
    "    righthalf = a[mid:]\n",
    "    # sort left half\n",
    "    merge_sort(lefthalf)\n",
    "    # sort right half\n",
    "    merge_sort(righthalf)\n",
    "    # merge two sorted halves\n",
    "    i = 0\n",
    "    j = 0\n",
    "    temp = 0\n",
    "    while i < len(lefthalf) and j < len(righthalf): # walk through both halves\n",
    "        if lefthalf[i] < righthalf[j]: # num from lefthalf < num from righthalf\n",
    "            a[temp] = lefthalf[i] # take num from lefthalf\n",
    "            i += 1 # walk to next position in lefthalf\n",
    "            print('first while if', 'a =', a, 'i =', i)\n",
    "        else: # num from lefthalf > num from righthalf\n",
    "            a[temp] = righthalf[j] # take num from righthalf\n",
    "            j += 1 # walk to next position in lefthalf\n",
    "            print('first while else', 'a =', a, 'j =', j)\n",
    "        temp += 1 # after comparing and inserting, walk to next temp position \n",
    "    while i < len(lefthalf):\n",
    "        a[temp] = lefthalf[i]\n",
    "        i += 1\n",
    "        temp += 1\n",
    "        print('second while', 'a =', a, 'i =', i)\n",
    "    while j < len(righthalf):\n",
    "        a[temp] = righthalf[j]\n",
    "        j += 1\n",
    "        temp += 1\n",
    "        print('third while', 'a =', a, 'j =', j)\n",
    "    return a"
   ]
  },
  {
   "cell_type": "code",
   "execution_count": 43,
   "metadata": {},
   "outputs": [
    {
     "data": {
      "text/plain": [
       "[17, 99, 30, 8, 16, 70, 40, 74, 76, 67]"
      ]
     },
     "execution_count": 43,
     "metadata": {},
     "output_type": "execute_result"
    }
   ],
   "source": [
    "import random\n",
    "a = [random.randrange(1,101,1) for i in range(10)];a"
   ]
  },
  {
   "cell_type": "code",
   "execution_count": 44,
   "metadata": {},
   "outputs": [
    {
     "name": "stdout",
     "output_type": "stream",
     "text": [
      "first while if a = [17, 99] i = 1\n",
      "third while a = [17, 99] j = 1\n",
      "first while if a = [8, 16] i = 1\n",
      "third while a = [8, 16] j = 1\n",
      "first while else a = [8, 8, 16] j = 1\n",
      "first while else a = [8, 16, 16] j = 2\n",
      "second while a = [8, 16, 30] i = 1\n",
      "first while else a = [8, 99, 30, 8, 16] j = 1\n",
      "first while else a = [8, 16, 30, 8, 16] j = 2\n",
      "first while if a = [8, 16, 17, 8, 16] i = 1\n",
      "first while else a = [8, 16, 17, 30, 16] j = 3\n",
      "second while a = [8, 16, 17, 30, 99] i = 2\n",
      "first while else a = [40, 40] j = 1\n",
      "second while a = [40, 70] i = 1\n",
      "first while else a = [67, 67] j = 1\n",
      "second while a = [67, 76] i = 1\n",
      "first while else a = [67, 76, 67] j = 1\n",
      "first while if a = [67, 74, 67] i = 1\n",
      "third while a = [67, 74, 76] j = 2\n",
      "first while if a = [40, 40, 74, 76, 67] i = 1\n",
      "first while else a = [40, 67, 74, 76, 67] j = 1\n",
      "first while if a = [40, 67, 70, 76, 67] i = 2\n",
      "third while a = [40, 67, 70, 74, 67] j = 2\n",
      "third while a = [40, 67, 70, 74, 76] j = 3\n",
      "first while if a = [8, 99, 30, 8, 16, 70, 40, 74, 76, 67] i = 1\n",
      "first while if a = [8, 16, 30, 8, 16, 70, 40, 74, 76, 67] i = 2\n",
      "first while if a = [8, 16, 17, 8, 16, 70, 40, 74, 76, 67] i = 3\n",
      "first while if a = [8, 16, 17, 30, 16, 70, 40, 74, 76, 67] i = 4\n",
      "first while else a = [8, 16, 17, 30, 40, 70, 40, 74, 76, 67] j = 1\n",
      "first while else a = [8, 16, 17, 30, 40, 67, 40, 74, 76, 67] j = 2\n",
      "first while else a = [8, 16, 17, 30, 40, 67, 70, 74, 76, 67] j = 3\n",
      "first while else a = [8, 16, 17, 30, 40, 67, 70, 74, 76, 67] j = 4\n",
      "first while else a = [8, 16, 17, 30, 40, 67, 70, 74, 76, 67] j = 5\n",
      "second while a = [8, 16, 17, 30, 40, 67, 70, 74, 76, 99] i = 5\n"
     ]
    },
    {
     "data": {
      "text/plain": [
       "[8, 16, 17, 30, 40, 67, 70, 74, 76, 99]"
      ]
     },
     "execution_count": 44,
     "metadata": {},
     "output_type": "execute_result"
    }
   ],
   "source": [
    "merge_sort(a)"
   ]
  },
  {
   "cell_type": "code",
   "execution_count": 30,
   "metadata": {},
   "outputs": [
    {
     "data": {
      "text/plain": [
       "[73, 71, 56, 7, 65, 76, 74, 60, 93, 63, 9, 3, 23, 68, 43, 30, 99, 13, 30, 70]"
      ]
     },
     "execution_count": 30,
     "metadata": {},
     "output_type": "execute_result"
    }
   ],
   "source": [
    "import random\n",
    "a = [random.randrange(1,101,1) for i in range(20)];a"
   ]
  },
  {
   "cell_type": "code",
   "execution_count": 31,
   "metadata": {},
   "outputs": [
    {
     "name": "stdout",
     "output_type": "stream",
     "text": [
      "first while else a = [71, 71] j = 1\n",
      "second while a = [71, 73] i = 1\n",
      "first while if a = [7, 65] i = 1\n",
      "third while a = [7, 65] j = 1\n",
      "first while else a = [7, 7, 65] j = 1\n",
      "first while if a = [7, 56, 65] i = 1\n",
      "third while a = [7, 56, 65] j = 2\n",
      "first while else a = [7, 71, 56, 7, 65] j = 1\n",
      "first while else a = [7, 56, 56, 7, 65] j = 2\n",
      "first while else a = [7, 56, 65, 7, 65] j = 3\n",
      "second while a = [7, 56, 65, 71, 65] i = 1\n",
      "second while a = [7, 56, 65, 71, 73] i = 2\n",
      "first while else a = [74, 74] j = 1\n",
      "second while a = [74, 76] i = 1\n",
      "first while else a = [63, 63] j = 1\n",
      "second while a = [63, 93] i = 1\n",
      "first while if a = [60, 93, 63] i = 1\n",
      "third while a = [60, 63, 63] j = 1\n",
      "third while a = [60, 63, 93] j = 2\n",
      "first while else a = [60, 74, 60, 93, 63] j = 1\n",
      "first while else a = [60, 63, 60, 93, 63] j = 2\n",
      "first while if a = [60, 63, 74, 93, 63] i = 1\n",
      "first while if a = [60, 63, 74, 76, 63] i = 2\n",
      "third while a = [60, 63, 74, 76, 93] j = 3\n",
      "first while if a = [7, 71, 56, 7, 65, 76, 74, 60, 93, 63] i = 1\n",
      "first while if a = [7, 56, 56, 7, 65, 76, 74, 60, 93, 63] i = 2\n",
      "first while else a = [7, 56, 60, 7, 65, 76, 74, 60, 93, 63] j = 1\n",
      "first while else a = [7, 56, 60, 63, 65, 76, 74, 60, 93, 63] j = 2\n",
      "first while if a = [7, 56, 60, 63, 65, 76, 74, 60, 93, 63] i = 3\n",
      "first while if a = [7, 56, 60, 63, 65, 71, 74, 60, 93, 63] i = 4\n",
      "first while if a = [7, 56, 60, 63, 65, 71, 73, 60, 93, 63] i = 5\n",
      "third while a = [7, 56, 60, 63, 65, 71, 73, 74, 93, 63] j = 3\n",
      "third while a = [7, 56, 60, 63, 65, 71, 73, 74, 76, 63] j = 4\n",
      "third while a = [7, 56, 60, 63, 65, 71, 73, 74, 76, 93] j = 5\n",
      "first while else a = [3, 3] j = 1\n",
      "second while a = [3, 9] i = 1\n",
      "first while else a = [43, 43] j = 1\n",
      "second while a = [43, 68] i = 1\n",
      "first while if a = [23, 68, 43] i = 1\n",
      "third while a = [23, 43, 43] j = 1\n",
      "third while a = [23, 43, 68] j = 2\n",
      "first while if a = [3, 3, 23, 68, 43] i = 1\n",
      "first while if a = [3, 9, 23, 68, 43] i = 2\n",
      "third while a = [3, 9, 23, 68, 43] j = 1\n",
      "third while a = [3, 9, 23, 43, 43] j = 2\n",
      "third while a = [3, 9, 23, 43, 68] j = 3\n",
      "first while if a = [30, 99] i = 1\n",
      "third while a = [30, 99] j = 1\n",
      "first while if a = [30, 70] i = 1\n",
      "third while a = [30, 70] j = 1\n",
      "first while if a = [13, 30, 70] i = 1\n",
      "third while a = [13, 30, 70] j = 1\n",
      "third while a = [13, 30, 70] j = 2\n",
      "first while else a = [13, 99, 13, 30, 70] j = 1\n",
      "first while else a = [13, 30, 13, 30, 70] j = 2\n",
      "first while if a = [13, 30, 30, 30, 70] i = 1\n",
      "first while else a = [13, 30, 30, 70, 70] j = 3\n",
      "second while a = [13, 30, 30, 70, 99] i = 2\n",
      "first while if a = [3, 3, 23, 68, 43, 30, 99, 13, 30, 70] i = 1\n",
      "first while if a = [3, 9, 23, 68, 43, 30, 99, 13, 30, 70] i = 2\n",
      "first while else a = [3, 9, 13, 68, 43, 30, 99, 13, 30, 70] j = 1\n",
      "first while if a = [3, 9, 13, 23, 43, 30, 99, 13, 30, 70] i = 3\n",
      "first while else a = [3, 9, 13, 23, 30, 30, 99, 13, 30, 70] j = 2\n",
      "first while else a = [3, 9, 13, 23, 30, 30, 99, 13, 30, 70] j = 3\n",
      "first while if a = [3, 9, 13, 23, 30, 30, 43, 13, 30, 70] i = 4\n",
      "first while if a = [3, 9, 13, 23, 30, 30, 43, 68, 30, 70] i = 5\n",
      "third while a = [3, 9, 13, 23, 30, 30, 43, 68, 70, 70] j = 4\n",
      "third while a = [3, 9, 13, 23, 30, 30, 43, 68, 70, 99] j = 5\n",
      "first while else a = [3, 71, 56, 7, 65, 76, 74, 60, 93, 63, 9, 3, 23, 68, 43, 30, 99, 13, 30, 70] j = 1\n",
      "first while if a = [3, 7, 56, 7, 65, 76, 74, 60, 93, 63, 9, 3, 23, 68, 43, 30, 99, 13, 30, 70] i = 1\n",
      "first while else a = [3, 7, 9, 7, 65, 76, 74, 60, 93, 63, 9, 3, 23, 68, 43, 30, 99, 13, 30, 70] j = 2\n",
      "first while else a = [3, 7, 9, 13, 65, 76, 74, 60, 93, 63, 9, 3, 23, 68, 43, 30, 99, 13, 30, 70] j = 3\n",
      "first while else a = [3, 7, 9, 13, 23, 76, 74, 60, 93, 63, 9, 3, 23, 68, 43, 30, 99, 13, 30, 70] j = 4\n",
      "first while else a = [3, 7, 9, 13, 23, 30, 74, 60, 93, 63, 9, 3, 23, 68, 43, 30, 99, 13, 30, 70] j = 5\n",
      "first while else a = [3, 7, 9, 13, 23, 30, 30, 60, 93, 63, 9, 3, 23, 68, 43, 30, 99, 13, 30, 70] j = 6\n",
      "first while else a = [3, 7, 9, 13, 23, 30, 30, 43, 93, 63, 9, 3, 23, 68, 43, 30, 99, 13, 30, 70] j = 7\n",
      "first while if a = [3, 7, 9, 13, 23, 30, 30, 43, 56, 63, 9, 3, 23, 68, 43, 30, 99, 13, 30, 70] i = 2\n",
      "first while if a = [3, 7, 9, 13, 23, 30, 30, 43, 56, 60, 9, 3, 23, 68, 43, 30, 99, 13, 30, 70] i = 3\n",
      "first while if a = [3, 7, 9, 13, 23, 30, 30, 43, 56, 60, 63, 3, 23, 68, 43, 30, 99, 13, 30, 70] i = 4\n",
      "first while if a = [3, 7, 9, 13, 23, 30, 30, 43, 56, 60, 63, 65, 23, 68, 43, 30, 99, 13, 30, 70] i = 5\n",
      "first while else a = [3, 7, 9, 13, 23, 30, 30, 43, 56, 60, 63, 65, 68, 68, 43, 30, 99, 13, 30, 70] j = 8\n",
      "first while else a = [3, 7, 9, 13, 23, 30, 30, 43, 56, 60, 63, 65, 68, 70, 43, 30, 99, 13, 30, 70] j = 9\n",
      "first while if a = [3, 7, 9, 13, 23, 30, 30, 43, 56, 60, 63, 65, 68, 70, 71, 30, 99, 13, 30, 70] i = 6\n",
      "first while if a = [3, 7, 9, 13, 23, 30, 30, 43, 56, 60, 63, 65, 68, 70, 71, 73, 99, 13, 30, 70] i = 7\n",
      "first while if a = [3, 7, 9, 13, 23, 30, 30, 43, 56, 60, 63, 65, 68, 70, 71, 73, 74, 13, 30, 70] i = 8\n",
      "first while if a = [3, 7, 9, 13, 23, 30, 30, 43, 56, 60, 63, 65, 68, 70, 71, 73, 74, 76, 30, 70] i = 9\n",
      "first while if a = [3, 7, 9, 13, 23, 30, 30, 43, 56, 60, 63, 65, 68, 70, 71, 73, 74, 76, 93, 70] i = 10\n",
      "third while a = [3, 7, 9, 13, 23, 30, 30, 43, 56, 60, 63, 65, 68, 70, 71, 73, 74, 76, 93, 99] j = 10\n"
     ]
    },
    {
     "data": {
      "text/plain": [
       "[3, 7, 9, 13, 23, 30, 30, 43, 56, 60, 63, 65, 68, 70, 71, 73, 74, 76, 93, 99]"
      ]
     },
     "execution_count": 31,
     "metadata": {},
     "output_type": "execute_result"
    }
   ],
   "source": [
    "merge_sort(a)"
   ]
  },
  {
   "cell_type": "code",
   "execution_count": null,
   "metadata": {},
   "outputs": [],
   "source": [
    "def merge(arr1, arr2):\n",
    "    result = []\n",
    "    d1 = d2 = 0\n",
    "    # walk through\n",
    "    while d1 < len(arr1) and d2 < len(arr2):\n",
    "        if arr1[d1] < arr2[d2]:\n",
    "            result.append(arr1[d1]) # \n",
    "            print('first while if,', 'arr1=', arr1, ', d1=', d1)\n",
    "            d1 += 1\n",
    "        else:\n",
    "            result.append(arr2[d2])\n",
    "            print('first while else,', 'arr2=', arr2, ', d2=', d2)\n",
    "            d2 += 1\n",
    "    while d1 < len(arr1):\n",
    "        result.append(arr1[d1])\n",
    "        print('second while,', 'arr1=', arr1, ', d1=', d1)\n",
    "        d1 += 1\n",
    "    while d2 < len(arr2):\n",
    "        result.append(arr2[d2])\n",
    "        print('third while,', 'arr2=', arr2, ', d2=', d2)\n",
    "        d2 += 1\n",
    "    return result\n",
    "\n",
    "def merg(arr1, arr2):\n",
    "    result = []\n",
    "    \n",
    "    result.append(arr1.pop(0))"
   ]
  }
 ],
 "metadata": {
  "kernelspec": {
   "display_name": "Python",
   "language": "python",
   "name": "python3"
  },
  "language_info": {
   "codemirror_mode": {
    "name": "ipython",
    "version": 3
   },
   "file_extension": ".py",
   "mimetype": "text/x-python",
   "name": "python",
   "nbconvert_exporter": "python",
   "pygments_lexer": "ipython3",
   "version": "3.6.4"
  }
 },
 "nbformat": 4,
 "nbformat_minor": 2
}
