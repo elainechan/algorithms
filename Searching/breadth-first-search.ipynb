{
 "cells": [
  {
   "cell_type": "markdown",
   "metadata": {},
   "source": [
    "# Breadth-first Search\n",
    "\n",
    "## Gist\n",
    "1. Is there a path from node A to node B?\n",
    "2. What is the shortest path from node A to node B?\n",
    "\n",
    "## Steps\n",
    "1. Keep a queue containing elems to check\n",
    "2. Pop an elem off the queue\n",
    "3. Check if elem meets condition\n",
    "4. If yes: done\n",
    "5. If no: add all of elem's neighbors to queue\n",
    "6. Do 1 to 5 with every elem\n",
    "7. If the queue is empty, there are no elems in the network meeting the condition"
   ]
  },
  {
   "cell_type": "markdown",
   "metadata": {},
   "source": [
    "## Find single people in your network"
   ]
  },
  {
   "cell_type": "code",
   "execution_count": 37,
   "metadata": {},
   "outputs": [],
   "source": [
    "from typing import NamedTuple\n",
    "User = NamedTuple('User', [('name', str), ('single', bool)])\n",
    "you = User('you', True)\n",
    "alice = User('alice', False)\n",
    "bob = User('bob', False)\n",
    "clare = User('clare', True)\n",
    "anuj = User('anuj', False)\n",
    "peggy = User('peggy', False)\n",
    "tom = User('tom', False)\n",
    "jon = User('jon', True)"
   ]
  },
  {
   "cell_type": "code",
   "execution_count": 38,
   "metadata": {},
   "outputs": [
    {
     "data": {
      "text/plain": [
       "('name', 'single')"
      ]
     },
     "execution_count": 38,
     "metadata": {},
     "output_type": "execute_result"
    }
   ],
   "source": [
    "you._fields"
   ]
  },
  {
   "cell_type": "code",
   "execution_count": 39,
   "metadata": {},
   "outputs": [
    {
     "data": {
      "text/plain": [
       "{User(name='alice', single=False): [User(name='peggy', single=False)],\n",
       " User(name='anuj', single=False): [],\n",
       " User(name='bob', single=False): [User(name='anuj', single=False),\n",
       "  User(name='peggy', single=False)],\n",
       " User(name='clare', single=True): [User(name='tom', single=False),\n",
       "  User(name='jon', single=True)],\n",
       " User(name='jon', single=True): [],\n",
       " User(name='peggy', single=False): [],\n",
       " User(name='tom', single=False): [],\n",
       " User(name='you', single=True): [User(name='alice', single=False),\n",
       "  User(name='bob', single=False),\n",
       "  User(name='clare', single=True)]}"
      ]
     },
     "execution_count": 39,
     "metadata": {},
     "output_type": "execute_result"
    }
   ],
   "source": [
    "graph = {}\n",
    "graph[you] = [alice, bob, clare]\n",
    "graph[bob] = [anuj, peggy]\n",
    "graph[alice] = [peggy]\n",
    "graph[clare] = [tom, jon]\n",
    "graph[anuj] = []\n",
    "graph[peggy] = []\n",
    "graph[tom] = []\n",
    "graph[jon] = []\n",
    "graph"
   ]
  },
  {
   "cell_type": "code",
   "execution_count": 40,
   "metadata": {},
   "outputs": [],
   "source": [
    "from collections import deque\n",
    "def find_singles(network):\n",
    "    singles = []\n",
    "    search_queue = deque()\n",
    "    search_queue += network[you]\n",
    "    while search_queue:\n",
    "        this_user = search_queue.popleft()\n",
    "        if this_user.single == True:\n",
    "            singles.append(this_user)\n",
    "            search_queue += network[this_user]\n",
    "        else:\n",
    "            search_queue += network[this_user]\n",
    "    return singles"
   ]
  },
  {
   "cell_type": "code",
   "execution_count": 41,
   "metadata": {},
   "outputs": [
    {
     "data": {
      "text/plain": [
       "[User(name='clare', single=True), User(name='jon', single=True)]"
      ]
     },
     "execution_count": 41,
     "metadata": {},
     "output_type": "execute_result"
    }
   ],
   "source": [
    "find_singles(graph)"
   ]
  },
  {
   "cell_type": "code",
   "execution_count": null,
   "metadata": {},
   "outputs": [],
   "source": []
  }
 ],
 "metadata": {
  "kernelspec": {
   "display_name": "Electric Vine Grid",
   "language": "python",
   "name": "electric-vine-grid"
  },
  "language_info": {
   "codemirror_mode": {
    "name": "ipython",
    "version": 3
   },
   "file_extension": ".py",
   "mimetype": "text/x-python",
   "name": "python",
   "nbconvert_exporter": "python",
   "pygments_lexer": "ipython3",
   "version": "3.6.4"
  }
 },
 "nbformat": 4,
 "nbformat_minor": 2
}
