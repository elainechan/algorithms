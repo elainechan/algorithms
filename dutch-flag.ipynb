{
 "cells": [
  {
   "cell_type": "markdown",
   "metadata": {},
   "source": [
    "# Dutch National Flag Probelm\n",
    "Write a program that takes an array `A` and an index `i` into `A`, and rearranges the elements such that all elements less than `A[i]` (the “pivot”) appear first, followed by elements equal to the pivot,\n",
    "followed by elements greater than the pivot."
   ]
  },
  {
   "cell_type": "markdown",
   "metadata": {},
   "source": [
    "How to print colors with plain Python\n",
    "https://stackoverflow.com/questions/287871/print-in-terminal-with-colors\n",
    "\n",
    "ANSI colors\n",
    "https://en.wikipedia.org/wiki/ANSI_escape_code#Colors"
   ]
  },
  {
   "cell_type": "code",
   "execution_count": 67,
   "metadata": {},
   "outputs": [
    {
     "name": "stdout",
     "output_type": "stream",
     "text": [
      "\u001b[48;5;230m                                                            \u001b[0m\n",
      "\u001b[48;5;230m                                                            \u001b[0m\n",
      "\u001b[48;5;230m                                                            \u001b[0m\n",
      "\n",
      "\u001b[48;5;160m                                                            \u001b[0m\n",
      "\u001b[48;5;160m                                                            \u001b[0m\n",
      "\u001b[48;5;160m                                                            \u001b[0m\n",
      "\n",
      "\u001b[48;5;21m                                                            \u001b[0m\n",
      "\u001b[48;5;21m                                                            \u001b[0m\n",
      "\u001b[48;5;21m                                                            \u001b[0m\n",
      "\n"
     ]
    }
   ],
   "source": [
    "BG = \"\\33[48;5;\"\n",
    "STRIPE = \" \"*60\n",
    "RED = \"160m\"\n",
    "WHITE = \"230m\"\n",
    "BLUE = \"21m\"\n",
    "END = \"\\33[0m\"\n",
    "NEWLINE = \"\\n\"\n",
    "print((BG + WHITE + STRIPE + END + NEWLINE)*3)\n",
    "print((BG + RED + STRIPE + END + NEWLINE)*3)\n",
    "print((BG + BLUE + STRIPE + END + NEWLINE)*3)"
   ]
  },
  {
   "cell_type": "code",
   "execution_count": 68,
   "metadata": {},
   "outputs": [],
   "source": [
    "red = BG + RED + STRIPE + END + NEWLINE\n",
    "white = BG + WHITE + STRIPE + END + NEWLINE\n",
    "blue = BG + BLUE + STRIPE + END + NEWLINE"
   ]
  },
  {
   "cell_type": "markdown",
   "metadata": {},
   "source": [
    "    - First pass: start from beginning and search for each additional element less than pivot\n",
    "    - Second pass: start from end and search for each element greater than pivot"
   ]
  },
  {
   "cell_type": "code",
   "execution_count": 101,
   "metadata": {},
   "outputs": [],
   "source": [
    "def dutch_flag(A, pivot_index):\n",
    "    pivot = A[pivot_index]\n",
    "    counter = 0\n",
    "    # First pass: group elems less than pivot\n",
    "    # Start at beginning of A\n",
    "    for this in range(len(A)):\n",
    "        for _next in range(this + 1, len(A)): # next position\n",
    "            if A[_next] < pivot:\n",
    "                A[this], A[_next] = A[_next], A[this]\n",
    "                counter += 1\n",
    "                break\n",
    "    # Second pass: group elems greater than pivot\n",
    "    # Start at end of A because elems less than pivot has moved to start of A\n",
    "    for this in reversed(range(len(A))):\n",
    "        for _next in reversed(range(this)):\n",
    "            if A[_next] > pivot:\n",
    "                A[this], A[_next] = A[_next], A[this]\n",
    "                counter += 1\n",
    "                break\n",
    "    return A, counter"
   ]
  },
  {
   "cell_type": "code",
   "execution_count": 73,
   "metadata": {},
   "outputs": [
    {
     "data": {
      "text/plain": [
       "[5, 4, 3, 2, 1, 0]"
      ]
     },
     "execution_count": 73,
     "metadata": {},
     "output_type": "execute_result"
    }
   ],
   "source": [
    "[i for i in reversed(range(6))]"
   ]
  },
  {
   "cell_type": "code",
   "execution_count": 109,
   "metadata": {},
   "outputs": [
    {
     "data": {
      "text/plain": [
       "([0, 0, 0, 1, 2, 1, 2, 2, 1], 6)"
      ]
     },
     "execution_count": 109,
     "metadata": {},
     "output_type": "execute_result"
    }
   ],
   "source": [
    "ints = [0,1,2,0,1,2,0,1,2]\n",
    "dutch_flag(ints, 0)\n"
   ]
  },
  {
   "cell_type": "code",
   "execution_count": 110,
   "metadata": {},
   "outputs": [
    {
     "data": {
      "text/plain": [
       "([0, 0, 0, 1, 1, 2, 1, 2, 2], 5)"
      ]
     },
     "execution_count": 110,
     "metadata": {},
     "output_type": "execute_result"
    }
   ],
   "source": [
    "dutch_flag(ints, 1)"
   ]
  },
  {
   "cell_type": "code",
   "execution_count": 111,
   "metadata": {},
   "outputs": [
    {
     "data": {
      "text/plain": [
       "([0, 0, 0, 1, 1, 1, 2, 2, 2], 5)"
      ]
     },
     "execution_count": 111,
     "metadata": {},
     "output_type": "execute_result"
    }
   ],
   "source": [
    "dutch_flag(ints, 6)"
   ]
  },
  {
   "cell_type": "code",
   "execution_count": 82,
   "metadata": {},
   "outputs": [
    {
     "data": {
      "text/plain": [
       "[0, 0, 0, 1, 1, 1, 2, 2, 2]"
      ]
     },
     "execution_count": 82,
     "metadata": {},
     "output_type": "execute_result"
    }
   ],
   "source": [
    "sorted(ints)"
   ]
  },
  {
   "cell_type": "markdown",
   "metadata": {},
   "source": [
    "    - First pass: from last location, find and move elements less than pivot.\n",
    "    - Second pass: from last location, find and move all elements greater than pivot."
   ]
  },
  {
   "cell_type": "code",
   "execution_count": 117,
   "metadata": {},
   "outputs": [],
   "source": [
    "def step_dutch_flag(A, pivot_index):\n",
    "    pivot = A[pivot_index]\n",
    "    counter = 0\n",
    "    # First pass\n",
    "    smaller = 0 # index of first elem\n",
    "    for this in range(len(A)):\n",
    "        if A[this] < pivot:\n",
    "            A[this], A[smaller] = A[smaller], A[this] # swap\n",
    "            smaller += 1\n",
    "            counter += 1\n",
    "    # Second pass\n",
    "    larger = len(A) - 1 # index of last elem\n",
    "    for this in reversed(range(len(A))):\n",
    "        if A[this] > pivot:\n",
    "            A[this], A[larger] = A[larger], A[this]\n",
    "            larger -= 1\n",
    "            counter += 1\n",
    "    return A, counter"
   ]
  },
  {
   "cell_type": "code",
   "execution_count": 127,
   "metadata": {},
   "outputs": [],
   "source": [
    "def dynamic_dutch_flag(A, pivot_index):\n",
    "    pivot = A[pivot_index]\n",
    "    count = 0\n",
    "    # Invariants:\n",
    "    # bottom group: A[:smaller]\n",
    "    # middle group: A[smaller:equal]\n",
    "    # unclassified: A[equal:larger]\n",
    "    # top: A[larger:]\n",
    "    smaller, equal, larger = 0, 0, len(A)\n",
    "    # Keep iterating while there is an unclassified elem\n",
    "    while equal < larger:\n",
    "        # A[equal] is the incoming unclassified elem\n",
    "        if A[equal] < pivot:\n",
    "            A[smaller], A[equal] = A[equal], A[smaller]\n",
    "            smaller += 1\n",
    "            equal += 1\n",
    "            count += 1\n",
    "        elif A[equal] == pivot:\n",
    "            equal += 1\n",
    "        else: # A[equal] > pivot\n",
    "            larger -= 1\n",
    "            A[equal], A[larger] = A[larger], A[equal]\n",
    "            count += 1\n",
    "    return A, count"
   ]
  },
  {
   "cell_type": "code",
   "execution_count": 128,
   "metadata": {},
   "outputs": [
    {
     "data": {
      "text/plain": [
       "([0, 0, 0, 0, 0, 2, 1, 2, 1, 1, 2, 2, 1, 2, 1], 10)"
      ]
     },
     "execution_count": 128,
     "metadata": {},
     "output_type": "execute_result"
    }
   ],
   "source": [
    "ints = [0,1,2,0,1,2,0,1,2,0,1,2,0,1,2]\n",
    "dynamic_dutch_flag(ints, 3)"
   ]
  },
  {
   "cell_type": "code",
   "execution_count": 129,
   "metadata": {},
   "outputs": [
    {
     "data": {
      "text/plain": [
       "([0, 0, 0, 0, 0, 1, 2, 1, 2, 1, 2, 1, 2, 2, 1], 10)"
      ]
     },
     "execution_count": 129,
     "metadata": {},
     "output_type": "execute_result"
    }
   ],
   "source": [
    "ints = [0,1,2,0,1,2,0,1,2,0,1,2,0,1,2]\n",
    "dutch_flag(ints, 3)"
   ]
  },
  {
   "cell_type": "code",
   "execution_count": 130,
   "metadata": {},
   "outputs": [
    {
     "data": {
      "text/plain": [
       "([0, 0, 0, 0, 0, 1, 2, 1, 2, 1, 2, 1, 2, 1, 2], 10)"
      ]
     },
     "execution_count": 130,
     "metadata": {},
     "output_type": "execute_result"
    }
   ],
   "source": [
    "ints = [0,1,2,0,1,2,0,1,2,0,1,2,0,1,2]\n",
    "step_dutch_flag(ints, 3)"
   ]
  },
  {
   "cell_type": "code",
   "execution_count": 137,
   "metadata": {},
   "outputs": [
    {
     "data": {
      "text/plain": [
       "['\\x1b[48;5;160m                                                            \\x1b[0m\\n',\n",
       " '\\x1b[48;5;21m                                                            \\x1b[0m\\n',\n",
       " '\\x1b[48;5;230m                                                            \\x1b[0m\\n',\n",
       " '\\x1b[48;5;160m                                                            \\x1b[0m\\n',\n",
       " '\\x1b[48;5;21m                                                            \\x1b[0m\\n',\n",
       " '\\x1b[48;5;230m                                                            \\x1b[0m\\n',\n",
       " '\\x1b[48;5;160m                                                            \\x1b[0m\\n',\n",
       " '\\x1b[48;5;21m                                                            \\x1b[0m\\n',\n",
       " '\\x1b[48;5;230m                                                            \\x1b[0m\\n',\n",
       " '\\x1b[48;5;160m                                                            \\x1b[0m\\n',\n",
       " '\\x1b[48;5;21m                                                            \\x1b[0m\\n',\n",
       " '\\x1b[48;5;230m                                                            \\x1b[0m\\n',\n",
       " '\\x1b[48;5;160m                                                            \\x1b[0m\\n',\n",
       " '\\x1b[48;5;21m                                                            \\x1b[0m\\n',\n",
       " '\\x1b[48;5;230m                                                            \\x1b[0m\\n']"
      ]
     },
     "execution_count": 137,
     "metadata": {},
     "output_type": "execute_result"
    }
   ],
   "source": [
    "import random\n",
    "stripes = [red, blue, white] * 5\n",
    "stripes"
   ]
  },
  {
   "cell_type": "code",
   "execution_count": 132,
   "metadata": {},
   "outputs": [
    {
     "name": "stdout",
     "output_type": "stream",
     "text": [
      "['\\x1b[48;5;160m                                                            \\x1b[0m\\n\\x1b[48;5;160m                                                            \\x1b[0m\\n\\x1b[48;5;160m                                                            \\x1b[0m\\n\\x1b[48;5;160m                                                            \\x1b[0m\\n\\x1b[48;5;160m                                                            \\x1b[0m\\n', '\\x1b[48;5;230m                                                            \\x1b[0m\\n\\x1b[48;5;230m                                                            \\x1b[0m\\n\\x1b[48;5;230m                                                            \\x1b[0m\\n\\x1b[48;5;230m                                                            \\x1b[0m\\n\\x1b[48;5;230m                                                            \\x1b[0m\\n', '\\x1b[48;5;21m                                                            \\x1b[0m\\n\\x1b[48;5;21m                                                            \\x1b[0m\\n\\x1b[48;5;21m                                                            \\x1b[0m\\n\\x1b[48;5;21m                                                            \\x1b[0m\\n\\x1b[48;5;21m                                                            \\x1b[0m\\n']\n"
     ]
    }
   ],
   "source": [
    "print(stripes)"
   ]
  },
  {
   "cell_type": "code",
   "execution_count": 138,
   "metadata": {},
   "outputs": [
    {
     "name": "stdout",
     "output_type": "stream",
     "text": [
      "\u001b[48;5;160m                                                            \u001b[0m\n",
      "\n",
      "\u001b[48;5;21m                                                            \u001b[0m\n",
      "\n",
      "\u001b[48;5;230m                                                            \u001b[0m\n",
      "\n",
      "\u001b[48;5;160m                                                            \u001b[0m\n",
      "\n",
      "\u001b[48;5;21m                                                            \u001b[0m\n",
      "\n",
      "\u001b[48;5;230m                                                            \u001b[0m\n",
      "\n",
      "\u001b[48;5;160m                                                            \u001b[0m\n",
      "\n",
      "\u001b[48;5;21m                                                            \u001b[0m\n",
      "\n",
      "\u001b[48;5;230m                                                            \u001b[0m\n",
      "\n",
      "\u001b[48;5;160m                                                            \u001b[0m\n",
      "\n",
      "\u001b[48;5;21m                                                            \u001b[0m\n",
      "\n",
      "\u001b[48;5;230m                                                            \u001b[0m\n",
      "\n",
      "\u001b[48;5;160m                                                            \u001b[0m\n",
      "\n",
      "\u001b[48;5;21m                                                            \u001b[0m\n",
      "\n",
      "\u001b[48;5;230m                                                            \u001b[0m\n",
      "\n"
     ]
    }
   ],
   "source": [
    "for i in stripes:\n",
    "    print(i)"
   ]
  },
  {
   "cell_type": "code",
   "execution_count": 139,
   "metadata": {},
   "outputs": [
    {
     "name": "stdout",
     "output_type": "stream",
     "text": [
      "\u001b[48;5;21m                                                            \u001b[0m\n",
      "\n",
      "\u001b[48;5;160m                                                            \u001b[0m\n",
      "\n",
      "\u001b[48;5;21m                                                            \u001b[0m\n",
      "\n",
      "\u001b[48;5;160m                                                            \u001b[0m\n",
      "\n",
      "\u001b[48;5;160m                                                            \u001b[0m\n",
      "\n",
      "\u001b[48;5;230m                                                            \u001b[0m\n",
      "\n",
      "\u001b[48;5;230m                                                            \u001b[0m\n",
      "\n",
      "\u001b[48;5;160m                                                            \u001b[0m\n",
      "\n",
      "\u001b[48;5;21m                                                            \u001b[0m\n",
      "\n",
      "\u001b[48;5;230m                                                            \u001b[0m\n",
      "\n",
      "\u001b[48;5;230m                                                            \u001b[0m\n",
      "\n",
      "\u001b[48;5;230m                                                            \u001b[0m\n",
      "\n",
      "\u001b[48;5;160m                                                            \u001b[0m\n",
      "\n",
      "\u001b[48;5;21m                                                            \u001b[0m\n",
      "\n",
      "\u001b[48;5;21m                                                            \u001b[0m\n",
      "\n"
     ]
    }
   ],
   "source": [
    "random.shuffle(stripes);\n",
    "for i in stripes:\n",
    "    print(i)"
   ]
  },
  {
   "cell_type": "code",
   "execution_count": 143,
   "metadata": {},
   "outputs": [
    {
     "name": "stdout",
     "output_type": "stream",
     "text": [
      "\u001b[48;5;160m                                                            \u001b[0m\n",
      "\n",
      "\u001b[48;5;160m                                                            \u001b[0m\n",
      "\n",
      "\u001b[48;5;160m                                                            \u001b[0m\n",
      "\n",
      "\u001b[48;5;160m                                                            \u001b[0m\n",
      "\n",
      "\u001b[48;5;160m                                                            \u001b[0m\n",
      "\n",
      "\u001b[48;5;21m                                                            \u001b[0m\n",
      "\n",
      "\u001b[48;5;230m                                                            \u001b[0m\n",
      "\n",
      "\u001b[48;5;21m                                                            \u001b[0m\n",
      "\n",
      "\u001b[48;5;21m                                                            \u001b[0m\n",
      "\n",
      "\u001b[48;5;21m                                                            \u001b[0m\n",
      "\n",
      "\u001b[48;5;230m                                                            \u001b[0m\n",
      "\n",
      "\u001b[48;5;230m                                                            \u001b[0m\n",
      "\n",
      "\u001b[48;5;21m                                                            \u001b[0m\n",
      "\n",
      "\u001b[48;5;230m                                                            \u001b[0m\n",
      "\n",
      "\u001b[48;5;230m                                                            \u001b[0m\n",
      "\n"
     ]
    }
   ],
   "source": [
    "dutch_flag(stripes, 3)\n",
    "for i in stripes:\n",
    "    print(i)"
   ]
  },
  {
   "cell_type": "code",
   "execution_count": null,
   "metadata": {},
   "outputs": [],
   "source": [
    "stripes = [red, white, blue] * 5\n",
    "for i in stripes:\n",
    "    pri"
   ]
  }
 ],
 "metadata": {
  "kernelspec": {
   "display_name": "Python",
   "language": "python",
   "name": "python3"
  },
  "language_info": {
   "codemirror_mode": {
    "name": "ipython",
    "version": 3
   },
   "file_extension": ".py",
   "mimetype": "text/x-python",
   "name": "python",
   "nbconvert_exporter": "python",
   "pygments_lexer": "ipython3",
   "version": "3.6.4"
  }
 },
 "nbformat": 4,
 "nbformat_minor": 2
}
