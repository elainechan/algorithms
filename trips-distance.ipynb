{
 "cells": [
  {
   "cell_type": "markdown",
   "metadata": {},
   "source": [
    "# Trips and Distances\n",
    "\n",
    "In each record is each person's distance from work, followed by how many one-way trips they made to/from work this week. Compute the total trips made and total distance traveled by all persons this week. "
   ]
  },
  {
   "cell_type": "code",
   "execution_count": 1,
   "metadata": {},
   "outputs": [
    {
     "data": {
      "text/plain": [
       "\"Test cases\\n[['John', 1600, 2,1,4,1,0], ['Bonnie', 300, 0,1,2,0,2], ['Vin', 900, 2,1,1,2,1]]\\n20\\n20600\\n\\n[['May', 430, 3,1,2,1,2], ['Homer', 1300, 1,1,2,3,2], ['Nancy', 200, 2,0,0,2,1]]\\n\""
      ]
     },
     "execution_count": 1,
     "metadata": {},
     "output_type": "execute_result"
    }
   ],
   "source": [
    "\"\"\"Test cases\n",
    "[['John', 1600, 2,1,4,1,0], ['Bonnie', 300, 0,1,2,0,2], ['Vin', 900, 2,1,1,2,1]]\n",
    "20\n",
    "20600\n",
    "\n",
    "[['May', 430, 3,1,2,1,2], ['Homer', 1300, 1,1,2,3,2], ['Nancy', 200, 2,0,0,2,1]]\n",
    "\"\"\"\n"
   ]
  },
  {
   "cell_type": "code",
   "execution_count": 2,
   "metadata": {},
   "outputs": [
    {
     "data": {
      "text/plain": [
       "(8, 5, 7)"
      ]
     },
     "execution_count": 2,
     "metadata": {},
     "output_type": "execute_result"
    }
   ],
   "source": [
    "a = [2,1,4,1,0]\n",
    "b = [0,1,2,0,2]\n",
    "c = [2,1,1,2,1]\n",
    "\n",
    "a = sum(a)\n",
    "b = sum(b)\n",
    "c = sum(c)\n",
    "\n",
    "a,b,c"
   ]
  },
  {
   "cell_type": "code",
   "execution_count": 3,
   "metadata": {},
   "outputs": [
    {
     "data": {
      "text/plain": [
       "20600"
      ]
     },
     "execution_count": 3,
     "metadata": {},
     "output_type": "execute_result"
    }
   ],
   "source": [
    "1600*8 + 300*5 + 900*7"
   ]
  },
  {
   "cell_type": "code",
   "execution_count": 4,
   "metadata": {},
   "outputs": [
    {
     "data": {
      "text/plain": [
       "20"
      ]
     },
     "execution_count": 4,
     "metadata": {},
     "output_type": "execute_result"
    }
   ],
   "source": [
    "a + b + c"
   ]
  },
  {
   "cell_type": "code",
   "execution_count": 26,
   "metadata": {},
   "outputs": [],
   "source": [
    "def trips_dist(arr):\n",
    "    # add all trips\n",
    "    # get each person's distance times their total trips\n",
    "    t = []\n",
    "    d = []\n",
    "    for i in arr:\n",
    "        trips = sum(i[2:])\n",
    "        t.append(trips)\n",
    "        dist = i[1]*trips\n",
    "        d.append(dist)\n",
    "    return sum(t), sum(d)"
   ]
  },
  {
   "cell_type": "code",
   "execution_count": 21,
   "metadata": {},
   "outputs": [
    {
     "name": "stdout",
     "output_type": "stream",
     "text": [
      "8\n",
      "5\n",
      "7\n"
     ]
    },
    {
     "data": {
      "text/plain": [
       "([8, 5, 7], [12800, 1500, 6300])"
      ]
     },
     "execution_count": 21,
     "metadata": {},
     "output_type": "execute_result"
    }
   ],
   "source": [
    "a = [['John', 1600, 2,1,4,1,0], ['Bonnie', 300, 0,1,2,0,2], ['Vin', 900, 2,1,1,2,1]]\n",
    "t = []\n",
    "d = []\n",
    "for i in a:\n",
    "    trips = sum(i[2:])\n",
    "    print(trips)\n",
    "    i = i[:2]\n",
    "    t.append(trips)\n",
    "    dist = i[1]*trips\n",
    "    d.append(dist)\n",
    "t, d"
   ]
  },
  {
   "cell_type": "code",
   "execution_count": 22,
   "metadata": {},
   "outputs": [
    {
     "data": {
      "text/plain": [
       "(20, 20600)"
      ]
     },
     "execution_count": 22,
     "metadata": {},
     "output_type": "execute_result"
    }
   ],
   "source": [
    "sum(t), sum(d)"
   ]
  },
  {
   "cell_type": "code",
   "execution_count": 15,
   "metadata": {},
   "outputs": [
    {
     "data": {
      "text/plain": [
       "([1, 2, 3, 4, 5, 6, 7, 8, 9], [1, 2])"
      ]
     },
     "execution_count": 15,
     "metadata": {},
     "output_type": "execute_result"
    }
   ],
   "source": [
    "a = [i for i in range(1,10)]\n",
    "a, a[:2]"
   ]
  },
  {
   "cell_type": "code",
   "execution_count": 20,
   "metadata": {},
   "outputs": [
    {
     "data": {
      "text/plain": [
       "12800"
      ]
     },
     "execution_count": 20,
     "metadata": {},
     "output_type": "execute_result"
    }
   ],
   "source": [
    "1600*8"
   ]
  },
  {
   "cell_type": "code",
   "execution_count": 27,
   "metadata": {},
   "outputs": [
    {
     "name": "stdout",
     "output_type": "stream",
     "text": [
      "8\n",
      "5\n",
      "7\n",
      "(20, 20600)\n"
     ]
    }
   ],
   "source": [
    "a = [['John', 1600, 2,1,4,1,0], ['Bonnie', 300, 0,1,2,0,2], ['Vin', 900, 2,1,1,2,1]]\n",
    "print(trips_dist(a))"
   ]
  },
  {
   "cell_type": "code",
   "execution_count": null,
   "metadata": {},
   "outputs": [],
   "source": []
  }
 ],
 "metadata": {
  "kernelspec": {
   "display_name": "Python",
   "language": "python",
   "name": "python3"
  },
  "language_info": {
   "codemirror_mode": {
    "name": "ipython",
    "version": 3
   },
   "file_extension": ".py",
   "mimetype": "text/x-python",
   "name": "python",
   "nbconvert_exporter": "python",
   "pygments_lexer": "ipython3",
   "version": "3.6.4"
  }
 },
 "nbformat": 4,
 "nbformat_minor": 2
}
