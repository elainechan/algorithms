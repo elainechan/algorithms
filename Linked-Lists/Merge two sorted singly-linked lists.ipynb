{
 "cells": [
  {
   "cell_type": "code",
   "execution_count": 1,
   "metadata": {},
   "outputs": [],
   "source": [
    "from linkedlist import LinkedList, Node"
   ]
  },
  {
   "cell_type": "code",
   "execution_count": 2,
   "metadata": {},
   "outputs": [],
   "source": [
    "# start two empty lists\n",
    "L1 = LinkedList()\n",
    "L2 = LinkedList()"
   ]
  },
  {
   "cell_type": "code",
   "execution_count": 3,
   "metadata": {},
   "outputs": [],
   "source": [
    "# create nodes\n",
    "L1.head = Node(2)\n",
    "L1.second = Node(5)\n",
    "L1.third = Node(7)\n",
    "\n",
    "L2.head = Node(3)\n",
    "L2.second = Node(11)"
   ]
  },
  {
   "cell_type": "code",
   "execution_count": 4,
   "metadata": {},
   "outputs": [],
   "source": [
    "# link the nodes\n",
    "L1.head.next = L1.second\n",
    "L1.second.next = L1.third\n",
    "\n",
    "L2.head.next = L2.second"
   ]
  },
  {
   "cell_type": "code",
   "execution_count": 5,
   "metadata": {},
   "outputs": [
    {
     "data": {
      "text/plain": [
       "[<linkedlist.Node at 0x104a3df98>,\n",
       " <linkedlist.Node at 0x104a3df28>,\n",
       " <linkedlist.Node at 0x104a3deb8>,\n",
       " <linkedlist.Node at 0x104a3de80>,\n",
       " <linkedlist.Node at 0x104a3def0>]"
      ]
     },
     "execution_count": 5,
     "metadata": {},
     "output_type": "execute_result"
    }
   ],
   "source": [
    "import gc\n",
    "list_of_nodes = [obj for obj in gc.get_objects() if isinstance(obj, Node)]; list_of_nodes"
   ]
  },
  {
   "cell_type": "code",
   "execution_count": 6,
   "metadata": {},
   "outputs": [
    {
     "data": {
      "text/plain": [
       "[<linkedlist.LinkedList at 0x104a434a8>,\n",
       " <linkedlist.LinkedList at 0x104a43160>]"
      ]
     },
     "execution_count": 6,
     "metadata": {},
     "output_type": "execute_result"
    }
   ],
   "source": [
    "list_of_lists = [obj for obj in gc.get_objects() if isinstance(obj, LinkedList)]; list_of_lists"
   ]
  },
  {
   "cell_type": "code",
   "execution_count": 7,
   "metadata": {},
   "outputs": [
    {
     "name": "stdout",
     "output_type": "stream",
     "text": [
      "2\n",
      "5\n",
      "7\n"
     ]
    }
   ],
   "source": [
    "L1.print_list()"
   ]
  },
  {
   "cell_type": "code",
   "execution_count": 8,
   "metadata": {},
   "outputs": [
    {
     "name": "stdout",
     "output_type": "stream",
     "text": [
      "3\n",
      "11\n"
     ]
    }
   ],
   "source": [
    "L2.print_list()"
   ]
  },
  {
   "cell_type": "code",
   "execution_count": 9,
   "metadata": {},
   "outputs": [],
   "source": [
    "# merge two sorted singly linked lists so that the merged list is still sorted\n",
    "\n",
    "# naive approach: traverse each list\n",
    "# grab the min and link to first list\n",
    "def merge_sorted_lists(L1, L2):\n",
    "    dummy_head = tail = Node(...)\n",
    "    node1 = L1.head\n",
    "    node2 = L2.head\n",
    "    while node1 and node2: # lists not empty\n",
    "        if node1.data <= node2.data:\n",
    "            tail.next = node1 # attach node1 to tail of new list\n",
    "            node1 = node1.next # stepping node1 pointer to the next node on L1\n",
    "        else:\n",
    "            tail.next = node2\n",
    "            node2 = node2.next\n",
    "        tail = tail.next\n",
    "    tail.next = node1 or node2 # takes the leftover : take tail of one of the lists and link to new list\n",
    "    result = LinkedList()\n",
    "    result.head = dummy_head.next\n",
    "    return result"
   ]
  },
  {
   "cell_type": "code",
   "execution_count": 10,
   "metadata": {},
   "outputs": [],
   "source": [
    "L3 = merge_sorted_lists(L1, L2)"
   ]
  },
  {
   "cell_type": "code",
   "execution_count": 11,
   "metadata": {},
   "outputs": [
    {
     "name": "stdout",
     "output_type": "stream",
     "text": [
      "2\n",
      "3\n",
      "5\n",
      "7\n",
      "11\n"
     ]
    }
   ],
   "source": [
    "L3.print_list()"
   ]
  },
  {
   "cell_type": "code",
   "execution_count": 12,
   "metadata": {},
   "outputs": [
    {
     "name": "stdout",
     "output_type": "stream",
     "text": [
      "2\n",
      "3\n",
      "5\n",
      "7\n",
      "11\n"
     ]
    }
   ],
   "source": [
    "L1.print_list()"
   ]
  },
  {
   "cell_type": "code",
   "execution_count": 13,
   "metadata": {},
   "outputs": [
    {
     "name": "stdout",
     "output_type": "stream",
     "text": [
      "3\n",
      "5\n",
      "7\n",
      "11\n"
     ]
    }
   ],
   "source": [
    "L2.print_list()"
   ]
  },
  {
   "cell_type": "code",
   "execution_count": 14,
   "metadata": {},
   "outputs": [
    {
     "data": {
      "text/plain": [
       "[<linkedlist.Node at 0x104a3df98>,\n",
       " <linkedlist.Node at 0x104a3df28>,\n",
       " <linkedlist.Node at 0x104a3deb8>,\n",
       " <linkedlist.Node at 0x104a3de80>,\n",
       " <linkedlist.Node at 0x104a3def0>]"
      ]
     },
     "execution_count": 14,
     "metadata": {},
     "output_type": "execute_result"
    }
   ],
   "source": [
    "list_of_nodes # unchanged"
   ]
  },
  {
   "cell_type": "code",
   "execution_count": 15,
   "metadata": {},
   "outputs": [
    {
     "data": {
      "text/plain": [
       "[<linkedlist.LinkedList at 0x104a434a8>,\n",
       " <linkedlist.LinkedList at 0x104a43160>]"
      ]
     },
     "execution_count": 15,
     "metadata": {},
     "output_type": "execute_result"
    }
   ],
   "source": [
    "list_of_lists \n",
    "\n",
    "# ??? Shoud be 3 lists (L1, L2, L3) but only 2\n",
    "# best practice: use L2, forget L1 and L2"
   ]
  },
  {
   "cell_type": "code",
   "execution_count": 16,
   "metadata": {},
   "outputs": [
    {
     "name": "stdout",
     "output_type": "stream",
     "text": [
      "<linkedlist.Node object at 0x104a3df98>\n",
      "<linkedlist.Node object at 0x104a3de80>\n",
      "<linkedlist.Node object at 0x104a3df28>\n",
      "<linkedlist.Node object at 0x104a3deb8>\n",
      "<linkedlist.Node object at 0x104a3def0>\n"
     ]
    }
   ],
   "source": [
    "L1.print_nodes()"
   ]
  },
  {
   "cell_type": "code",
   "execution_count": 17,
   "metadata": {},
   "outputs": [
    {
     "name": "stdout",
     "output_type": "stream",
     "text": [
      "<linkedlist.Node object at 0x104a3de80>\n",
      "<linkedlist.Node object at 0x104a3df28>\n",
      "<linkedlist.Node object at 0x104a3deb8>\n",
      "<linkedlist.Node object at 0x104a3def0>\n"
     ]
    }
   ],
   "source": [
    "L2.print_nodes()"
   ]
  },
  {
   "cell_type": "code",
   "execution_count": 18,
   "metadata": {},
   "outputs": [
    {
     "name": "stdout",
     "output_type": "stream",
     "text": [
      "<linkedlist.Node object at 0x104a3df98>\n",
      "<linkedlist.Node object at 0x104a3de80>\n",
      "<linkedlist.Node object at 0x104a3df28>\n",
      "<linkedlist.Node object at 0x104a3deb8>\n",
      "<linkedlist.Node object at 0x104a3def0>\n"
     ]
    }
   ],
   "source": [
    "L3.print_nodes()"
   ]
  },
  {
   "cell_type": "code",
   "execution_count": null,
   "metadata": {},
   "outputs": [],
   "source": []
  }
 ],
 "metadata": {
  "kernelspec": {
   "display_name": "Python",
   "language": "python",
   "name": "python3"
  },
  "language_info": {
   "codemirror_mode": {
    "name": "ipython",
    "version": 3
   },
   "file_extension": ".py",
   "mimetype": "text/x-python",
   "name": "python",
   "nbconvert_exporter": "python",
   "pygments_lexer": "ipython3",
   "version": "3.6.4"
  }
 },
 "nbformat": 4,
 "nbformat_minor": 2
}
