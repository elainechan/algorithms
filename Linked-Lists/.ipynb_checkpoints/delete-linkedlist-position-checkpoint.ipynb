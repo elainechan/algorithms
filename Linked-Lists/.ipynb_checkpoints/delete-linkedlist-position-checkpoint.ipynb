{
 "cells": [
  {
   "cell_type": "code",
   "execution_count": 8,
   "metadata": {},
   "outputs": [],
   "source": [
    "from linkedlist import LinkedList, Node"
   ]
  },
  {
   "cell_type": "code",
   "execution_count": 9,
   "metadata": {},
   "outputs": [],
   "source": [
    "L1 = LinkedList()"
   ]
  },
  {
   "cell_type": "code",
   "execution_count": 10,
   "metadata": {},
   "outputs": [],
   "source": [
    "L1.head = Node(2)\n",
    "L1.second = Node(5)\n",
    "L1.third = Node(7)\n",
    "L1.fourth = Node(11)\n",
    "L1.fifth = Node(17)"
   ]
  },
  {
   "cell_type": "code",
   "execution_count": 12,
   "metadata": {},
   "outputs": [],
   "source": [
    "L1.head.next = L1.second\n",
    "L1.second.next = L1.third\n",
    "L1.third.next = L1.fourth\n",
    "L1.fourth.next = L1.fifth"
   ]
  },
  {
   "cell_type": "code",
   "execution_count": 13,
   "metadata": {},
   "outputs": [
    {
     "name": "stdout",
     "output_type": "stream",
     "text": [
      "2\n",
      "5\n",
      "7\n",
      "11\n",
      "17\n"
     ]
    }
   ],
   "source": [
    "L1.print_list()"
   ]
  },
  {
   "cell_type": "code",
   "execution_count": 21,
   "metadata": {},
   "outputs": [
    {
     "name": "stdout",
     "output_type": "stream",
     "text": [
      "11\n"
     ]
    }
   ],
   "source": [
    "x = 3\n",
    "node = L1.head\n",
    "counter = 0\n",
    "while node is not None:\n",
    "    if (counter == x - 1) and node.next is not None:\n",
    "        print(node.next.data)\n",
    "    counter += 1\n",
    "    node = node.next"
   ]
  },
  {
   "cell_type": "code",
   "execution_count": 27,
   "metadata": {},
   "outputs": [],
   "source": [
    "# assuming position starts at 0\n",
    "def delete_position(lst, position):\n",
    "    node = lst.head\n",
    "    counter = 0\n",
    "    while node is not None:\n",
    "        if (counter == position - 1) and node.next is not None:\n",
    "            print(f'Data to be deleted: {node.next.data}')\n",
    "            node.next = node.next.next\n",
    "            print('Data has been deleted.')\n",
    "            return\n",
    "        counter += 1\n",
    "        node = node.next\n",
    "    return"
   ]
  },
  {
   "cell_type": "code",
   "execution_count": 23,
   "metadata": {},
   "outputs": [
    {
     "name": "stdout",
     "output_type": "stream",
     "text": [
      "Data to be deleted: {node.next.data}\n",
      "Data has been deleted.\n"
     ]
    }
   ],
   "source": [
    "delete_position(L1, 3)"
   ]
  },
  {
   "cell_type": "code",
   "execution_count": 24,
   "metadata": {},
   "outputs": [
    {
     "name": "stdout",
     "output_type": "stream",
     "text": [
      "2\n",
      "5\n",
      "7\n",
      "17\n"
     ]
    }
   ],
   "source": [
    "L1.print_list()"
   ]
  },
  {
   "cell_type": "code",
   "execution_count": 25,
   "metadata": {},
   "outputs": [
    {
     "name": "stdout",
     "output_type": "stream",
     "text": [
      "Data to be deleted: {node.next.data}\n",
      "Data has been deleted.\n"
     ]
    }
   ],
   "source": [
    "delete_position(L1, 2)"
   ]
  },
  {
   "cell_type": "code",
   "execution_count": 26,
   "metadata": {},
   "outputs": [
    {
     "name": "stdout",
     "output_type": "stream",
     "text": [
      "2\n",
      "5\n",
      "17\n"
     ]
    }
   ],
   "source": [
    "L1.print_list()"
   ]
  },
  {
   "cell_type": "code",
   "execution_count": 28,
   "metadata": {},
   "outputs": [
    {
     "name": "stdout",
     "output_type": "stream",
     "text": [
      "Data to be deleted: 5\n",
      "Data has been deleted.\n"
     ]
    }
   ],
   "source": [
    "delete_position(L1, 1)"
   ]
  },
  {
   "cell_type": "code",
   "execution_count": 30,
   "metadata": {},
   "outputs": [
    {
     "name": "stdout",
     "output_type": "stream",
     "text": [
      "2\n",
      "17\n"
     ]
    }
   ],
   "source": [
    "L1.print_list()"
   ]
  },
  {
   "cell_type": "code",
   "execution_count": 29,
   "metadata": {},
   "outputs": [],
   "source": [
    "# ???? how to give feedback when index is out of range\n",
    "delete_position(L1, 100)"
   ]
  },
  {
   "cell_type": "code",
   "execution_count": null,
   "metadata": {},
   "outputs": [],
   "source": []
  },
  {
   "cell_type": "code",
   "execution_count": null,
   "metadata": {},
   "outputs": [],
   "source": []
  }
 ],
 "metadata": {
  "kernelspec": {
   "display_name": "Python",
   "language": "python",
   "name": "python3"
  },
  "language_info": {
   "codemirror_mode": {
    "name": "ipython",
    "version": 3
   },
   "file_extension": ".py",
   "mimetype": "text/x-python",
   "name": "python",
   "nbconvert_exporter": "python",
   "pygments_lexer": "ipython3",
   "version": "3.6.4"
  }
 },
 "nbformat": 4,
 "nbformat_minor": 2
}
