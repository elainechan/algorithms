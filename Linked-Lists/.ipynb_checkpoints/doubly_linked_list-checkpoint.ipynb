{
 "cells": [
  {
   "cell_type": "code",
   "execution_count": 1,
   "metadata": {},
   "outputs": [],
   "source": [
    "# crosscompute"
   ]
  },
  {
   "cell_type": "code",
   "execution_count": 2,
   "metadata": {},
   "outputs": [],
   "source": [
    "# doubly linked list\n",
    "class DoublyLinkedList:\n",
    "    def __init__(self):\n",
    "        self.head = None\n",
    "        \n",
    "    def push(self, new_data): # insert in front of list\n",
    "        new_node = DNode(new_data)\n",
    "        new_node.next = self.head # set head as new node's `next`\n",
    "        if self.head is not None:\n",
    "            self.head.prev = new_node # set new node as head's `prev`\n",
    "        self.head = new_node\n",
    "    \n",
    "    def insert_after(self, target_node, new_data):\n",
    "        if target_node is None:\n",
    "            print('The given target node does not exist')\n",
    "            return\n",
    "        new_node = DNode(new_data)\n",
    "        new_node.next = target_node.next # set target `next` as new node's `next`\n",
    "        new_node.prev = target_node # set target as now node's `prev`\n",
    "        if new_node.next is not None: # if a node exists after target\n",
    "            new_node.next.prev = new_node # set new node as that node's `prev`\n",
    "        \n",
    "    def append():\n",
    "        new_node = DNode(new_data)\n",
    "        new_node.next = None # set new node as last node, set `next` as None\n",
    "        if self.head is None: # if list is empty\n",
    "            new_node.prev = None\n",
    "            self.head = new_node # set new node as `head`\n",
    "            return\n",
    "        # traverse list\n",
    "        last = self.head\n",
    "        while last.next is not None:\n",
    "            last = last.next\n",
    "        last.next = new_node # set new node as last's `next`\n",
    "        new_node.prev = last # set last as `prev` of new node\n",
    "        return\n",
    "\n",
    "    def print_list(self):\n",
    "        node = self.head\n",
    "        while node is not None:\n",
    "            print(node.data)\n",
    "            node = node.next\n",
    "            \n",
    "    def print_from_node(self, node):\n",
    "        print('\\nTraversal in forward direction:')\n",
    "        while node is not None:\n",
    "            print('%d'%(node.data))\n",
    "            last = node\n",
    "            node = node.next\n",
    "            \n",
    "        print('\\nTraversal in reverse direction:')\n",
    "        while node is not None:\n",
    "            print('%d'%(last.data))\n",
    "            last = last.prev\n",
    "        \n",
    "class DNode:\n",
    "    def __init__(self, data=0, next=None, prev=None):\n",
    "        self.data = data\n",
    "        self.next = next\n",
    "        self.prev = prev"
   ]
  }
 ],
 "metadata": {
  "kernelspec": {
   "display_name": "Python",
   "language": "python",
   "name": "python3"
  },
  "language_info": {
   "codemirror_mode": {
    "name": "ipython",
    "version": 3
   },
   "file_extension": ".py",
   "mimetype": "text/x-python",
   "name": "python",
   "nbconvert_exporter": "python",
   "pygments_lexer": "ipython3",
   "version": "3.6.4"
  }
 },
 "nbformat": 4,
 "nbformat_minor": 2
}
