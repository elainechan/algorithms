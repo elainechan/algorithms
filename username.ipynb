{
 "cells": [
  {
   "cell_type": "markdown",
   "metadata": {},
   "source": [
    "# Usernames\n",
    "- Given a list of names: `['jack','lorn','amy','sabrina','sue','john','jack']`\n",
    "- Turn into a list of user names. If names are repeated, append a number to the end of the name: `['jack','lorn','amy','sabrina','jack1','john','jack2']`\n",
    "- Return list of usernames in same order as input"
   ]
  },
  {
   "cell_type": "code",
   "execution_count": 70,
   "metadata": {},
   "outputs": [],
   "source": [
    "from collections import Counter\n",
    "def users(names):\n",
    "    usernames = []\n",
    "    log = Counter()\n",
    "    for v in names:\n",
    "        if v not in log.keys():\n",
    "            usernames.append(v)\n",
    "            log[v] += 1\n",
    "        else:\n",
    "            usernames.append(v + str(log[v]))\n",
    "            log[v] += 1\n",
    "    return usernames, log"
   ]
  },
  {
   "cell_type": "code",
   "execution_count": 3,
   "metadata": {},
   "outputs": [
    {
     "data": {
      "text/plain": [
       "'2'"
      ]
     },
     "execution_count": 3,
     "metadata": {},
     "output_type": "execute_result"
    }
   ],
   "source": [
    "x = 'jack1'\n",
    "str(int(x[-1]) + 1)"
   ]
  },
  {
   "cell_type": "code",
   "execution_count": 5,
   "metadata": {},
   "outputs": [
    {
     "data": {
      "text/plain": [
       "'jack'"
      ]
     },
     "execution_count": 5,
     "metadata": {},
     "output_type": "execute_result"
    }
   ],
   "source": [
    "x[:-1]"
   ]
  },
  {
   "cell_type": "code",
   "execution_count": 6,
   "metadata": {},
   "outputs": [
    {
     "data": {
      "text/plain": [
       "'jack2'"
      ]
     },
     "execution_count": 6,
     "metadata": {},
     "output_type": "execute_result"
    }
   ],
   "source": [
    "x[:-1] + str(int(x[-1]) + 1)"
   ]
  },
  {
   "cell_type": "code",
   "execution_count": 72,
   "metadata": {},
   "outputs": [
    {
     "data": {
      "text/plain": [
       "(['jack',\n",
       "  'lorn',\n",
       "  'amy',\n",
       "  'sabrina',\n",
       "  'jack1',\n",
       "  'john',\n",
       "  'jack2',\n",
       "  'jack3',\n",
       "  'amy1',\n",
       "  'lorn1'],\n",
       " Counter({'amy': 2, 'jack': 4, 'john': 1, 'lorn': 2, 'sabrina': 1}))"
      ]
     },
     "execution_count": 72,
     "metadata": {},
     "output_type": "execute_result"
    }
   ],
   "source": [
    "users(['jack','lorn','amy','sabrina','jack','john','jack','jack', 'amy', 'lorn'])"
   ]
  },
  {
   "cell_type": "code",
   "execution_count": 5,
   "metadata": {},
   "outputs": [],
   "source": [
    "def usernames(names):\n",
    "    usernames = []\n",
    "    log = {}\n",
    "    for v in names:\n",
    "        if v not in log:\n",
    "            usernames.append(v)\n",
    "            log[v] = 1\n",
    "        else:\n",
    "            usernames.append(v + str(log[v]))\n",
    "            log[v] += 1\n",
    "    return usernames, log"
   ]
  },
  {
   "cell_type": "code",
   "execution_count": 6,
   "metadata": {},
   "outputs": [
    {
     "data": {
      "text/plain": [
       "(['jack',\n",
       "  'lorn',\n",
       "  'amy',\n",
       "  'sabrina',\n",
       "  'jack1',\n",
       "  'john',\n",
       "  'jack2',\n",
       "  'jack3',\n",
       "  'amy1',\n",
       "  'lorn1'],\n",
       " {'amy': 2, 'jack': 4, 'john': 1, 'lorn': 2, 'sabrina': 1})"
      ]
     },
     "execution_count": 6,
     "metadata": {},
     "output_type": "execute_result"
    }
   ],
   "source": [
    "usernames(['jack','lorn','amy','sabrina','jack','john','jack','jack', 'amy', 'lorn'])"
   ]
  },
  {
   "cell_type": "code",
   "execution_count": null,
   "metadata": {},
   "outputs": [],
   "source": []
  }
 ],
 "metadata": {
  "kernelspec": {
   "display_name": "Python",
   "language": "python",
   "name": "python3"
  },
  "language_info": {
   "codemirror_mode": {
    "name": "ipython",
    "version": 3
   },
   "file_extension": ".py",
   "mimetype": "text/x-python",
   "name": "python",
   "nbconvert_exporter": "python",
   "pygments_lexer": "ipython3",
   "version": "3.6.4"
  }
 },
 "nbformat": 4,
 "nbformat_minor": 2
}
