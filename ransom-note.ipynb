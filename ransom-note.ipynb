{
 "cells": [
  {
   "cell_type": "code",
   "execution_count": 1,
   "metadata": {},
   "outputs": [
    {
     "data": {
      "text/plain": [
       "'Test cases\\ngive me one grand today night\\ngive one grand today\\nYes\\n\\ntwo times three is not four\\ntwo times two is four\\nNo\\n\\nive got a lovely bunch of coconuts\\nive got some coconuts\\nNo\\n'"
      ]
     },
     "execution_count": 1,
     "metadata": {},
     "output_type": "execute_result"
    }
   ],
   "source": [
    "\"\"\"Test cases\n",
    "give me one grand today night\n",
    "give one grand today\n",
    "Yes\n",
    "\n",
    "two times three is not four\n",
    "two times two is four\n",
    "No\n",
    "\n",
    "ive got a lovely bunch of coconuts\n",
    "ive got some coconuts\n",
    "No\n",
    "\"\"\""
   ]
  },
  {
   "cell_type": "code",
   "execution_count": 69,
   "metadata": {},
   "outputs": [],
   "source": [
    "mag = 'give me one grand today today night night'\n",
    "note = 'give one grand grand today'"
   ]
  },
  {
   "cell_type": "code",
   "execution_count": 70,
   "metadata": {},
   "outputs": [
    {
     "data": {
      "text/plain": [
       "(Counter({'give': 1, 'grand': 1, 'me': 1, 'night': 2, 'one': 1, 'today': 2}),\n",
       " Counter({'give': 1, 'grand': 2, 'one': 1, 'today': 1}))"
      ]
     },
     "execution_count": 70,
     "metadata": {},
     "output_type": "execute_result"
    }
   ],
   "source": [
    "import hashlib\n",
    "from collections import Counter\n",
    "X = Counter(mag.split())\n",
    "Y = Counter(note.split())\n",
    "X, Y"
   ]
  },
  {
   "cell_type": "code",
   "execution_count": 71,
   "metadata": {},
   "outputs": [
    {
     "data": {
      "text/plain": [
       "(dict_items([('give', 1), ('me', 1), ('one', 1), ('grand', 1), ('today', 2), ('night', 2)]),\n",
       " dict_keys(['give', 'me', 'one', 'grand', 'today', 'night']),\n",
       " dict_values([1, 1, 1, 1, 2, 2]))"
      ]
     },
     "execution_count": 71,
     "metadata": {},
     "output_type": "execute_result"
    }
   ],
   "source": [
    "X.items(), X.keys(), X.values()"
   ]
  },
  {
   "cell_type": "code",
   "execution_count": 72,
   "metadata": {},
   "outputs": [
    {
     "data": {
      "text/plain": [
       "({'0895a532e404a5c9ea96eac7982d268f22de22c9705dcda0e1eb445ea379b005': 1,\n",
       "  '176473d7313395b6e209bc6b1d57aa160b628706860aa0554d7af60a1d40ab87': 2,\n",
       "  '2744ccd10c7533bd736ad890f9dd5cab2adb27b07d500b9493f29cdc420cb2e0': 1,\n",
       "  '4361cc01e665e9d5dfa0bbd56f0ec8272a35dd9289b868d8490d606997ad1567': 1,\n",
       "  '7692c3ad3540bb803c020b3aee66cd8887123234ea0c6e7143c0add73ff431ed': 1,\n",
       "  'e0f4f767ac88a9303e7317843ac20be980665a36f52397e5b26d4cc2bf54011d': 2},\n",
       " {'0895a532e404a5c9ea96eac7982d268f22de22c9705dcda0e1eb445ea379b005': 1,\n",
       "  '4361cc01e665e9d5dfa0bbd56f0ec8272a35dd9289b868d8490d606997ad1567': 2,\n",
       "  '7692c3ad3540bb803c020b3aee66cd8887123234ea0c6e7143c0add73ff431ed': 1,\n",
       "  'e0f4f767ac88a9303e7317843ac20be980665a36f52397e5b26d4cc2bf54011d': 1})"
      ]
     },
     "execution_count": 72,
     "metadata": {},
     "output_type": "execute_result"
    }
   ],
   "source": [
    "import hashlib\n",
    "XD = {hashlib.sha256(i[0].encode()).hexdigest(): i[1] for i in X.items()}\n",
    "YD = {hashlib.sha256(i[0].encode()).hexdigest(): i[1] for i in Y.items()}\n",
    "XD, YD"
   ]
  },
  {
   "cell_type": "code",
   "execution_count": 73,
   "metadata": {},
   "outputs": [
    {
     "data": {
      "text/plain": [
       "True"
      ]
     },
     "execution_count": 73,
     "metadata": {},
     "output_type": "execute_result"
    }
   ],
   "source": [
    "'give' == 'give'"
   ]
  },
  {
   "cell_type": "code",
   "execution_count": 74,
   "metadata": {},
   "outputs": [
    {
     "data": {
      "text/plain": [
       "False"
      ]
     },
     "execution_count": 74,
     "metadata": {},
     "output_type": "execute_result"
    }
   ],
   "source": [
    "'give' == 'Give'"
   ]
  },
  {
   "cell_type": "code",
   "execution_count": 75,
   "metadata": {},
   "outputs": [
    {
     "data": {
      "text/plain": [
       "'Test cases\\ngive me one grand today night\\ngive one grand today\\nYes\\n\\ntwo times three is not four\\ntwo times two is four\\nNo\\n\\nive got a lovely bunch of coconuts\\nive got some coconuts\\nNo\\n'"
      ]
     },
     "execution_count": 75,
     "metadata": {},
     "output_type": "execute_result"
    }
   ],
   "source": [
    "\"\"\"Test cases\n",
    "give me one grand today night\n",
    "give one grand today\n",
    "Yes\n",
    "\n",
    "two times three is not four\n",
    "two times two is four\n",
    "No\n",
    "\n",
    "ive got a lovely bunch of coconuts\n",
    "ive got some coconuts\n",
    "No\n",
    "\"\"\""
   ]
  },
  {
   "cell_type": "code",
   "execution_count": 76,
   "metadata": {},
   "outputs": [
    {
     "data": {
      "text/plain": [
       "True"
      ]
     },
     "execution_count": 76,
     "metadata": {},
     "output_type": "execute_result"
    }
   ],
   "source": [
    "all(word in X.keys() for word in Y.keys())"
   ]
  },
  {
   "cell_type": "code",
   "execution_count": 77,
   "metadata": {},
   "outputs": [
    {
     "data": {
      "text/plain": [
       "[1, 1, 1, 1, 2, 2]"
      ]
     },
     "execution_count": 77,
     "metadata": {},
     "output_type": "execute_result"
    }
   ],
   "source": [
    "[item[1] for item in X.items()]"
   ]
  },
  {
   "cell_type": "code",
   "execution_count": 78,
   "metadata": {},
   "outputs": [
    {
     "name": "stdout",
     "output_type": "stream",
     "text": [
      "('give', 1) 1 ('give', 1) 1\n",
      "('give', 1) 1 ('one', 1) 1\n",
      "('give', 1) 1 ('grand', 2) 2\n",
      "('give', 1) 1 ('today', 1) 1\n",
      "('me', 1) 1 ('give', 1) 1\n",
      "('me', 1) 1 ('one', 1) 1\n",
      "('me', 1) 1 ('grand', 2) 2\n",
      "('me', 1) 1 ('today', 1) 1\n",
      "('one', 1) 1 ('give', 1) 1\n",
      "('one', 1) 1 ('one', 1) 1\n",
      "('one', 1) 1 ('grand', 2) 2\n",
      "('one', 1) 1 ('today', 1) 1\n",
      "('grand', 1) 1 ('give', 1) 1\n",
      "('grand', 1) 1 ('one', 1) 1\n",
      "('grand', 1) 1 ('grand', 2) 2\n",
      "('grand', 1) 1 ('today', 1) 1\n",
      "('today', 2) 2 ('give', 1) 1\n",
      "('today', 2) 2 ('one', 1) 1\n",
      "('today', 2) 2 ('grand', 2) 2\n",
      "('today', 2) 2 ('today', 1) 1\n",
      "('night', 2) 2 ('give', 1) 1\n",
      "('night', 2) 2 ('one', 1) 1\n",
      "('night', 2) 2 ('grand', 2) 2\n",
      "('night', 2) 2 ('today', 1) 1\n"
     ]
    }
   ],
   "source": [
    "for i in X.items():\n",
    "    for j in Y.items():\n",
    "        print(i, i[1], j, j[1])"
   ]
  },
  {
   "cell_type": "code",
   "execution_count": 80,
   "metadata": {},
   "outputs": [
    {
     "name": "stdout",
     "output_type": "stream",
     "text": [
      "give True\n",
      "one True\n",
      "grand False\n",
      "today True\n"
     ]
    }
   ],
   "source": [
    "for i in X.items():\n",
    "    for j in Y.items():\n",
    "        if i[0] == j[0]:\n",
    "            print(i[0], i[1]>=j[1]) # check if mag contains all content in note"
   ]
  },
  {
   "cell_type": "code",
   "execution_count": 81,
   "metadata": {},
   "outputs": [
    {
     "data": {
      "text/plain": [
       "dict_items([('give', 1), ('me', 1), ('one', 1), ('grand', 1), ('today', 2), ('night', 2)])"
      ]
     },
     "execution_count": 81,
     "metadata": {},
     "output_type": "execute_result"
    }
   ],
   "source": [
    "X.items()"
   ]
  },
  {
   "cell_type": "code",
   "execution_count": 82,
   "metadata": {},
   "outputs": [
    {
     "data": {
      "text/plain": [
       "dict_items([('give', 1), ('one', 1), ('grand', 2), ('today', 1)])"
      ]
     },
     "execution_count": 82,
     "metadata": {},
     "output_type": "execute_result"
    }
   ],
   "source": [
    "Y.items()"
   ]
  },
  {
   "cell_type": "code",
   "execution_count": 83,
   "metadata": {},
   "outputs": [
    {
     "data": {
      "text/plain": [
       "True"
      ]
     },
     "execution_count": 83,
     "metadata": {},
     "output_type": "execute_result"
    }
   ],
   "source": [
    "all(w in X.keys() for w in Y.keys())"
   ]
  },
  {
   "cell_type": "code",
   "execution_count": 84,
   "metadata": {},
   "outputs": [
    {
     "data": {
      "text/plain": [
       "False"
      ]
     },
     "execution_count": 84,
     "metadata": {},
     "output_type": "execute_result"
    }
   ],
   "source": [
    "all(w in Y.keys() for w in X.keys())"
   ]
  },
  {
   "cell_type": "code",
   "execution_count": 95,
   "metadata": {},
   "outputs": [],
   "source": [
    "from collections import Counter\n",
    "def check_mag(mag, note):\n",
    "    # convert to Counter\n",
    "    X, Y = Counter(mag.split()), Counter(note.split())\n",
    "    # if X (mag) contains all Y (note) keys\n",
    "    if not all(word in X.keys() for word in Y.keys()):\n",
    "        print('No')\n",
    "        return False\n",
    "    elif all(word in X.keys() for word in Y.keys()):\n",
    "        for i in X.items():\n",
    "            for j in Y.items():\n",
    "                if i[1] < j[1]:\n",
    "                    print('No')\n",
    "                    return False\n",
    "                else:\n",
    "                    continue\n",
    "        print('Yes')\n",
    "        return True\n",
    "        \n",
    "# convert to Counter\n",
    "# check if X contains all Y keys\n",
    "# for each matching key:\n",
    "    # check if X count >= Y count"
   ]
  },
  {
   "cell_type": "code",
   "execution_count": 96,
   "metadata": {},
   "outputs": [
    {
     "data": {
      "text/plain": [
       "'Test cases\\ngive me one grand today night\\ngive one grand today\\nYes\\n\\ntwo times three is not four\\ntwo times two is four\\nNo\\n\\nive got a lovely bunch of coconuts\\nive got some coconuts\\nNo\\n'"
      ]
     },
     "execution_count": 96,
     "metadata": {},
     "output_type": "execute_result"
    }
   ],
   "source": [
    "\"\"\"Test cases\n",
    "give me one grand today night\n",
    "give one grand today\n",
    "Yes\n",
    "\n",
    "two times three is not four\n",
    "two times two is four\n",
    "No\n",
    "\n",
    "ive got a lovely bunch of coconuts\n",
    "ive got some coconuts\n",
    "No\n",
    "\"\"\""
   ]
  },
  {
   "cell_type": "code",
   "execution_count": 97,
   "metadata": {},
   "outputs": [
    {
     "name": "stdout",
     "output_type": "stream",
     "text": [
      "Yes\n"
     ]
    },
    {
     "data": {
      "text/plain": [
       "True"
      ]
     },
     "execution_count": 97,
     "metadata": {},
     "output_type": "execute_result"
    }
   ],
   "source": [
    "check_mag('give me one grand today night', 'give one grand today')"
   ]
  },
  {
   "cell_type": "code",
   "execution_count": 98,
   "metadata": {},
   "outputs": [
    {
     "name": "stdout",
     "output_type": "stream",
     "text": [
      "No\n"
     ]
    },
    {
     "data": {
      "text/plain": [
       "False"
      ]
     },
     "execution_count": 98,
     "metadata": {},
     "output_type": "execute_result"
    }
   ],
   "source": [
    "check_mag('two times three is not four', 'two times two is four')"
   ]
  },
  {
   "cell_type": "code",
   "execution_count": 99,
   "metadata": {},
   "outputs": [
    {
     "name": "stdout",
     "output_type": "stream",
     "text": [
      "No\n"
     ]
    },
    {
     "data": {
      "text/plain": [
       "False"
      ]
     },
     "execution_count": 99,
     "metadata": {},
     "output_type": "execute_result"
    }
   ],
   "source": [
    "check_mag('ive got a lovely bunch of coconuts', 'ive got some coconuts')"
   ]
  },
  {
   "cell_type": "code",
   "execution_count": null,
   "metadata": {},
   "outputs": [],
   "source": []
  }
 ],
 "metadata": {
  "kernelspec": {
   "display_name": "Python",
   "language": "python",
   "name": "python3"
  },
  "language_info": {
   "codemirror_mode": {
    "name": "ipython",
    "version": 3
   },
   "file_extension": ".py",
   "mimetype": "text/x-python",
   "name": "python",
   "nbconvert_exporter": "python",
   "pygments_lexer": "ipython3",
   "version": "3.6.4"
  }
 },
 "nbformat": 4,
 "nbformat_minor": 2
}
