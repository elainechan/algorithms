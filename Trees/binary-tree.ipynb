{
 "cells": [
  {
   "cell_type": "code",
   "execution_count": null,
   "metadata": {},
   "outputs": [],
   "source": [
    "class BinaryTreeNode:\n",
    "    self.data = data\n",
    "    self.left = left\n",
    "    self.right = right\n",
    "    \n",
    "    def tree_traversal(self, root):\n",
    "        # Preorder: root, left, right\n",
    "        print('Preorder: {}'.format(root.data))\n",
    "        tree_traversal(root.left)\n",
    "        \n",
    "        # Inorder: left, root, right\n",
    "        print('Inorder: {}'.format(root.data))\n",
    "        tree_traversal(root.right)\n",
    "        \n",
    "        # Post order: right, root, left\n",
    "        print('Postorder: {}'.format(root.data))"
   ]
  }
 ],
 "metadata": {
  "kernelspec": {
   "display_name": "Electric Vine Grid",
   "language": "python",
   "name": "electric-vine-grid"
  },
  "language_info": {
   "codemirror_mode": {
    "name": "ipython",
    "version": 3
   },
   "file_extension": ".py",
   "mimetype": "text/x-python",
   "name": "python",
   "nbconvert_exporter": "python",
   "pygments_lexer": "ipython3",
   "version": "3.6.4"
  }
 },
 "nbformat": 4,
 "nbformat_minor": 2
}
