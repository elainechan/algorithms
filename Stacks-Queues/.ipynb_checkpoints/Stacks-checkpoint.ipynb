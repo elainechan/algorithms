{
 "cells": [
  {
   "cell_type": "code",
   "execution_count": 1,
   "metadata": {},
   "outputs": [],
   "source": [
    "from collections import namedtuple\n",
    "\n",
    "class Stack:\n",
    "    ElementWithCachedMax = namedtuple('ElementWithCachedMax', ('element', 'max'))\n",
    "    \n",
    "    def __init__(self):\n",
    "        self._element_with_cached_max = []\n",
    "    \n",
    "    def empty(self):\n",
    "        return len(self._element_with_cached_max) == 0\n",
    "    \n",
    "    def max(self):\n",
    "        if self.empty():\n",
    "            raise IndexError('max(): empty stack')\n",
    "        return self._element_with_cached_max[-1].max\n",
    "    \n",
    "    def pop(self):\n",
    "        if self.empty():\n",
    "            raise IndexError('pop(): empty stack')\n",
    "        return self._element_with_cached_max.pop().element\n",
    "    \n",
    "    def push(self, x):\n",
    "        self._element_with_cached_max.append(\n",
    "            self.ElementWithCachedMax(x, x if self.empty() else max(x, self.max()))\n",
    "        )"
   ]
  },
  {
   "cell_type": "code",
   "execution_count": null,
   "metadata": {},
   "outputs": [],
   "source": [
    "class StackWithMaxCount:\n",
    "    class MaxWithCount:\n",
    "        def __init__(self, max, count):\n",
    "            self.max, self.count = max, count\n",
    "    \n",
    "    def __init__(self):\n",
    "        self._element = []\n",
    "        self._cached_max_with_count = []\n",
    "        \n",
    "    def empty(self):\n",
    "        return len(self._element) == 0\n",
    "    \n",
    "    def max(self):\n",
    "        if self.empty():\n",
    "            raise IndexError('max(): empty stack')\n",
    "        return self._cached_max_with_count[-1].max\n",
    "    \n",
    "    def pop(self):\n",
    "        if self.empty():\n",
    "            raise IndexError('pop(): empty stack')\n",
    "        pop_element = self._element.pop()\n",
    "        current_max = self._cached_max_with_count[-1].max\n",
    "        if pop_element == current_max:\n",
    "            self._cached_max_with_count[-1].count -= 1\n",
    "            if self._cached_max_with_count[-1].count == 0:\n",
    "                self._cached_max_with_count.pop()\n",
    "        return pop_element\n",
    "\n",
    "    def push(self, x):\n",
    "        self._element.append(x)\n",
    "        if len(self._cached_max_with_count) == 0:\n",
    "            self._cached_max_with_count.append(self.MaxWithCount(x, 1))\n",
    "        else:\n",
    "            current_max = self._cached_max_with_count[-1].max\n",
    "            if x == current_max:\n",
    "                self._cached_max_with_count[-1].count += 1\n",
    "            elif x > current_max:\n",
    "                self._cached_max_with_count.append(self.MaxWithCount(x, 1))"
   ]
  }
 ],
 "metadata": {
  "kernelspec": {
   "display_name": "Python",
   "language": "python",
   "name": "python3"
  },
  "language_info": {
   "codemirror_mode": {
    "name": "ipython",
    "version": 3
   },
   "file_extension": ".py",
   "mimetype": "text/x-python",
   "name": "python",
   "nbconvert_exporter": "python",
   "pygments_lexer": "ipython3",
   "version": "3.6.4"
  }
 },
 "nbformat": 4,
 "nbformat_minor": 2
}
