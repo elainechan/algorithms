{
 "cells": [
  {
   "cell_type": "code",
   "execution_count": null,
   "metadata": {},
   "outputs": [],
   "source": [
    "# implement a filter similar to JS Array.filter()\n",
    "# where u can delete nth position\n"
   ]
  }
 ],
 "metadata": {
  "kernelspec": {
   "display_name": "Electric Vine Grid",
   "language": "python",
   "name": "electric-vine-grid"
  },
  "language_info": {
   "codemirror_mode": {
    "name": "ipython",
    "version": 3
   },
   "file_extension": ".py",
   "mimetype": "text/x-python",
   "name": "python",
   "nbconvert_exporter": "python",
   "pygments_lexer": "ipython3",
   "version": "3.6.4"
  }
 },
 "nbformat": 4,
 "nbformat_minor": 2
}
