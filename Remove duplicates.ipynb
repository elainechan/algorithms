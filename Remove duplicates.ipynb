{
 "cells": [
  {
   "cell_type": "code",
   "execution_count": 1,
   "metadata": {},
   "outputs": [],
   "source": [
    "from linkedlist import LinkedList, Node"
   ]
  },
  {
   "cell_type": "code",
   "execution_count": 2,
   "metadata": {},
   "outputs": [],
   "source": [
    "# remove dupes from an unsorted linked list\n",
    "# hint 1: use hashtable. should be able to do it in a single pass of the list\n",
    "# hint 2: use two pointers where the second one searches ahead of the first one"
   ]
  },
  {
   "cell_type": "code",
   "execution_count": 4,
   "metadata": {},
   "outputs": [],
   "source": [
    "# [1, 5, 11, 77, 100, 4, 5, 1, 77]\n",
    "\n",
    "# 2 pointers -> O(n^2)\n",
    "# [1, 5 ... 4, ]\n",
    "# hashtable: if data is hashable\n",
    "\n",
    "# define which copy to keep of dupes\n",
    "# hash everything\n",
    "# if copies found, ask it to delete all except one\n",
    "# O(n)\n",
    "# list(dict.fromkeys(the_list))"
   ]
  },
  {
   "cell_type": "markdown",
   "metadata": {},
   "source": [
    "# Brute force approach\n",
    "- convert to list\n",
    "- loop through the list and find dupes\n",
    "- record positions of dupes, ignoring the first instance of number\n",
    "- return list of positions that contain duplicates"
   ]
  },
  {
   "cell_type": "code",
   "execution_count": 22,
   "metadata": {},
   "outputs": [
    {
     "name": "stdout",
     "output_type": "stream",
     "text": [
      "[5, 8, 6, 4, 7]\n"
     ]
    }
   ],
   "source": [
    "# should return [5, 8, 6, 4, 7]\n",
    "\n",
    "arr = [2, 5, 7, 11, 7, 2, 5, 7, 2]\n",
    "dupes = []\n",
    "for i in range(len(arr) - 1): # 0-9\n",
    "    counter = i\n",
    "    if i not in dupes:\n",
    "        curr = arr[i]\n",
    "    while counter < len(arr):\n",
    "        if counter == i:\n",
    "            counter += 1 # skip past curr when encountered\n",
    "            continue\n",
    "        if curr == arr[counter]: # if current equals to next\n",
    "            dupes.append(counter) # add position to tally\n",
    "        counter += 1\n",
    "print(dupes)"
   ]
  },
  {
   "cell_type": "code",
   "execution_count": 6,
   "metadata": {},
   "outputs": [
    {
     "name": "stdout",
     "output_type": "stream",
     "text": [
      "Initializing counter == i == 0\n",
      "    curr == arr[0] == 2\n",
      "        Collision: counter == i == 0\n",
      "        counter += 1\n",
      "        counter == 1\n",
      "        No match: 2, 5\n",
      "    counter += 1\n",
      "    counter == 2\n",
      "        No match: 2, 7\n",
      "    counter += 1\n",
      "    counter == 3\n",
      "        No match: 2, 11\n",
      "    counter += 1\n",
      "    counter == 4\n",
      "        No match: 2, 7\n",
      "    counter += 1\n",
      "    counter == 5\n",
      "        Match: 2, 2\n",
      "        Adding '5' to tally\n",
      "Dupes so far: [5]\n",
      "    counter += 1\n",
      "    counter == 6\n",
      "        No match: 2, 5\n",
      "    counter += 1\n",
      "    counter == 7\n",
      "        No match: 2, 7\n",
      "    counter += 1\n",
      "    counter == 8\n",
      "        Match: 2, 2\n",
      "        Adding '8' to tally\n",
      "Dupes so far: [5, 8]\n",
      "    counter += 1\n",
      "    counter == 9\n",
      "Initializing counter == i == 1\n",
      "    curr == arr[1] == 5\n",
      "        Collision: counter == i == 1\n",
      "        counter += 1\n",
      "        counter == 2\n",
      "        No match: 5, 7\n",
      "    counter += 1\n",
      "    counter == 3\n",
      "        No match: 5, 11\n",
      "    counter += 1\n",
      "    counter == 4\n",
      "        No match: 5, 7\n",
      "    counter += 1\n",
      "    counter == 5\n",
      "        No match: 5, 2\n",
      "    counter += 1\n",
      "    counter == 6\n",
      "        Match: 5, 5\n",
      "        Adding '6' to tally\n",
      "Dupes so far: [5, 8, 6]\n",
      "    counter += 1\n",
      "    counter == 7\n",
      "        No match: 5, 7\n",
      "    counter += 1\n",
      "    counter == 8\n",
      "        No match: 5, 2\n",
      "    counter += 1\n",
      "    counter == 9\n",
      "Initializing counter == i == 2\n",
      "    curr == arr[2] == 7\n",
      "        Collision: counter == i == 2\n",
      "        counter += 1\n",
      "        counter == 3\n",
      "        No match: 7, 11\n",
      "    counter += 1\n",
      "    counter == 4\n",
      "        Match: 7, 7\n",
      "        Adding '4' to tally\n",
      "Dupes so far: [5, 8, 6, 4]\n",
      "    counter += 1\n",
      "    counter == 5\n",
      "        No match: 7, 2\n",
      "    counter += 1\n",
      "    counter == 6\n",
      "        No match: 7, 5\n",
      "    counter += 1\n",
      "    counter == 7\n",
      "        Match: 7, 7\n",
      "        Adding '7' to tally\n",
      "Dupes so far: [5, 8, 6, 4, 7]\n",
      "    counter += 1\n",
      "    counter == 8\n",
      "        No match: 7, 2\n",
      "    counter += 1\n",
      "    counter == 9\n",
      "Initializing counter == i == 3\n",
      "    curr == arr[3] == 11\n",
      "        Collision: counter == i == 3\n",
      "        counter += 1\n",
      "        counter == 4\n",
      "        No match: 11, 7\n",
      "    counter += 1\n",
      "    counter == 5\n",
      "        No match: 11, 2\n",
      "    counter += 1\n",
      "    counter == 6\n",
      "        No match: 11, 5\n",
      "    counter += 1\n",
      "    counter == 7\n",
      "        No match: 11, 7\n",
      "    counter += 1\n",
      "    counter == 8\n",
      "        No match: 11, 2\n",
      "    counter += 1\n",
      "    counter == 9\n",
      "Initializing counter == i == 4\n",
      "i is in dupes\n",
      "        Collision: counter == i == 4\n",
      "        counter += 1\n",
      "        counter == 5\n",
      "        No match: 11, 2\n",
      "    counter += 1\n",
      "    counter == 6\n",
      "        No match: 11, 5\n",
      "    counter += 1\n",
      "    counter == 7\n",
      "        No match: 11, 7\n",
      "    counter += 1\n",
      "    counter == 8\n",
      "        No match: 11, 2\n",
      "    counter += 1\n",
      "    counter == 9\n",
      "Initializing counter == i == 5\n",
      "i is in dupes\n",
      "        Collision: counter == i == 5\n",
      "        counter += 1\n",
      "        counter == 6\n",
      "        No match: 11, 5\n",
      "    counter += 1\n",
      "    counter == 7\n",
      "        No match: 11, 7\n",
      "    counter += 1\n",
      "    counter == 8\n",
      "        No match: 11, 2\n",
      "    counter += 1\n",
      "    counter == 9\n",
      "Initializing counter == i == 6\n",
      "i is in dupes\n",
      "        Collision: counter == i == 6\n",
      "        counter += 1\n",
      "        counter == 7\n",
      "        No match: 11, 7\n",
      "    counter += 1\n",
      "    counter == 8\n",
      "        No match: 11, 2\n",
      "    counter += 1\n",
      "    counter == 9\n",
      "Initializing counter == i == 7\n",
      "i is in dupes\n",
      "        Collision: counter == i == 7\n",
      "        counter += 1\n",
      "        counter == 8\n",
      "        No match: 11, 2\n",
      "    counter += 1\n",
      "    counter == 9\n",
      "Positions of duplicates: [5, 8, 6, 4, 7]\n"
     ]
    }
   ],
   "source": [
    "# step by step\n",
    "\n",
    "arr = [2, 5, 7, 11, 7, 2, 5, 7, 2]\n",
    "dupes = []\n",
    "for i in range(len(arr) - 1): # 0-9\n",
    "    counter = i\n",
    "    print(f'Initializing counter == i == {i}')\n",
    "    if i not in dupes:\n",
    "        curr = arr[i]\n",
    "        print(f'    curr == arr[{i}] == {arr[i]}')\n",
    "    else:\n",
    "        print(f'i is in dupes')\n",
    "    while counter < len(arr):\n",
    "        if counter == i:\n",
    "            print(f'        Collision: counter == i == {i}')\n",
    "            counter += 1 # skip past curr when encountered\n",
    "            print('        counter += 1')\n",
    "            print(f'        counter == {counter}')\n",
    "            continue\n",
    "        if curr == arr[counter]: # if current equals to next\n",
    "            print(f'        Match: {curr}, {arr[counter]}')\n",
    "            print(f'        Adding \\'{counter}\\' to tally')\n",
    "            dupes.append(counter) # add position to tally\n",
    "            print(f'Dupes so far: {dupes}')\n",
    "        else:\n",
    "            print(f'        No match: {curr}, {arr[counter]}')\n",
    "        counter += 1\n",
    "        print(f'    counter += 1')\n",
    "        print(f'    counter == {counter}')\n",
    "print(f'Positions of duplicates: {dupes}')"
   ]
  },
  {
   "cell_type": "code",
   "execution_count": 7,
   "metadata": {},
   "outputs": [],
   "source": [
    "def find_dupes(arr):\n",
    "    dupes = []\n",
    "    for i in range(len(arr) - 1): # 0-9\n",
    "        counter = i\n",
    "        if i not in dupes:\n",
    "            curr = arr[i]\n",
    "        while counter < len(arr):\n",
    "            if counter == i:\n",
    "                counter += 1 # skip past curr itself when encountered\n",
    "                continue\n",
    "            if curr == arr[counter]: # match\n",
    "                dupes.append(counter) # add position to tally\n",
    "            counter += 1\n",
    "    return dupes"
   ]
  },
  {
   "cell_type": "markdown",
   "metadata": {},
   "source": [
    "# why is this not working after removing `if` condition, when python already knows from the parent scope that `counter == i`?\n",
    "Before: \n",
    "```python\n",
    "        if counter == i:\n",
    "            counter += 1\n",
    "            continue\n",
    "```\n",
    "After:\n",
    "```python\n",
    "        counter += 1\n",
    "```"
   ]
  },
  {
   "cell_type": "code",
   "execution_count": 8,
   "metadata": {},
   "outputs": [
    {
     "name": "stdout",
     "output_type": "stream",
     "text": [
      "    curr == arr[0] == 2\n",
      "    counter == 1\n",
      "        No match: 2, 5\n",
      "    counter += 1\n",
      "    counter == 2\n",
      "    counter == 3\n",
      "        No match: 2, 11\n",
      "    counter += 1\n",
      "    counter == 4\n",
      "    counter == 5\n",
      "        Match: 2, 2\n",
      "        Adding '5' to tally\n",
      "Dupes so far: [5]\n",
      "    counter += 1\n",
      "    counter == 6\n",
      "    counter == 7\n",
      "        No match: 2, 7\n",
      "    counter += 1\n",
      "    counter == 8\n",
      "    counter == 9\n"
     ]
    },
    {
     "ename": "IndexError",
     "evalue": "list index out of range",
     "output_type": "error",
     "traceback": [
      "\u001b[0;31m------------------------------------------------------------------\u001b[0m",
      "\u001b[0;31mIndexError\u001b[0m                       Traceback (most recent call last)",
      "\u001b[0;32m<ipython-input-8-b985f3f68574>\u001b[0m in \u001b[0;36m<module>\u001b[0;34m()\u001b[0m\n\u001b[1;32m     11\u001b[0m         \u001b[0mcounter\u001b[0m \u001b[0;34m+=\u001b[0m \u001b[0;36m1\u001b[0m\u001b[0;34m\u001b[0m\u001b[0m\n\u001b[1;32m     12\u001b[0m         \u001b[0mprint\u001b[0m\u001b[0;34m(\u001b[0m\u001b[0;34mf'    counter == {counter}'\u001b[0m\u001b[0;34m)\u001b[0m\u001b[0;34m\u001b[0m\u001b[0m\n\u001b[0;32m---> 13\u001b[0;31m         \u001b[0;32mif\u001b[0m \u001b[0mcurr\u001b[0m \u001b[0;34m==\u001b[0m \u001b[0marr\u001b[0m\u001b[0;34m[\u001b[0m\u001b[0mcounter\u001b[0m\u001b[0;34m]\u001b[0m\u001b[0;34m:\u001b[0m \u001b[0;31m# if current equals to next\u001b[0m\u001b[0;34m\u001b[0m\u001b[0m\n\u001b[0m\u001b[1;32m     14\u001b[0m             \u001b[0mprint\u001b[0m\u001b[0;34m(\u001b[0m\u001b[0;34mf'        Match: {curr}, {arr[counter]}'\u001b[0m\u001b[0;34m)\u001b[0m\u001b[0;34m\u001b[0m\u001b[0m\n\u001b[1;32m     15\u001b[0m             \u001b[0mprint\u001b[0m\u001b[0;34m(\u001b[0m\u001b[0;34mf'        Adding \\'{counter}\\' to tally'\u001b[0m\u001b[0;34m)\u001b[0m\u001b[0;34m\u001b[0m\u001b[0m\n",
      "\u001b[0;31mIndexError\u001b[0m: list index out of range"
     ]
    }
   ],
   "source": [
    "arr = [2, 5, 7, 11, 7, 2, 5, 7, 2]\n",
    "dupes = []\n",
    "for i in range(len(arr) - 1): # 0-9\n",
    "    counter = i\n",
    "    if i not in dupes:\n",
    "        curr = arr[i]\n",
    "        print(f'    curr == arr[{i}] == {arr[i]}')\n",
    "    else:\n",
    "        print(f'i is in dupes')\n",
    "    while counter < len(arr):\n",
    "        counter += 1\n",
    "        print(f'    counter == {counter}')\n",
    "        if curr == arr[counter]: # if current equals to next\n",
    "            print(f'        Match: {curr}, {arr[counter]}')\n",
    "            print(f'        Adding \\'{counter}\\' to tally')\n",
    "            dupes.append(counter) # add position to tally\n",
    "            print(f'Dupes so far: {dupes}')\n",
    "        else:\n",
    "            print(f'        No match: {curr}, {arr[counter]}')\n",
    "        counter += 1\n",
    "        print(f'    counter += 1')\n",
    "        print(f'    counter == {counter}')\n",
    "print(f'Positions of duplicates: {dupes}')"
   ]
  },
  {
   "cell_type": "markdown",
   "metadata": {},
   "source": [
    "# Why is this not working if `counter` is not initialized in parent scope?\n",
    "Before:\n",
    "```python\n",
    "for i in range(len(arr) - 1): # 0-9\n",
    "    counter = i\n",
    "    if i not in dupes:\n",
    "        curr = arr[i]\n",
    "    while counter < len(arr):\n",
    "        if counter == i:\n",
    "            counter += 1\n",
    "            continue\n",
    "```\n",
    "After:\n",
    "```python\n",
    "for i in range(len(arr) - 1): # 0-9\n",
    "    if i not in dupes:\n",
    "        curr = arr[i]\n",
    "    while counter < len(arr):\n",
    "        counter = i + 1\n",
    "        continue\n",
    "```"
   ]
  },
  {
   "cell_type": "code",
   "execution_count": 10,
   "metadata": {},
   "outputs": [
    {
     "name": "stdout",
     "output_type": "stream",
     "text": [
      "    curr == arr[0] == 2\n",
      "    curr == arr[1] == 5\n",
      "    curr == arr[2] == 7\n",
      "    curr == arr[3] == 11\n",
      "    curr == arr[4] == 7\n",
      "    curr == arr[5] == 2\n",
      "    curr == arr[6] == 5\n",
      "    curr == arr[7] == 7\n",
      "Positions of duplicates: []\n"
     ]
    }
   ],
   "source": [
    "arr = [2, 5, 7, 11, 7, 2, 5, 7, 2]\n",
    "dupes = []\n",
    "for i in range(len(arr) - 1): # 0-9\n",
    "    if i not in dupes:\n",
    "        curr = arr[i]\n",
    "        print(f'    curr == arr[{i}] == {arr[i]}')\n",
    "    else:\n",
    "        print(f'i is in dupes')\n",
    "    while counter < len(arr):\n",
    "        counter = i + 1\n",
    "        print(f'    counter == {counter}')\n",
    "        continue\n",
    "        if curr == arr[counter]: # if current equals to next\n",
    "            print(f'        Match: {curr}, {arr[counter]}')\n",
    "            print(f'        Adding \\'{counter}\\' to tally')\n",
    "            dupes.append(counter) # add position to tally\n",
    "            print(f'Dupes so far: {dupes}')\n",
    "        else:\n",
    "            print(f'        No match: {curr}, {arr[counter]}')\n",
    "        counter += 1\n",
    "        print(f'    counter += 1')\n",
    "        print(f'    counter == {counter}')\n",
    "print(f'Positions of duplicates: {dupes}')"
   ]
  },
  {
   "cell_type": "code",
   "execution_count": 23,
   "metadata": {},
   "outputs": [],
   "source": [
    "def find_dupes(arr):\n",
    "    dupes = []\n",
    "    for i in range(len(arr) - 1): # 0-9\n",
    "        counter = i\n",
    "        if i not in dupes:\n",
    "            curr = arr[i]\n",
    "        while counter < len(arr):\n",
    "            if counter == i:\n",
    "                counter += 1 # skip past curr itself when encountered\n",
    "                continue\n",
    "            if curr == arr[counter]: # match\n",
    "                dupes.append(counter) # add position to tally\n",
    "            counter += 1\n",
    "    return dupes"
   ]
  },
  {
   "cell_type": "code",
   "execution_count": null,
   "metadata": {},
   "outputs": [],
   "source": [
    "# create list and nodes\n",
    "L1 = LinkedList()\n",
    "L1.head = Node(2)\n",
    "L1.two = Node(5)\n",
    "L1.three = Node(7)\n",
    "L1.four = Node(11)\n",
    "L1.five = Node(7)\n",
    "L1.six = Node(2)\n",
    "L1.seven = Node(12)\n",
    "L1.eight = Node(60)\n",
    "L1.nine = Node(49)\n",
    "L1.ten = Node(2)\n",
    "\n",
    "# link the nodes\n",
    "L1.head.next = L1.two\n",
    "L1.two.next = L1.three\n",
    "L1.three.next = L1.four\n",
    "L1.four.next = L1.five\n",
    "L1.five.next = L1.six\n",
    "L1.six.next = L1.seven\n",
    "L1.seven.next = L1.eight\n",
    "L1.eight.next = L1.nine\n",
    "L1.nine.next = L1.ten"
   ]
  },
  {
   "cell_type": "code",
   "execution_count": 11,
   "metadata": {},
   "outputs": [
    {
     "data": {
      "text/plain": [
       "[2, 5, 7, 11, 7, 2, 12, 60, 49, 2]"
      ]
     },
     "execution_count": 11,
     "metadata": {},
     "output_type": "execute_result"
    }
   ],
   "source": [
    "list1 = list(L1); list1"
   ]
  },
  {
   "cell_type": "code",
   "execution_count": 12,
   "metadata": {},
   "outputs": [
    {
     "data": {
      "text/plain": [
       "[5, 9, 4]"
      ]
     },
     "execution_count": 12,
     "metadata": {},
     "output_type": "execute_result"
    }
   ],
   "source": [
    "d1 = find_dupes(list1); d1"
   ]
  },
  {
   "cell_type": "code",
   "execution_count": 13,
   "metadata": {},
   "outputs": [],
   "source": [
    "# consider creating a function that automatically generates a linked list given a list of elements\n",
    "# create list and nodes\n",
    "L2 = LinkedList()\n",
    "L2.head = Node(3)\n",
    "L2.two = Node(5)\n",
    "L2.three = Node(8)\n",
    "L2.four = Node(3)\n",
    "L2.five = Node(7)\n",
    "L2.six = Node(2)\n",
    "L2.seven = Node(12)\n",
    "L2.eight = Node(3)\n",
    "L2.nine = Node(49)\n",
    "L2.ten = Node(2)\n",
    "\n",
    "# link the nodes\n",
    "L2.head.next = L1.two\n",
    "L2.two.next = L1.three\n",
    "L2.three.next = L1.four\n",
    "L2.four.next = L1.five\n",
    "L2.five.next = L1.six\n",
    "L2.six.next = L1.seven\n",
    "L2.seven.next = L1.eight\n",
    "L2.eight.next = L1.nine\n",
    "L2.nine.next = L1.ten"
   ]
  },
  {
   "cell_type": "code",
   "execution_count": 14,
   "metadata": {},
   "outputs": [
    {
     "data": {
      "text/plain": [
       "[3, 5, 7, 11, 7, 2, 12, 60, 49, 2]"
      ]
     },
     "execution_count": 14,
     "metadata": {},
     "output_type": "execute_result"
    }
   ],
   "source": [
    "list2 = list(L2); list2"
   ]
  },
  {
   "cell_type": "code",
   "execution_count": 15,
   "metadata": {},
   "outputs": [
    {
     "data": {
      "text/plain": [
       "[4, 9]"
      ]
     },
     "execution_count": 15,
     "metadata": {},
     "output_type": "execute_result"
    }
   ],
   "source": [
    "d2 = find_dupes(list2); d2"
   ]
  },
  {
   "cell_type": "markdown",
   "metadata": {},
   "source": [
    "# ?????? Why is this not looping"
   ]
  },
  {
   "cell_type": "code",
   "execution_count": 19,
   "metadata": {},
   "outputs": [
    {
     "name": "stdout",
     "output_type": "stream",
     "text": [
      "Data to be deleted: 2\n",
      "Data has been deleted.\n"
     ]
    }
   ],
   "source": [
    "for i in dp2:\n",
    "    L2.delete_position(i)"
   ]
  },
  {
   "cell_type": "code",
   "execution_count": 20,
   "metadata": {},
   "outputs": [
    {
     "name": "stdout",
     "output_type": "stream",
     "text": [
      "3\n",
      "5\n",
      "7\n",
      "11\n",
      "12\n",
      "60\n",
      "49\n",
      "2\n"
     ]
    }
   ],
   "source": [
    "L2.print_list()"
   ]
  },
  {
   "cell_type": "code",
   "execution_count": null,
   "metadata": {},
   "outputs": [],
   "source": []
  }
 ],
 "metadata": {
  "kernelspec": {
   "display_name": "Python",
   "language": "python",
   "name": "python3"
  },
  "language_info": {
   "codemirror_mode": {
    "name": "ipython",
    "version": 3
   },
   "file_extension": ".py",
   "mimetype": "text/x-python",
   "name": "python",
   "nbconvert_exporter": "python",
   "pygments_lexer": "ipython3",
   "version": "3.6.4"
  }
 },
 "nbformat": 4,
 "nbformat_minor": 2
}
