{
 "cells": [
  {
   "cell_type": "markdown",
   "metadata": {},
   "source": [
    "# Playlist\n",
    "- Givent Current song and Target song\n",
    "- Circular list: after last song, loop back to fist\n",
    "- Only allowed to move up 1 and down 1\n",
    "- Find the min clicks to target song from current song\n",
    "- Direction doesn't matter\n",
    "\n",
    "## Tags\n",
    "- Circular list\n",
    "- Minimum number of operations"
   ]
  },
  {
   "cell_type": "code",
   "execution_count": 1,
   "metadata": {},
   "outputs": [
    {
     "data": {
      "text/plain": [
       "<enumerate at 0x10283bf78>"
      ]
     },
     "execution_count": 1,
     "metadata": {},
     "output_type": "execute_result"
    }
   ],
   "source": [
    "seasons = ['spring', 'summer', 'fall', 'winter']\n",
    "enumerate(seasons)"
   ]
  },
  {
   "cell_type": "code",
   "execution_count": 2,
   "metadata": {},
   "outputs": [
    {
     "data": {
      "text/plain": [
       "[(0, 'spring'), (1, 'summer'), (2, 'fall'), (3, 'winter')]"
      ]
     },
     "execution_count": 2,
     "metadata": {},
     "output_type": "execute_result"
    }
   ],
   "source": [
    "list(enumerate(seasons))"
   ]
  },
  {
   "cell_type": "code",
   "execution_count": 5,
   "metadata": {},
   "outputs": [
    {
     "data": {
      "text/plain": [
       "{0: 'spring', 1: 'summer', 2: 'fall', 3: 'winter'}"
      ]
     },
     "execution_count": 5,
     "metadata": {},
     "output_type": "execute_result"
    }
   ],
   "source": [
    "{k : v for k, v in enumerate(seasons)} # list to dict"
   ]
  },
  {
   "cell_type": "code",
   "execution_count": 37,
   "metadata": {},
   "outputs": [],
   "source": [
    "def min_clicks(playlist, curr, target):\n",
    "    diff = abs(playlist.index(target) - playlist.index(curr))\n",
    "    length = len(playlist)\n",
    "    if length % 2 == 0:\n",
    "        if diff > length/2:\n",
    "            return length - diff\n",
    "        elif diff < length/2:\n",
    "            return diff\n",
    "        else:\n",
    "            return length//2\n",
    "    else:\n",
    "        if diff > length//2 + 1:\n",
    "            return length - diff\n",
    "        elif diff < length//2:\n",
    "            return diff\n",
    "        else:\n",
    "            return length//2"
   ]
  },
  {
   "cell_type": "code",
   "execution_count": 38,
   "metadata": {},
   "outputs": [
    {
     "data": {
      "text/plain": [
       "2"
      ]
     },
     "execution_count": 38,
     "metadata": {},
     "output_type": "execute_result"
    }
   ],
   "source": [
    "min_clicks(even_playlist, 'respect', 'stairway to heaven') # 2"
   ]
  },
  {
   "cell_type": "code",
   "execution_count": 39,
   "metadata": {},
   "outputs": [
    {
     "data": {
      "text/plain": [
       "2"
      ]
     },
     "execution_count": 39,
     "metadata": {},
     "output_type": "execute_result"
    }
   ],
   "source": [
    "min_clicks(even_playlist, 'say a little prayer', 'smells like teen spirit') # 2"
   ]
  },
  {
   "cell_type": "code",
   "execution_count": 40,
   "metadata": {},
   "outputs": [
    {
     "data": {
      "text/plain": [
       "3"
      ]
     },
     "execution_count": 40,
     "metadata": {},
     "output_type": "execute_result"
    }
   ],
   "source": [
    "min_clicks(even_playlist, 'smooth criminal', 'smells like teen spirit') "
   ]
  },
  {
   "cell_type": "code",
   "execution_count": null,
   "metadata": {},
   "outputs": [],
   "source": []
  },
  {
   "cell_type": "code",
   "execution_count": 16,
   "metadata": {},
   "outputs": [],
   "source": [
    "even_playlist = [\n",
    "    'respect', \n",
    "    'say a little prayer',\n",
    "    'smooth criminal',\n",
    "    'dancing with myself',\n",
    "    'stairway to heaven',\n",
    "    'smells like teen spirit'\n",
    "]"
   ]
  },
  {
   "cell_type": "code",
   "execution_count": 17,
   "metadata": {},
   "outputs": [
    {
     "data": {
      "text/plain": [
       "{0: 'respect',\n",
       " 1: 'say a little prayer',\n",
       " 2: 'smooth criminal',\n",
       " 3: 'dancing with myself',\n",
       " 4: 'stairway to heaven',\n",
       " 5: 'smells like teen spirit'}"
      ]
     },
     "execution_count": 17,
     "metadata": {},
     "output_type": "execute_result"
    }
   ],
   "source": [
    "even_playdict = {k: v for k, v in enumerate(even_playlist)}; even_playdict"
   ]
  },
  {
   "cell_type": "code",
   "execution_count": 18,
   "metadata": {},
   "outputs": [
    {
     "data": {
      "text/plain": [
       "('smells like teen spirit', 'respect')"
      ]
     },
     "execution_count": 18,
     "metadata": {},
     "output_type": "execute_result"
    }
   ],
   "source": [
    "even_playlist[-1], even_playlist[0]"
   ]
  },
  {
   "cell_type": "code",
   "execution_count": 11,
   "metadata": {},
   "outputs": [],
   "source": [
    "# Even list\n",
    "# len == 6\n",
    "# 0 to 5: 1 up, 5 down (diff == 5, min == 1, max == 5) min = 6 - (5 - 0) == len - diff\n",
    "# 1 to 5: 2 up, 4 down (diff == 4, min == 2, max == 4) min = 6 - (5 - 1) == len - diff\n",
    "# 2 to 5: 3 up, 3 down (diff = 3, min == 3, max == 3) min = 6 - (5 - 2) == len - diff\n",
    "# 3 to 5: 4 up, 2 down (diff = 2, min == 2, max == 4) min = 5 - 3 == diff\n",
    "\n",
    "# len(lst)//2 will have same num clicks up or down\n",
    "# if abs(pos(target) - pos(curr)) == len(lst)/2, min click == len/2 or len - abs(pos(target) - pos(curr))\n",
    "# elif abs(pos(target) - pos(curr)) > len(list)/2, min click = 6 - abs(pos(target) - pos(curr))\n",
    "# elif abs(pos(target) - pos(curr)) < len(list)/2, min click = abs(pos(target) - pos(curr))"
   ]
  },
  {
   "cell_type": "code",
   "execution_count": 15,
   "metadata": {},
   "outputs": [],
   "source": [
    "odd_playlist = [\n",
    "    'bohemian rhapsody',\n",
    "    'life on mars',\n",
    "    'dancing queen',\n",
    "    'champagne supernova',\n",
    "    'yesterday',\n",
    "    'gimme shelter',\n",
    "    'at seventeen'\n",
    "]"
   ]
  },
  {
   "cell_type": "code",
   "execution_count": 19,
   "metadata": {},
   "outputs": [
    {
     "data": {
      "text/plain": [
       "{0: 'bohemian rhapsody',\n",
       " 1: 'life on mars',\n",
       " 2: 'dancing queen',\n",
       " 3: 'champagne supernova',\n",
       " 4: 'yesterday',\n",
       " 5: 'gimme shelter',\n",
       " 6: 'at seventeen'}"
      ]
     },
     "execution_count": 19,
     "metadata": {},
     "output_type": "execute_result"
    }
   ],
   "source": [
    "odd_playdict = {k:v for k,v in enumerate(odd_playlist)}; odd_playdict"
   ]
  },
  {
   "cell_type": "code",
   "execution_count": 20,
   "metadata": {},
   "outputs": [],
   "source": [
    "# Odd list\n",
    "# 0 to 6: 1 up, 6 down (diff == 6, min = 1) min == len - diff\n",
    "# 1 to 6: 2 up, 5 down (diff == 5, min == 2) min == len - diff\n",
    "# 2 to 6: 3 up, 4 down (diff == 4, min == 3) diff == len // 2, min == len//2\n",
    "# 3 to 6: 4 up, 3 down (diff == 3, min == 3) diff == len // 2 + 1\n",
    "# 4 to 6: 5 up, 2 down (diff == 2, min == 2) min == diff\n",
    "# 5 to 6: 6 up, 1 down (diff == 1, min == 1) min == diff\n",
    "\n",
    "# if diff > len//2 + 1, min == diff\n",
    "# if diff == len//2 or len//2 + 1, min == len - (len//2 + 1)\n",
    "# if diff < len//2, min == diff"
   ]
  },
  {
   "cell_type": "code",
   "execution_count": 41,
   "metadata": {},
   "outputs": [
    {
     "data": {
      "text/plain": [
       "3"
      ]
     },
     "execution_count": 41,
     "metadata": {},
     "output_type": "execute_result"
    }
   ],
   "source": [
    "min_clicks(odd_playlist, 'life on mars', 'gimme shelter')"
   ]
  },
  {
   "cell_type": "code",
   "execution_count": 42,
   "metadata": {},
   "outputs": [
    {
     "data": {
      "text/plain": [
       "3"
      ]
     },
     "execution_count": 42,
     "metadata": {},
     "output_type": "execute_result"
    }
   ],
   "source": [
    "min_clicks(odd_playlist, 'dancing queen', 'at seventeen')"
   ]
  },
  {
   "cell_type": "code",
   "execution_count": 43,
   "metadata": {},
   "outputs": [
    {
     "data": {
      "text/plain": [
       "3"
      ]
     },
     "execution_count": 43,
     "metadata": {},
     "output_type": "execute_result"
    }
   ],
   "source": [
    "min_clicks(odd_playlist, 'dancing queen', 'gimme shelter')"
   ]
  },
  {
   "cell_type": "code",
   "execution_count": 44,
   "metadata": {},
   "outputs": [
    {
     "data": {
      "text/plain": [
       "['respect',\n",
       " 'say a little prayer',\n",
       " 'smooth criminal',\n",
       " 'dancing with myself',\n",
       " 'stairway to heaven',\n",
       " 'smells like teen spirit',\n",
       " 'bohemian rhapsody',\n",
       " 'life on mars',\n",
       " 'dancing queen',\n",
       " 'champagne supernova',\n",
       " 'yesterday',\n",
       " 'gimme shelter',\n",
       " 'at seventeen']"
      ]
     },
     "execution_count": 44,
     "metadata": {},
     "output_type": "execute_result"
    }
   ],
   "source": [
    "large_playlist = even_playlist + odd_playlist; large_playlist"
   ]
  },
  {
   "cell_type": "code",
   "execution_count": 45,
   "metadata": {},
   "outputs": [
    {
     "data": {
      "text/plain": [
       "{0: 'respect',\n",
       " 1: 'say a little prayer',\n",
       " 2: 'smooth criminal',\n",
       " 3: 'dancing with myself',\n",
       " 4: 'stairway to heaven',\n",
       " 5: 'smells like teen spirit',\n",
       " 6: 'bohemian rhapsody',\n",
       " 7: 'life on mars',\n",
       " 8: 'dancing queen',\n",
       " 9: 'champagne supernova',\n",
       " 10: 'yesterday',\n",
       " 11: 'gimme shelter',\n",
       " 12: 'at seventeen'}"
      ]
     },
     "execution_count": 45,
     "metadata": {},
     "output_type": "execute_result"
    }
   ],
   "source": [
    "large_playdict = {k:v for k,v in enumerate(large_playlist)}; large_playdict"
   ]
  },
  {
   "cell_type": "code",
   "execution_count": 46,
   "metadata": {},
   "outputs": [
    {
     "data": {
      "text/plain": [
       "2"
      ]
     },
     "execution_count": 46,
     "metadata": {},
     "output_type": "execute_result"
    }
   ],
   "source": [
    "min_clicks(large_playlist, 'dancing with myself', 'say a little prayer')"
   ]
  },
  {
   "cell_type": "code",
   "execution_count": 47,
   "metadata": {},
   "outputs": [
    {
     "data": {
      "text/plain": [
       "6"
      ]
     },
     "execution_count": 47,
     "metadata": {},
     "output_type": "execute_result"
    }
   ],
   "source": [
    "min_clicks(large_playlist, 'smooth criminal', 'champagne supernova')"
   ]
  },
  {
   "cell_type": "code",
   "execution_count": 48,
   "metadata": {},
   "outputs": [
    {
     "data": {
      "text/plain": [
       "6"
      ]
     },
     "execution_count": 48,
     "metadata": {},
     "output_type": "execute_result"
    }
   ],
   "source": [
    "min_clicks(large_playlist, 'dancing with myself', 'yesterday')"
   ]
  },
  {
   "cell_type": "code",
   "execution_count": null,
   "metadata": {},
   "outputs": [],
   "source": []
  }
 ],
 "metadata": {
  "kernelspec": {
   "display_name": "Python",
   "language": "python",
   "name": "python3"
  },
  "language_info": {
   "codemirror_mode": {
    "name": "ipython",
    "version": 3
   },
   "file_extension": ".py",
   "mimetype": "text/x-python",
   "name": "python",
   "nbconvert_exporter": "python",
   "pygments_lexer": "ipython3",
   "version": "3.6.4"
  }
 },
 "nbformat": 4,
 "nbformat_minor": 2
}
