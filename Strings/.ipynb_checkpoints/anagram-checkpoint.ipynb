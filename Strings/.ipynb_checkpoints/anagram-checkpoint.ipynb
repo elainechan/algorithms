{
 "cells": [
  {
   "cell_type": "markdown",
   "metadata": {},
   "source": [
    "# Anagrams\n",
    "https://www.hackerrank.com/challenges/ctci-making-anagrams/problem?h_l=interview&playlist_slugs%5B%5D=interview-preparation-kit&playlist_slugs%5B%5D=strings\n",
    "- Definision: both strings must contain the same exact letters in the same exact frequency.\n",
    "- Encryption scheme: involving two large strings where encryption is dependent on the *minimum number of character deletions required to make the two strings anagrams*.\n",
    "    \n",
    "## Problem statement\n",
    "Given two strings, `x` and `y`, that may or may not be of the same length, determine the minimum number of character deletions required to make `x` and `y` anagrams."
   ]
  },
  {
   "cell_type": "code",
   "execution_count": null,
   "metadata": {},
   "outputs": [],
   "source": [
    "'''\n",
    "Test cases\n",
    "cde\n",
    "abc\n",
    "4\n",
    "\n",
    "fcrxzwscanmligyxyvym\n",
    "jxwtrhvujlmrpdoqbisbwhmgpmeoke\n",
    "30\n",
    "\n",
    "showman\n",
    "woman\n",
    "2\n",
    "'''"
   ]
  },
  {
   "cell_type": "code",
   "execution_count": 16,
   "metadata": {},
   "outputs": [],
   "source": [
    "# sort the strings\n",
    "# find differences between x and y OR find common substring\n",
    "# remove mutually exclusive chars from x and y, counting each removal\n",
    "# return count of removals\n",
    "\n",
    "a = 'chromium'\n",
    "b = 'monochrome'"
   ]
  },
  {
   "cell_type": "markdown",
   "metadata": {},
   "source": [
    "### split string to list using list comprehension"
   ]
  },
  {
   "cell_type": "code",
   "execution_count": 17,
   "metadata": {},
   "outputs": [
    {
     "data": {
      "text/plain": [
       "(['c', 'h', 'r', 'o', 'm', 'i', 'u', 'm'],\n",
       " ['m', 'o', 'n', 'o', 'c', 'h', 'r', 'o', 'm', 'e'])"
      ]
     },
     "execution_count": 17,
     "metadata": {},
     "output_type": "execute_result"
    }
   ],
   "source": [
    "x = [c for c in a]\n",
    "y = [c for c in b]\n",
    "x, y"
   ]
  },
  {
   "cell_type": "markdown",
   "metadata": {},
   "source": [
    "### sort each list"
   ]
  },
  {
   "cell_type": "code",
   "execution_count": 18,
   "metadata": {},
   "outputs": [
    {
     "data": {
      "text/plain": [
       "(['c', 'h', 'i', 'm', 'm', 'o', 'r', 'u'],\n",
       " ['c', 'e', 'h', 'm', 'm', 'n', 'o', 'o', 'o', 'r'])"
      ]
     },
     "execution_count": 18,
     "metadata": {},
     "output_type": "execute_result"
    }
   ],
   "source": [
    "\n",
    "xs = sorted(x)\n",
    "ys = sorted(y); xs, ys"
   ]
  },
  {
   "cell_type": "markdown",
   "metadata": {},
   "source": [
    "### Approach A: find common elements in x and y"
   ]
  },
  {
   "cell_type": "code",
   "execution_count": 19,
   "metadata": {},
   "outputs": [
    {
     "data": {
      "text/plain": [
       "['c', 'h', 'm', 'm', 'm', 'm', 'o', 'o', 'o', 'r']"
      ]
     },
     "execution_count": 19,
     "metadata": {},
     "output_type": "execute_result"
    }
   ],
   "source": [
    "r = []\n",
    "for i in xs:\n",
    "    for j in ys:\n",
    "        if i == j:\n",
    "            r.append(i)\n",
    "r"
   ]
  },
  {
   "cell_type": "code",
   "execution_count": 20,
   "metadata": {},
   "outputs": [],
   "source": [
    "# should be [c, h, m, m, o, r] but is ['c', 'h', 'm', 'm', 'm', 'm', 'o', 'o', 'o', 'r']"
   ]
  },
  {
   "cell_type": "code",
   "execution_count": 21,
   "metadata": {},
   "outputs": [
    {
     "data": {
      "text/plain": [
       "['i', 'u']"
      ]
     },
     "execution_count": 21,
     "metadata": {},
     "output_type": "execute_result"
    }
   ],
   "source": [
    "# in each list count each char not in r\n",
    "[c for c in xs if c not in r]"
   ]
  },
  {
   "cell_type": "code",
   "execution_count": 22,
   "metadata": {},
   "outputs": [
    {
     "data": {
      "text/plain": [
       "['e', 'n']"
      ]
     },
     "execution_count": 22,
     "metadata": {},
     "output_type": "execute_result"
    }
   ],
   "source": [
    "[c for c in ys if c not in r]"
   ]
  },
  {
   "cell_type": "markdown",
   "metadata": {},
   "source": [
    "### Approach B: find difference between x and y"
   ]
  },
  {
   "cell_type": "code",
   "execution_count": 23,
   "metadata": {},
   "outputs": [
    {
     "data": {
      "text/plain": [
       "({'i', 'u'}, {'e', 'n'})"
      ]
     },
     "execution_count": 23,
     "metadata": {},
     "output_type": "execute_result"
    }
   ],
   "source": [
    "set(xs) - set(ys), set(ys) - set(xs)"
   ]
  },
  {
   "cell_type": "code",
   "execution_count": 25,
   "metadata": {},
   "outputs": [
    {
     "data": {
      "text/plain": [
       "(['c', 'm', 'm', 'o', 'r'], ['c', 'm', 'm', 'o', 'o', 'o', 'r'])"
      ]
     },
     "execution_count": 25,
     "metadata": {},
     "output_type": "execute_result"
    }
   ],
   "source": [
    "for k,v in enumerate(xs):\n",
    "    if v in set(xs) - set(ys):\n",
    "        del xs[k]\n",
    "\n",
    "for k,v in enumerate(ys):\n",
    "    if v in set(ys) - set(xs):\n",
    "        del ys[k]\n",
    "xs, ys"
   ]
  },
  {
   "cell_type": "code",
   "execution_count": 26,
   "metadata": {},
   "outputs": [
    {
     "data": {
      "text/plain": [
       "8"
      ]
     },
     "execution_count": 26,
     "metadata": {},
     "output_type": "execute_result"
    }
   ],
   "source": [
    "len(x) + len(y) - len(xs) * 2"
   ]
  },
  {
   "cell_type": "code",
   "execution_count": 27,
   "metadata": {},
   "outputs": [],
   "source": [
    "def find_anagram(a, b):\n",
    "    # split strings to lists\n",
    "    x = [c for c in a]\n",
    "    y = [c for c in b]\n",
    "    # sort lists\n",
    "    xs = sorted(x)\n",
    "    ys = sorted(y)\n",
    "    for k,v in enumerate(xs):\n",
    "        if v in set(xs) - set(ys):\n",
    "            del xs[k]\n",
    "    for k,v in enumerate(ys):\n",
    "        if v in set(ys) - set(xs):\n",
    "            del ys[k]\n",
    "    return len(x) + len(y) - len(xs) * 2"
   ]
  },
  {
   "cell_type": "code",
   "execution_count": 28,
   "metadata": {},
   "outputs": [
    {
     "data": {
      "text/plain": [
       "2"
      ]
     },
     "execution_count": 28,
     "metadata": {},
     "output_type": "execute_result"
    }
   ],
   "source": [
    "find_anagram('showman','woman')"
   ]
  },
  {
   "cell_type": "code",
   "execution_count": 31,
   "metadata": {},
   "outputs": [
    {
     "data": {
      "text/plain": [
       "20"
      ]
     },
     "execution_count": 31,
     "metadata": {},
     "output_type": "execute_result"
    }
   ],
   "source": [
    "find_anagram('fcrxzwscanmligyxyvym', 'jxwtrhvujlmrpdoqbisbwhmgpmeoke')"
   ]
  },
  {
   "cell_type": "code",
   "execution_count": 30,
   "metadata": {},
   "outputs": [
    {
     "data": {
      "text/plain": [
       "2"
      ]
     },
     "execution_count": 30,
     "metadata": {},
     "output_type": "execute_result"
    }
   ],
   "source": [
    "find_anagram('cde', 'abc')"
   ]
  },
  {
   "cell_type": "code",
   "execution_count": 32,
   "metadata": {},
   "outputs": [
    {
     "data": {
      "text/plain": [
       "(97, 98)"
      ]
     },
     "execution_count": 32,
     "metadata": {},
     "output_type": "execute_result"
    }
   ],
   "source": [
    "ord('a'), ord('b')"
   ]
  },
  {
   "cell_type": "markdown",
   "metadata": {},
   "source": [
    "### Approace C: use `ord()` and `chr()`"
   ]
  },
  {
   "cell_type": "code",
   "execution_count": null,
   "metadata": {},
   "outputs": [],
   "source": []
  }
 ],
 "metadata": {
  "kernelspec": {
   "display_name": "Python",
   "language": "python",
   "name": "python3"
  },
  "language_info": {
   "codemirror_mode": {
    "name": "ipython",
    "version": 3
   },
   "file_extension": ".py",
   "mimetype": "text/x-python",
   "name": "python",
   "nbconvert_exporter": "python",
   "pygments_lexer": "ipython3",
   "version": "3.6.4"
  }
 },
 "nbformat": 4,
 "nbformat_minor": 2
}
