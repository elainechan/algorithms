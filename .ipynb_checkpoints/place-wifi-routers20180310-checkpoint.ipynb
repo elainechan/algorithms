{
 "cells": [
  {
   "cell_type": "markdown",
   "metadata": {},
   "source": [
    "# Log\n",
    "\n",
    "## 20180310-1230 - 20180310-1300: 30 minutes\n",
    "\n",
    "\"Wifi mesh node - each leaf (solar PV inverter) must be within the range of a Wifi mesh node\"\n",
    "\n",
    "    wifi_max_interval_in_meters\n",
    "    wifi_max_distance_from_root_in_meters\n",
    "    wifi_max_distance_from_leaf_in_meters\n",
    "\n",
    "## 20180310-1430 - 20180310-1500: 30 minutes\n",
    "\n",
    "    Option 1: Place routers one at a time in a greedy fashion\n",
    "    _ Option 2: Use combinatorial optimization package (postpone for later)\n",
    "    \n",
    "I think the priority now is to just get something working. So let's save combinatorial optimization for a future upgrade.\n",
    "\n",
    "## 20180311-1445 - 20180311-1500: 15 minutes"
   ]
  },
  {
   "cell_type": "code",
   "execution_count": 71,
   "metadata": {},
   "outputs": [],
   "source": [
    "proj4 = '+proj=utm +zone=51 +south +ellps=WGS84 +datum=WGS84 +units=m +no_defs'"
   ]
  },
  {
   "cell_type": "code",
   "execution_count": 72,
   "metadata": {},
   "outputs": [
    {
     "data": {
      "image/svg+xml": [
       "<svg xmlns=\"http://www.w3.org/2000/svg\" xmlns:xlink=\"http://www.w3.org/1999/xlink\" width=\"100.0\" height=\"100.0\" viewBox=\"-4.2 -0.2 5.4 2.4000000000000004\" preserveAspectRatio=\"xMinYMin meet\"><g transform=\"matrix(1,0,0,-1,0,2.0)\"><g><circle cx=\"0.0\" cy=\"0.0\" r=\"0.16200000000000003\" stroke=\"#555555\" stroke-width=\"0.054000000000000006\" fill=\"#b9da9f\" opacity=\"0.6\" /><g><circle cx=\"0.0\" cy=\"1.0\" r=\"0.16200000000000003\" stroke=\"#555555\" stroke-width=\"0.054000000000000006\" fill=\"#dbe43c\" opacity=\"0.6\" /><circle cx=\"1.0\" cy=\"0.0\" r=\"0.16200000000000003\" stroke=\"#555555\" stroke-width=\"0.054000000000000006\" fill=\"#dbe43c\" opacity=\"0.6\" /><circle cx=\"1.0\" cy=\"1.0\" r=\"0.16200000000000003\" stroke=\"#555555\" stroke-width=\"0.054000000000000006\" fill=\"#dbe43c\" opacity=\"0.6\" /><circle cx=\"-1.0\" cy=\"0.0\" r=\"0.16200000000000003\" stroke=\"#555555\" stroke-width=\"0.054000000000000006\" fill=\"#dbe43c\" opacity=\"0.6\" /><circle cx=\"-1.0\" cy=\"1.0\" r=\"0.16200000000000003\" stroke=\"#555555\" stroke-width=\"0.054000000000000006\" fill=\"#dbe43c\" opacity=\"0.6\" /><circle cx=\"-2.0\" cy=\"1.0\" r=\"0.16200000000000003\" stroke=\"#555555\" stroke-width=\"0.054000000000000006\" fill=\"#dbe43c\" opacity=\"0.6\" /><circle cx=\"-2.0\" cy=\"2.0\" r=\"0.16200000000000003\" stroke=\"#555555\" stroke-width=\"0.054000000000000006\" fill=\"#dbe43c\" opacity=\"0.6\" /><circle cx=\"-3.0\" cy=\"1.0\" r=\"0.16200000000000003\" stroke=\"#555555\" stroke-width=\"0.054000000000000006\" fill=\"#dbe43c\" opacity=\"0.6\" /><circle cx=\"-3.0\" cy=\"2.0\" r=\"0.16200000000000003\" stroke=\"#555555\" stroke-width=\"0.054000000000000006\" fill=\"#dbe43c\" opacity=\"0.6\" /><circle cx=\"-4.0\" cy=\"1.0\" r=\"0.16200000000000003\" stroke=\"#555555\" stroke-width=\"0.054000000000000006\" fill=\"#dbe43c\" opacity=\"0.6\" /><circle cx=\"-4.0\" cy=\"2.0\" r=\"0.16200000000000003\" stroke=\"#555555\" stroke-width=\"0.054000000000000006\" fill=\"#dbe43c\" opacity=\"0.6\" /></g></g></g></svg>"
      ],
      "text/plain": [
       "<geotable.ColorfulGeometryCollection at 0x7f5750bddda0>"
      ]
     },
     "execution_count": 72,
     "metadata": {},
     "output_type": "execute_result"
    }
   ],
   "source": [
    "from geotable import ColorfulGeometryCollection\n",
    "from shapely.geometry import (\n",
    "    GeometryCollection, LineString, Point)\n",
    "root_geometry = Point(0, 0)\n",
    "pole_geometries = [\n",
    "    Point(0, 1),\n",
    "    Point(1, 0),\n",
    "    Point(1, 1),\n",
    "    Point(-1, 0),\n",
    "    Point(-1, 1),\n",
    "    Point(-2, 1),\n",
    "    Point(-2, 2),\n",
    "    Point(-3, 1),\n",
    "    Point(-3, 2),\n",
    "    Point(-4, 1),\n",
    "    Point(-4, 2)\n",
    "]\n",
    "ColorfulGeometryCollection([\n",
    "    root_geometry,\n",
    "    GeometryCollection(pole_geometries),\n",
    "])"
   ]
  },
  {
   "cell_type": "code",
   "execution_count": 73,
   "metadata": {},
   "outputs": [],
   "source": [
    "from electric_vine_grid.algorithms import GeoTable\n",
    "\n",
    "root_geotable = GeoTable.from_records([\n",
    "    (root_geometry,),\n",
    "], columns=['geometry_object'])\n",
    "root_geotable['geometry_proj4'] = proj4\n",
    "\n",
    "pole_geotable = GeoTable.from_records([\n",
    "    (x,) for x in pole_geometries\n",
    "], columns=['geometry_object'])\n",
    "pole_geotable['geometry_proj4'] = proj4\n",
    "pole_geotable['has_solar_panel'] = True"
   ]
  },
  {
   "cell_type": "code",
   "execution_count": 74,
   "metadata": {},
   "outputs": [],
   "source": [
    "leaf_geotable = pole_geotable[pole_geotable['has_solar_panel'] == True]"
   ]
  },
  {
   "cell_type": "code",
   "execution_count": 75,
   "metadata": {},
   "outputs": [],
   "source": [
    "root_geometries = root_geotable.geometries\n",
    "pole_geometries = pole_geotable.geometries\n",
    "leaf_geometries = pole_geometries"
   ]
  },
  {
   "cell_type": "code",
   "execution_count": 76,
   "metadata": {},
   "outputs": [],
   "source": [
    "root_points = root_geotable.geometries\n",
    "pole_points = pole_geotable.geometries\n",
    "leaf_points = pole_points"
   ]
  },
  {
   "cell_type": "markdown",
   "metadata": {},
   "source": [
    "    + Make root locations\n",
    "    + Make pole locations\n",
    "    + Make leaf locations\n",
    "    \n",
    "I think that we can assume that all roots have wifi routers.\n",
    "\n",
    "    + Place wifi router at each root"
   ]
  },
  {
   "cell_type": "code",
   "execution_count": 77,
   "metadata": {},
   "outputs": [],
   "source": [
    "xs = []\n",
    "ys = xs.copy()"
   ]
  },
  {
   "cell_type": "code",
   "execution_count": 78,
   "metadata": {},
   "outputs": [
    {
     "data": {
      "text/plain": [
       "[1]"
      ]
     },
     "execution_count": 78,
     "metadata": {},
     "output_type": "execute_result"
    }
   ],
   "source": [
    "ys.append(1)\n",
    "ys"
   ]
  },
  {
   "cell_type": "code",
   "execution_count": 79,
   "metadata": {},
   "outputs": [
    {
     "data": {
      "text/plain": [
       "[]"
      ]
     },
     "execution_count": 79,
     "metadata": {},
     "output_type": "execute_result"
    }
   ],
   "source": [
    "xs"
   ]
  },
  {
   "cell_type": "code",
   "execution_count": 80,
   "metadata": {},
   "outputs": [],
   "source": [
    "remaining_leaf_points = leaf_points.copy()"
   ]
  },
  {
   "cell_type": "markdown",
   "metadata": {},
   "source": [
    "    + Initialize a list of leaves that need wifi access"
   ]
  },
  {
   "cell_type": "code",
   "execution_count": 81,
   "metadata": {},
   "outputs": [
    {
     "data": {
      "text/html": [
       "<div>\n",
       "<style>\n",
       "    .dataframe thead tr:only-child th {\n",
       "        text-align: right;\n",
       "    }\n",
       "\n",
       "    .dataframe thead th {\n",
       "        text-align: left;\n",
       "    }\n",
       "\n",
       "    .dataframe tbody tr th {\n",
       "        vertical-align: top;\n",
       "    }\n",
       "</style>\n",
       "<table border=\"1\" class=\"dataframe\">\n",
       "  <thead>\n",
       "    <tr style=\"text-align: right;\">\n",
       "      <th></th>\n",
       "      <th>geometry_object</th>\n",
       "      <th>geometry_proj4</th>\n",
       "      <th>geometry_layer</th>\n",
       "      <th>has_solar_panel</th>\n",
       "    </tr>\n",
       "  </thead>\n",
       "  <tbody>\n",
       "    <tr>\n",
       "      <th>0</th>\n",
       "      <td>POINT (0 1)</td>\n",
       "      <td>+proj=utm +zone=51 +south +ellps=WGS84 +datum=...</td>\n",
       "      <td></td>\n",
       "      <td>True</td>\n",
       "    </tr>\n",
       "    <tr>\n",
       "      <th>1</th>\n",
       "      <td>POINT (1 0)</td>\n",
       "      <td>+proj=utm +zone=51 +south +ellps=WGS84 +datum=...</td>\n",
       "      <td></td>\n",
       "      <td>True</td>\n",
       "    </tr>\n",
       "    <tr>\n",
       "      <th>2</th>\n",
       "      <td>POINT (1 1)</td>\n",
       "      <td>+proj=utm +zone=51 +south +ellps=WGS84 +datum=...</td>\n",
       "      <td></td>\n",
       "      <td>True</td>\n",
       "    </tr>\n",
       "    <tr>\n",
       "      <th>3</th>\n",
       "      <td>POINT (-1 0)</td>\n",
       "      <td>+proj=utm +zone=51 +south +ellps=WGS84 +datum=...</td>\n",
       "      <td></td>\n",
       "      <td>True</td>\n",
       "    </tr>\n",
       "    <tr>\n",
       "      <th>4</th>\n",
       "      <td>POINT (-1 1)</td>\n",
       "      <td>+proj=utm +zone=51 +south +ellps=WGS84 +datum=...</td>\n",
       "      <td></td>\n",
       "      <td>True</td>\n",
       "    </tr>\n",
       "    <tr>\n",
       "      <th>5</th>\n",
       "      <td>POINT (-2 1)</td>\n",
       "      <td>+proj=utm +zone=51 +south +ellps=WGS84 +datum=...</td>\n",
       "      <td></td>\n",
       "      <td>True</td>\n",
       "    </tr>\n",
       "    <tr>\n",
       "      <th>6</th>\n",
       "      <td>POINT (-2 2)</td>\n",
       "      <td>+proj=utm +zone=51 +south +ellps=WGS84 +datum=...</td>\n",
       "      <td></td>\n",
       "      <td>True</td>\n",
       "    </tr>\n",
       "    <tr>\n",
       "      <th>7</th>\n",
       "      <td>POINT (-3 1)</td>\n",
       "      <td>+proj=utm +zone=51 +south +ellps=WGS84 +datum=...</td>\n",
       "      <td></td>\n",
       "      <td>True</td>\n",
       "    </tr>\n",
       "    <tr>\n",
       "      <th>8</th>\n",
       "      <td>POINT (-3 2)</td>\n",
       "      <td>+proj=utm +zone=51 +south +ellps=WGS84 +datum=...</td>\n",
       "      <td></td>\n",
       "      <td>True</td>\n",
       "    </tr>\n",
       "    <tr>\n",
       "      <th>9</th>\n",
       "      <td>POINT (-4 1)</td>\n",
       "      <td>+proj=utm +zone=51 +south +ellps=WGS84 +datum=...</td>\n",
       "      <td></td>\n",
       "      <td>True</td>\n",
       "    </tr>\n",
       "    <tr>\n",
       "      <th>10</th>\n",
       "      <td>POINT (-4 2)</td>\n",
       "      <td>+proj=utm +zone=51 +south +ellps=WGS84 +datum=...</td>\n",
       "      <td></td>\n",
       "      <td>True</td>\n",
       "    </tr>\n",
       "  </tbody>\n",
       "</table>\n",
       "</div>"
      ],
      "text/plain": [
       "   geometry_object                                     geometry_proj4  \\\n",
       "0      POINT (0 1)  +proj=utm +zone=51 +south +ellps=WGS84 +datum=...   \n",
       "1      POINT (1 0)  +proj=utm +zone=51 +south +ellps=WGS84 +datum=...   \n",
       "2      POINT (1 1)  +proj=utm +zone=51 +south +ellps=WGS84 +datum=...   \n",
       "3     POINT (-1 0)  +proj=utm +zone=51 +south +ellps=WGS84 +datum=...   \n",
       "4     POINT (-1 1)  +proj=utm +zone=51 +south +ellps=WGS84 +datum=...   \n",
       "5     POINT (-2 1)  +proj=utm +zone=51 +south +ellps=WGS84 +datum=...   \n",
       "6     POINT (-2 2)  +proj=utm +zone=51 +south +ellps=WGS84 +datum=...   \n",
       "7     POINT (-3 1)  +proj=utm +zone=51 +south +ellps=WGS84 +datum=...   \n",
       "8     POINT (-3 2)  +proj=utm +zone=51 +south +ellps=WGS84 +datum=...   \n",
       "9     POINT (-4 1)  +proj=utm +zone=51 +south +ellps=WGS84 +datum=...   \n",
       "10    POINT (-4 2)  +proj=utm +zone=51 +south +ellps=WGS84 +datum=...   \n",
       "\n",
       "   geometry_layer  has_solar_panel  \n",
       "0                             True  \n",
       "1                             True  \n",
       "2                             True  \n",
       "3                             True  \n",
       "4                             True  \n",
       "5                             True  \n",
       "6                             True  \n",
       "7                             True  \n",
       "8                             True  \n",
       "9                             True  \n",
       "10                            True  "
      ]
     },
     "execution_count": 81,
     "metadata": {},
     "output_type": "execute_result"
    }
   ],
   "source": [
    "leaf_geotable"
   ]
  },
  {
   "cell_type": "code",
   "execution_count": 82,
   "metadata": {},
   "outputs": [],
   "source": [
    "from electric_vine_grid.algorithms import GeoTable\n",
    "t = GeoTable.from_records(leaf_geotable)"
   ]
  },
  {
   "cell_type": "code",
   "execution_count": 83,
   "metadata": {},
   "outputs": [
    {
     "data": {
      "text/plain": [
       "True"
      ]
     },
     "execution_count": 83,
     "metadata": {},
     "output_type": "execute_result"
    }
   ],
   "source": [
    "t._is_metric"
   ]
  },
  {
   "cell_type": "code",
   "execution_count": 84,
   "metadata": {},
   "outputs": [
    {
     "data": {
      "text/plain": [
       "[<shapely.geometry.point.Point at 0x7f5750b289e8>]"
      ]
     },
     "execution_count": 84,
     "metadata": {},
     "output_type": "execute_result"
    }
   ],
   "source": [
    "t.get_nearest_geometries(Point(0, 0), maximum_count=1, maximum_distance_in_meters=100.)"
   ]
  },
  {
   "cell_type": "code",
   "execution_count": 85,
   "metadata": {},
   "outputs": [],
   "source": [
    "import numpy as np"
   ]
  },
  {
   "cell_type": "code",
   "execution_count": 86,
   "metadata": {},
   "outputs": [
    {
     "data": {
      "text/plain": [
       "True"
      ]
     },
     "execution_count": 86,
     "metadata": {},
     "output_type": "execute_result"
    }
   ],
   "source": [
    "1 < np.inf"
   ]
  },
  {
   "cell_type": "code",
   "execution_count": 87,
   "metadata": {},
   "outputs": [
    {
     "data": {
      "text/plain": [
       "[]"
      ]
     },
     "execution_count": 87,
     "metadata": {},
     "output_type": "execute_result"
    }
   ],
   "source": [
    "t.get_nearest_geometries(Point(0, 0), maximum_count=np.inf, maximum_distance_in_meters=1)"
   ]
  },
  {
   "cell_type": "code",
   "execution_count": 88,
   "metadata": {},
   "outputs": [
    {
     "data": {
      "text/plain": [
       "int"
      ]
     },
     "execution_count": 88,
     "metadata": {},
     "output_type": "execute_result"
    }
   ],
   "source": [
    "type(1)"
   ]
  },
  {
   "cell_type": "code",
   "execution_count": 89,
   "metadata": {},
   "outputs": [
    {
     "data": {
      "text/plain": [
       "True"
      ]
     },
     "execution_count": 89,
     "metadata": {},
     "output_type": "execute_result"
    }
   ],
   "source": [
    "type(1) == int"
   ]
  },
  {
   "cell_type": "code",
   "execution_count": 90,
   "metadata": {},
   "outputs": [
    {
     "data": {
      "text/plain": [
       "True"
      ]
     },
     "execution_count": 90,
     "metadata": {},
     "output_type": "execute_result"
    }
   ],
   "source": [
    "isinstance(1, int)"
   ]
  },
  {
   "cell_type": "code",
   "execution_count": 91,
   "metadata": {},
   "outputs": [
    {
     "data": {
      "text/plain": [
       "str"
      ]
     },
     "execution_count": 91,
     "metadata": {},
     "output_type": "execute_result"
    }
   ],
   "source": [
    "type('a')"
   ]
  },
  {
   "cell_type": "code",
   "execution_count": 92,
   "metadata": {},
   "outputs": [],
   "source": [
    "leaf_geotable = t"
   ]
  },
  {
   "cell_type": "code",
   "execution_count": 93,
   "metadata": {},
   "outputs": [],
   "source": [
    "remaining_leaf_geotable = t"
   ]
  },
  {
   "cell_type": "code",
   "execution_count": 94,
   "metadata": {},
   "outputs": [
    {
     "data": {
      "text/plain": [
       "11"
      ]
     },
     "execution_count": 94,
     "metadata": {},
     "output_type": "execute_result"
    }
   ],
   "source": [
    "len(t)"
   ]
  },
  {
   "cell_type": "code",
   "execution_count": 95,
   "metadata": {},
   "outputs": [
    {
     "data": {
      "text/html": [
       "<div>\n",
       "<style>\n",
       "    .dataframe thead tr:only-child th {\n",
       "        text-align: right;\n",
       "    }\n",
       "\n",
       "    .dataframe thead th {\n",
       "        text-align: left;\n",
       "    }\n",
       "\n",
       "    .dataframe tbody tr th {\n",
       "        vertical-align: top;\n",
       "    }\n",
       "</style>\n",
       "<table border=\"1\" class=\"dataframe\">\n",
       "  <thead>\n",
       "    <tr style=\"text-align: right;\">\n",
       "      <th></th>\n",
       "      <th>geometry_object</th>\n",
       "      <th>geometry_proj4</th>\n",
       "      <th>geometry_layer</th>\n",
       "      <th>has_solar_panel</th>\n",
       "    </tr>\n",
       "  </thead>\n",
       "  <tbody>\n",
       "    <tr>\n",
       "      <th>1</th>\n",
       "      <td>POINT (1 0)</td>\n",
       "      <td>+proj=utm +zone=51 +south +ellps=WGS84 +datum=...</td>\n",
       "      <td></td>\n",
       "      <td>True</td>\n",
       "    </tr>\n",
       "    <tr>\n",
       "      <th>2</th>\n",
       "      <td>POINT (1 1)</td>\n",
       "      <td>+proj=utm +zone=51 +south +ellps=WGS84 +datum=...</td>\n",
       "      <td></td>\n",
       "      <td>True</td>\n",
       "    </tr>\n",
       "    <tr>\n",
       "      <th>3</th>\n",
       "      <td>POINT (-1 0)</td>\n",
       "      <td>+proj=utm +zone=51 +south +ellps=WGS84 +datum=...</td>\n",
       "      <td></td>\n",
       "      <td>True</td>\n",
       "    </tr>\n",
       "    <tr>\n",
       "      <th>4</th>\n",
       "      <td>POINT (-1 1)</td>\n",
       "      <td>+proj=utm +zone=51 +south +ellps=WGS84 +datum=...</td>\n",
       "      <td></td>\n",
       "      <td>True</td>\n",
       "    </tr>\n",
       "    <tr>\n",
       "      <th>5</th>\n",
       "      <td>POINT (-2 1)</td>\n",
       "      <td>+proj=utm +zone=51 +south +ellps=WGS84 +datum=...</td>\n",
       "      <td></td>\n",
       "      <td>True</td>\n",
       "    </tr>\n",
       "    <tr>\n",
       "      <th>6</th>\n",
       "      <td>POINT (-2 2)</td>\n",
       "      <td>+proj=utm +zone=51 +south +ellps=WGS84 +datum=...</td>\n",
       "      <td></td>\n",
       "      <td>True</td>\n",
       "    </tr>\n",
       "    <tr>\n",
       "      <th>7</th>\n",
       "      <td>POINT (-3 1)</td>\n",
       "      <td>+proj=utm +zone=51 +south +ellps=WGS84 +datum=...</td>\n",
       "      <td></td>\n",
       "      <td>True</td>\n",
       "    </tr>\n",
       "    <tr>\n",
       "      <th>8</th>\n",
       "      <td>POINT (-3 2)</td>\n",
       "      <td>+proj=utm +zone=51 +south +ellps=WGS84 +datum=...</td>\n",
       "      <td></td>\n",
       "      <td>True</td>\n",
       "    </tr>\n",
       "    <tr>\n",
       "      <th>9</th>\n",
       "      <td>POINT (-4 1)</td>\n",
       "      <td>+proj=utm +zone=51 +south +ellps=WGS84 +datum=...</td>\n",
       "      <td></td>\n",
       "      <td>True</td>\n",
       "    </tr>\n",
       "    <tr>\n",
       "      <th>10</th>\n",
       "      <td>POINT (-4 2)</td>\n",
       "      <td>+proj=utm +zone=51 +south +ellps=WGS84 +datum=...</td>\n",
       "      <td></td>\n",
       "      <td>True</td>\n",
       "    </tr>\n",
       "  </tbody>\n",
       "</table>\n",
       "</div>"
      ],
      "text/plain": [
       "   geometry_object                                     geometry_proj4  \\\n",
       "1      POINT (1 0)  +proj=utm +zone=51 +south +ellps=WGS84 +datum=...   \n",
       "2      POINT (1 1)  +proj=utm +zone=51 +south +ellps=WGS84 +datum=...   \n",
       "3     POINT (-1 0)  +proj=utm +zone=51 +south +ellps=WGS84 +datum=...   \n",
       "4     POINT (-1 1)  +proj=utm +zone=51 +south +ellps=WGS84 +datum=...   \n",
       "5     POINT (-2 1)  +proj=utm +zone=51 +south +ellps=WGS84 +datum=...   \n",
       "6     POINT (-2 2)  +proj=utm +zone=51 +south +ellps=WGS84 +datum=...   \n",
       "7     POINT (-3 1)  +proj=utm +zone=51 +south +ellps=WGS84 +datum=...   \n",
       "8     POINT (-3 2)  +proj=utm +zone=51 +south +ellps=WGS84 +datum=...   \n",
       "9     POINT (-4 1)  +proj=utm +zone=51 +south +ellps=WGS84 +datum=...   \n",
       "10    POINT (-4 2)  +proj=utm +zone=51 +south +ellps=WGS84 +datum=...   \n",
       "\n",
       "   geometry_layer  has_solar_panel  \n",
       "1                             True  \n",
       "2                             True  \n",
       "3                             True  \n",
       "4                             True  \n",
       "5                             True  \n",
       "6                             True  \n",
       "7                             True  \n",
       "8                             True  \n",
       "9                             True  \n",
       "10                            True  "
      ]
     },
     "execution_count": 95,
     "metadata": {},
     "output_type": "execute_result"
    }
   ],
   "source": [
    "t.iloc[t.index.difference([0])]"
   ]
  },
  {
   "cell_type": "markdown",
   "metadata": {},
   "source": [
    "## 20180312-2100 - 20180312-2200: 60 minutes"
   ]
  },
  {
   "cell_type": "code",
   "execution_count": 96,
   "metadata": {},
   "outputs": [],
   "source": [
    "from electric_vine_grid.algorithms import GeoTable"
   ]
  },
  {
   "cell_type": "code",
   "execution_count": 97,
   "metadata": {},
   "outputs": [],
   "source": [
    "root_geotable = GeoTable.from_records([\n",
    "    (root_geometry,),\n",
    "], columns=['geometry_object'])\n",
    "root_geotable['geometry_proj4'] = proj4\n",
    "\n",
    "pole_geotable = GeoTable.from_records([\n",
    "    (x,) for x in pole_geometries\n",
    "], columns=['geometry_object'])\n",
    "pole_geotable['geometry_proj4'] = proj4\n",
    "pole_geotable['has_solar_panel'] = True"
   ]
  },
  {
   "cell_type": "code",
   "execution_count": 98,
   "metadata": {},
   "outputs": [],
   "source": [
    "indices = [0, 1]"
   ]
  },
  {
   "cell_type": "code",
   "execution_count": null,
   "metadata": {},
   "outputs": [],
   "source": [
    "# For each unconnected leaf,\n",
    "    # Mark nearby poles\n",
    "# Sort poles by the number of times it has been marked\n",
    "# For each pole in sorted order that has been marked at least once,\n",
    "    # Place a wifi router at the pole\n",
    "    # Remove covered leaves"
   ]
  },
  {
   "cell_type": "code",
   "execution_count": 101,
   "metadata": {},
   "outputs": [
    {
     "data": {
      "text/html": [
       "<div>\n",
       "<style>\n",
       "    .dataframe thead tr:only-child th {\n",
       "        text-align: right;\n",
       "    }\n",
       "\n",
       "    .dataframe thead th {\n",
       "        text-align: left;\n",
       "    }\n",
       "\n",
       "    .dataframe tbody tr th {\n",
       "        vertical-align: top;\n",
       "    }\n",
       "</style>\n",
       "<table border=\"1\" class=\"dataframe\">\n",
       "  <thead>\n",
       "    <tr style=\"text-align: right;\">\n",
       "      <th></th>\n",
       "      <th>has_wifi</th>\n",
       "    </tr>\n",
       "  </thead>\n",
       "  <tbody>\n",
       "    <tr>\n",
       "      <th>0</th>\n",
       "      <td>False</td>\n",
       "    </tr>\n",
       "    <tr>\n",
       "      <th>1</th>\n",
       "      <td>False</td>\n",
       "    </tr>\n",
       "    <tr>\n",
       "      <th>2</th>\n",
       "      <td>False</td>\n",
       "    </tr>\n",
       "    <tr>\n",
       "      <th>3</th>\n",
       "      <td>False</td>\n",
       "    </tr>\n",
       "    <tr>\n",
       "      <th>4</th>\n",
       "      <td>False</td>\n",
       "    </tr>\n",
       "    <tr>\n",
       "      <th>5</th>\n",
       "      <td>False</td>\n",
       "    </tr>\n",
       "    <tr>\n",
       "      <th>6</th>\n",
       "      <td>False</td>\n",
       "    </tr>\n",
       "    <tr>\n",
       "      <th>7</th>\n",
       "      <td>False</td>\n",
       "    </tr>\n",
       "    <tr>\n",
       "      <th>8</th>\n",
       "      <td>False</td>\n",
       "    </tr>\n",
       "    <tr>\n",
       "      <th>9</th>\n",
       "      <td>False</td>\n",
       "    </tr>\n",
       "    <tr>\n",
       "      <th>10</th>\n",
       "      <td>False</td>\n",
       "    </tr>\n",
       "  </tbody>\n",
       "</table>\n",
       "</div>"
      ],
      "text/plain": [
       "    has_wifi\n",
       "0      False\n",
       "1      False\n",
       "2      False\n",
       "3      False\n",
       "4      False\n",
       "5      False\n",
       "6      False\n",
       "7      False\n",
       "8      False\n",
       "9      False\n",
       "10     False"
      ]
     },
     "execution_count": 101,
     "metadata": {},
     "output_type": "execute_result"
    }
   ],
   "source": [
    "def prepare_wifi_routers(\n",
    "        pole_geotable,\n",
    "        root_geotable,\n",
    "        wifi_max_distance_from_leaf_in_meters,\n",
    "        wifi_max_distance_from_root_in_meters,\n",
    "        wifi_max_interval_in_meters):\n",
    "    leaf_geotable = pole_geotable[pole_geotable['has_solar_panel'] == True]\n",
    "    # Skip leaves that are covered by a root\n",
    "    for root_index, root_row in root_geotable.iterrows():\n",
    "        root_geometry = root_row['geometry_object']\n",
    "        connected_leaf_indices = leaf_geotable.get_nearest_indices(\n",
    "            root_geometry,\n",
    "            maximum_distance_in_meters=wifi_max_distance_from_root_in_meters)\n",
    "        leaf_geotable = leaf_geotable.iloc[leaf_geotable.index.difference(\n",
    "            connected_leaf_indices)]\n",
    "    # Place wifi routers to connect leaves\n",
    "    # Connect wifi routers\n",
    "    pole_geotable['has_wifi'] = False\n",
    "    return {\n",
    "        'pole': pole_geotable,\n",
    "    }\n",
    "\n",
    "wifi_max_distance_from_leaf_in_meters = 1\n",
    "wifi_max_distance_from_root_in_meters = 1.5\n",
    "wifi_max_interval_in_meters = 1\n",
    "prepare_wifi_routers(\n",
    "    pole_geotable,\n",
    "    root_geotable,\n",
    "    wifi_max_distance_from_leaf_in_meters,\n",
    "    wifi_max_distance_from_root_in_meters,\n",
    "    wifi_max_interval_in_meters)['pole'][['has_wifi']]"
   ]
  },
  {
   "cell_type": "code",
   "execution_count": null,
   "metadata": {},
   "outputs": [],
   "source": []
  },
  {
   "cell_type": "markdown",
   "metadata": {},
   "source": [
    "    + See which leaves still need to be covered"
   ]
  },
  {
   "cell_type": "code",
   "execution_count": null,
   "metadata": {},
   "outputs": [],
   "source": []
  },
  {
   "cell_type": "markdown",
   "metadata": {},
   "source": [
    "# Tasks\n",
    "\n",
    "    \n",
    "    Define metric to minimize\n",
    "        Minimize the number of wifi routers\n",
    "        Minimize the distance of a leaf to a router\n",
    "        Maximize the number of leaves within radius\n",
    "\n",
    "    Evaluate metric at each pole\n",
    "    Place wifi router at pole with best metric\n",
    "    Mark leaves as covered\n",
    "    Repeat"
   ]
  }
 ],
 "metadata": {
  "kernelspec": {
   "display_name": "Python",
   "language": "python",
   "name": "python3"
  },
  "language_info": {
   "codemirror_mode": {
    "name": "ipython",
    "version": 3
   },
   "file_extension": ".py",
   "mimetype": "text/x-python",
   "name": "python",
   "nbconvert_exporter": "python",
   "pygments_lexer": "ipython3",
   "version": "3.6.4"
  }
 },
 "nbformat": 4,
 "nbformat_minor": 2
}
