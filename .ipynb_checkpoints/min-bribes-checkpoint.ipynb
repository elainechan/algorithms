{
 "cells": [
  {
   "cell_type": "code",
   "execution_count": 29,
   "metadata": {},
   "outputs": [],
   "source": [
    "def minimumBribes(q):\n",
    "    bribes = 0\n",
    "    for i in q:\n",
    "        # i can only move forward up to twice\n",
    "        if q.index(i) < i - 3:\n",
    "            return 'Too chaotic'\n",
    "        elif q.index(i) < i - 1:\n",
    "            bribes += (i-1 - q.index(i))\n",
    "    return bribes"
   ]
  },
  {
   "cell_type": "code",
   "execution_count": 2,
   "metadata": {},
   "outputs": [
    {
     "data": {
      "text/plain": [
       "'\\nTest cases\\n\\n2 1 5 3 4\\n3\\n\\n2 5 1 3 4\\nToo chaotic\\n\\n5 1 2 3 7 8 6 4\\nToo chaotic\\n\\n1 2 5 3 7 8 6 4\\n7\\n\\n1 2 5 3 4 7 8 6\\n4\\n'"
      ]
     },
     "execution_count": 2,
     "metadata": {},
     "output_type": "execute_result"
    }
   ],
   "source": [
    "\"\"\"\n",
    "Test cases\n",
    "\n",
    "2 1 5 3 4\n",
    "3\n",
    "\n",
    "2 5 1 3 4\n",
    "Too chaotic\n",
    "\n",
    "5 1 2 3 7 8 6 4\n",
    "Too chaotic\n",
    "\n",
    "1 2 5 3 7 8 6 4\n",
    "7\n",
    "\n",
    "1 2 5 3 4 7 8 6\n",
    "4\n",
    "\"\"\""
   ]
  },
  {
   "cell_type": "code",
   "execution_count": 13,
   "metadata": {},
   "outputs": [],
   "source": [
    "a = [1,2,3,4,5,6,7,8]"
   ]
  },
  {
   "cell_type": "code",
   "execution_count": 26,
   "metadata": {},
   "outputs": [
    {
     "data": {
      "text/plain": [
       "6"
      ]
     },
     "execution_count": 26,
     "metadata": {},
     "output_type": "execute_result"
    }
   ],
   "source": [
    "a.index(7)"
   ]
  },
  {
   "cell_type": "code",
   "execution_count": 23,
   "metadata": {},
   "outputs": [
    {
     "data": {
      "text/plain": [
       "['2', '1', '5', '3', '4']"
      ]
     },
     "execution_count": 23,
     "metadata": {},
     "output_type": "execute_result"
    }
   ],
   "source": [
    "b = \"2 1 5 3 4\".split(' ')\n",
    "[int(i) for i in b]; b"
   ]
  },
  {
   "cell_type": "code",
   "execution_count": 30,
   "metadata": {},
   "outputs": [
    {
     "data": {
      "text/plain": [
       "3"
      ]
     },
     "execution_count": 30,
     "metadata": {},
     "output_type": "execute_result"
    }
   ],
   "source": [
    "minimumBribes([2, 1, 5, 3, 4])"
   ]
  },
  {
   "cell_type": "code",
   "execution_count": 31,
   "metadata": {},
   "outputs": [
    {
     "data": {
      "text/plain": [
       "'Too chaotic'"
      ]
     },
     "execution_count": 31,
     "metadata": {},
     "output_type": "execute_result"
    }
   ],
   "source": [
    "minimumBribes([2, 5, 1, 3, 4])"
   ]
  },
  {
   "cell_type": "code",
   "execution_count": 33,
   "metadata": {},
   "outputs": [
    {
     "data": {
      "text/plain": [
       "'Too chaotic'"
      ]
     },
     "execution_count": 33,
     "metadata": {},
     "output_type": "execute_result"
    }
   ],
   "source": [
    "minimumBribes([5, 1, 2, 3, 7, 8, 6, 4])"
   ]
  },
  {
   "cell_type": "code",
   "execution_count": 34,
   "metadata": {},
   "outputs": [
    {
     "data": {
      "text/plain": [
       "6"
      ]
     },
     "execution_count": 34,
     "metadata": {},
     "output_type": "execute_result"
    }
   ],
   "source": [
    "minimumBribes([1, 2, 5, 3, 7, 8, 6, 4]) # wrong: should be 7"
   ]
  },
  {
   "cell_type": "code",
   "execution_count": 35,
   "metadata": {},
   "outputs": [
    {
     "data": {
      "text/plain": [
       "4"
      ]
     },
     "execution_count": 35,
     "metadata": {},
     "output_type": "execute_result"
    }
   ],
   "source": [
    "minimumBribes([1, 2, 5, 3, 4, 7, 8, 6])"
   ]
  },
  {
   "cell_type": "code",
   "execution_count": null,
   "metadata": {},
   "outputs": [],
   "source": [
    "\"\"\"\n",
    "1 2 3 4 5 6 7 8\n",
    "1 2 3 5 4 6 7 8 # 5 moved fwd\n",
    "1 2 5 3 4 6 7 8 # 5 moved fwd\n",
    "1 2 5 3 4 7 6 8 # 7\n",
    "1 2 5 3 7 4 6 8 # 7\n",
    "1 2 5 3 7 4 8 6 # 8\n",
    "1 2 5 3 7 8 4 6 # 8\n",
    "1 2 5 3 7 8 6 4 # 6\n",
    "\n",
    "1 2 5 3 7 8 6 4\n",
    "\"\"\""
   ]
  },
  {
   "cell_type": "code",
   "execution_count": 2,
   "metadata": {},
   "outputs": [
    {
     "ename": "SyntaxError",
     "evalue": "can't assign to function call (<ipython-input-2-87bec1219484>, line 3)",
     "output_type": "error",
     "traceback": [
      "\u001b[0;36m  File \u001b[0;32m\"<ipython-input-2-87bec1219484>\"\u001b[0;36m, line \u001b[0;32m3\u001b[0m\n\u001b[0;31m    q.index(5) -=1\u001b[0m\n\u001b[0m                  ^\u001b[0m\n\u001b[0;31mSyntaxError\u001b[0m\u001b[0;31m:\u001b[0m can't assign to function call\n"
     ]
    }
   ],
   "source": [
    "q = [1,2,3,4,5,6,7,8]\n",
    "\n",
    "q.index(5) -=1\n",
    "q.index(4) +=1\n",
    "\n",
    "q.index(5) -=1\n",
    "q.index(3) +=1\n",
    "\n",
    "q.index(7) -=1\n",
    "q.index(6) +=1\n",
    "\n",
    "# compare arrays\n",
    "# find difference\n",
    "# need to move 6 of them\n",
    "# find which one is out of place by how much\n",
    "# 5 is 2 pos ahead\n",
    "\n",
    "\"\"\"\n",
    "1 2 3 4 5 6 7 8\n",
    "\n",
    "1 2 5 3 7 8 6 4\n",
    "\"\"\"\n",
    "q"
   ]
  },
  {
   "cell_type": "code",
   "execution_count": 3,
   "metadata": {},
   "outputs": [
    {
     "data": {
      "text/plain": [
       "([1, 2, 3, 4, 5, 6, 7, 8], [1, 2, 5, 3, 7, 8, 6, 4], 0)"
      ]
     },
     "execution_count": 3,
     "metadata": {},
     "output_type": "execute_result"
    }
   ],
   "source": [
    "a = list(range(1,9))\n",
    "b = [1,2,5,3,7,8,6,4]\n",
    "bribes = 0 # initialize bribes\n",
    "a, b, bribes"
   ]
  },
  {
   "cell_type": "code",
   "execution_count": 4,
   "metadata": {},
   "outputs": [
    {
     "data": {
      "text/plain": [
       "([3, 4, 5, 6, 7, 8], [5, 3, 7, 8, 6, 4])"
      ]
     },
     "execution_count": 4,
     "metadata": {},
     "output_type": "execute_result"
    }
   ],
   "source": [
    "sub_start = [a[i] for i in range(8) if a[i] != b[i]]\n",
    "sub_end = [b[j] for j in range(8) if a[j] != b[j]]\n",
    "sub_start, sub_end"
   ]
  },
  {
   "cell_type": "code",
   "execution_count": 6,
   "metadata": {},
   "outputs": [],
   "source": [
    "# find the first in sub_end that is larger than next\n",
    "def next_briber(sub_start, sub_end):\n",
    "    for i in sub_end:\n",
    "        if sub_end.index(i) < sub_start.index(i): # that person has conducted bribe(s)\n",
    "            briber = i\n",
    "            swaps = abs(sub_start.index(briber) - sub_end.index(briber))\n",
    "            if swaps == 0:\n",
    "                continue\n",
    "            else:\n",
    "                break # find the first instance\n",
    "    return briber, swaps"
   ]
  },
  {
   "cell_type": "code",
   "execution_count": 7,
   "metadata": {},
   "outputs": [
    {
     "data": {
      "text/plain": [
       "5"
      ]
     },
     "execution_count": 7,
     "metadata": {},
     "output_type": "execute_result"
    }
   ],
   "source": [
    "next_briber(sub_start, sub_end)[0]"
   ]
  },
  {
   "cell_type": "code",
   "execution_count": null,
   "metadata": {},
   "outputs": [],
   "source": []
  },
  {
   "cell_type": "code",
   "execution_count": 212,
   "metadata": {},
   "outputs": [
    {
     "data": {
      "text/plain": [
       "(5, 2)"
      ]
     },
     "execution_count": 212,
     "metadata": {},
     "output_type": "execute_result"
    }
   ],
   "source": [
    "briber, swaps = next_briber(sub_start, sub_end); briber, swaps # briber"
   ]
  },
  {
   "cell_type": "code",
   "execution_count": 213,
   "metadata": {},
   "outputs": [],
   "source": [
    "# swap two elements in place, mutating array\n",
    "def swap(a, x, y):\n",
    "    i, j = a.index(x), a.index(y)\n",
    "    a[i], a[j] = a[j], a[i]\n",
    "    return a"
   ]
  },
  {
   "cell_type": "code",
   "execution_count": 214,
   "metadata": {},
   "outputs": [
    {
     "data": {
      "text/plain": [
       "([5, 3, 4, 6, 7, 8], [5, 3, 7, 8, 6, 4], 2)"
      ]
     },
     "execution_count": 214,
     "metadata": {},
     "output_type": "execute_result"
    }
   ],
   "source": [
    "# swap briber with bribee(s)\n",
    "for i in range(swaps):\n",
    "    swap(sub_start, briber, sub_start[sub_start.index(briber) - 1])\n",
    "bribes += swaps\n",
    "sub_start, sub_end, bribes"
   ]
  },
  {
   "cell_type": "code",
   "execution_count": 215,
   "metadata": {},
   "outputs": [],
   "source": [
    "def get_subs(a, b):\n",
    "    sub_start = [a[i] for i in range(len(a)) if a[i] != b[i]]\n",
    "    sub_end = [b[j] for j in range(len(b)) if a[j] != b[j]]\n",
    "    return sub_start, sub_end"
   ]
  },
  {
   "cell_type": "code",
   "execution_count": 216,
   "metadata": {},
   "outputs": [
    {
     "data": {
      "text/plain": [
       "([4, 6, 7, 8], [7, 8, 6, 4])"
      ]
     },
     "execution_count": 216,
     "metadata": {},
     "output_type": "execute_result"
    }
   ],
   "source": [
    "sub_start, sub_end = get_subs(sub_start, sub_end); sub_start, sub_end"
   ]
  },
  {
   "cell_type": "code",
   "execution_count": 217,
   "metadata": {},
   "outputs": [
    {
     "data": {
      "text/plain": [
       "(7, 2)"
      ]
     },
     "execution_count": 217,
     "metadata": {},
     "output_type": "execute_result"
    }
   ],
   "source": [
    "briber, swaps = next_briber(sub_start, sub_end); briber, swaps"
   ]
  },
  {
   "cell_type": "code",
   "execution_count": 218,
   "metadata": {},
   "outputs": [
    {
     "data": {
      "text/plain": [
       "([7, 4, 6, 8], [7, 8, 6, 4], 4)"
      ]
     },
     "execution_count": 218,
     "metadata": {},
     "output_type": "execute_result"
    }
   ],
   "source": [
    "for i in range(swaps):\n",
    "    swap(sub_start, briber, sub_start[sub_start.index(briber) - 1])\n",
    "bribes += swaps\n",
    "sub_start, sub_end, bribes"
   ]
  },
  {
   "cell_type": "code",
   "execution_count": 219,
   "metadata": {},
   "outputs": [
    {
     "data": {
      "text/plain": [
       "(8, 2)"
      ]
     },
     "execution_count": 219,
     "metadata": {},
     "output_type": "execute_result"
    }
   ],
   "source": [
    "briber, swaps = next_briber(sub_start, sub_end); briber, swaps"
   ]
  },
  {
   "cell_type": "code",
   "execution_count": 220,
   "metadata": {},
   "outputs": [
    {
     "data": {
      "text/plain": [
       "([7, 8, 4, 6], [7, 8, 6, 4], 6)"
      ]
     },
     "execution_count": 220,
     "metadata": {},
     "output_type": "execute_result"
    }
   ],
   "source": [
    "for i in range(swaps):\n",
    "    swap(sub_start, briber, sub_start[sub_start.index(briber)-1])\n",
    "bribes += swaps\n",
    "sub_start, sub_end, bribes"
   ]
  },
  {
   "cell_type": "code",
   "execution_count": 221,
   "metadata": {},
   "outputs": [
    {
     "data": {
      "text/plain": [
       "([4, 6], [6, 4], 6)"
      ]
     },
     "execution_count": 221,
     "metadata": {},
     "output_type": "execute_result"
    }
   ],
   "source": [
    "sub_start, sub_end = get_subs(sub_start, sub_end); sub_start, sub_end, bribes"
   ]
  },
  {
   "cell_type": "code",
   "execution_count": 223,
   "metadata": {},
   "outputs": [
    {
     "data": {
      "text/plain": [
       "(6, 1)"
      ]
     },
     "execution_count": 223,
     "metadata": {},
     "output_type": "execute_result"
    }
   ],
   "source": [
    "briber, swaps = next_briber(sub_start, sub_end); briber, swaps"
   ]
  },
  {
   "cell_type": "code",
   "execution_count": 224,
   "metadata": {},
   "outputs": [
    {
     "data": {
      "text/plain": [
       "([6, 4], [6, 4], 7)"
      ]
     },
     "execution_count": 224,
     "metadata": {},
     "output_type": "execute_result"
    }
   ],
   "source": [
    "for i in range(swaps):\n",
    "    swap(sub_start, briber, sub_start[sub_start.index(briber)-1])\n",
    "bribes += swaps\n",
    "sub_start, sub_end, bribes"
   ]
  },
  {
   "cell_type": "code",
   "execution_count": 225,
   "metadata": {},
   "outputs": [
    {
     "data": {
      "text/plain": [
       "([], [])"
      ]
     },
     "execution_count": 225,
     "metadata": {},
     "output_type": "execute_result"
    }
   ],
   "source": [
    "sub_start, sub_end = get_subs(sub_start, sub_end); sub_start, sub_end"
   ]
  },
  {
   "cell_type": "code",
   "execution_count": 227,
   "metadata": {},
   "outputs": [
    {
     "data": {
      "text/plain": [
       "[1, 2, 3, 4, 5, 6, 7, 8]"
      ]
     },
     "execution_count": 227,
     "metadata": {},
     "output_type": "execute_result"
    }
   ],
   "source": [
    "start = list(range(1,9))\n",
    "def minimumBribes(start, q):\n",
    "    bribes = 0 # initialize\n",
    "    sub_start, sub_end = start, q\n",
    "    while get_subs(sub_start, sub_end):\n",
    "        sub_start, sub_end = get_subs(start, q) # find subarrays\n",
    "        briber, swaps = next_briber(sub_start, sub_end) # find next briber\n",
    "        for i in range(swaps):\n",
    "            swap(sub_start, briber, sub_start[sub_start.index(briber) - 1]) # do the swap(s)\n",
    "            bribes += swaps # record bribes conducted\n",
    "            \n",
    "    return bribes"
   ]
  },
  {
   "cell_type": "code",
   "execution_count": 8,
   "metadata": {},
   "outputs": [
    {
     "ename": "UnboundLocalError",
     "evalue": "local variable 'briber' referenced before assignment",
     "output_type": "error",
     "traceback": [
      "\u001b[0;31m--------------------------------------------------------------------------\u001b[0m",
      "\u001b[0;31mUnboundLocalError\u001b[0m                        Traceback (most recent call last)",
      "\u001b[0;32m<ipython-input-8-f3b28506af64>\u001b[0m in \u001b[0;36m<module>\u001b[0;34m()\u001b[0m\n\u001b[1;32m     40\u001b[0m \u001b[0mend\u001b[0m \u001b[0;34m=\u001b[0m \u001b[0;34m[\u001b[0m\u001b[0;36m1\u001b[0m\u001b[0;34m,\u001b[0m\u001b[0;36m2\u001b[0m\u001b[0;34m,\u001b[0m\u001b[0;36m5\u001b[0m\u001b[0;34m,\u001b[0m\u001b[0;36m3\u001b[0m\u001b[0;34m,\u001b[0m\u001b[0;36m7\u001b[0m\u001b[0;34m,\u001b[0m\u001b[0;36m8\u001b[0m\u001b[0;34m,\u001b[0m\u001b[0;36m6\u001b[0m\u001b[0;34m,\u001b[0m\u001b[0;36m4\u001b[0m\u001b[0;34m]\u001b[0m\u001b[0;34m\u001b[0m\u001b[0m\n\u001b[1;32m     41\u001b[0m \u001b[0mbribes\u001b[0m \u001b[0;34m=\u001b[0m \u001b[0;36m0\u001b[0m\u001b[0;34m\u001b[0m\u001b[0m\n\u001b[0;32m---> 42\u001b[0;31m \u001b[0mconduct_bribe\u001b[0m\u001b[0;34m(\u001b[0m\u001b[0mstart\u001b[0m\u001b[0;34m,\u001b[0m \u001b[0mend\u001b[0m\u001b[0;34m,\u001b[0m \u001b[0mbribes\u001b[0m\u001b[0;34m)\u001b[0m\u001b[0;34m\u001b[0m\u001b[0m\n\u001b[0m",
      "\u001b[0;32m<ipython-input-8-f3b28506af64>\u001b[0m in \u001b[0;36mconduct_bribe\u001b[0;34m(start, end, bribes)\u001b[0m\n\u001b[1;32m     34\u001b[0m                 \u001b[0mswap\u001b[0m\u001b[0;34m(\u001b[0m\u001b[0msub_start\u001b[0m\u001b[0;34m,\u001b[0m \u001b[0mbriber\u001b[0m\u001b[0;34m,\u001b[0m \u001b[0msub_start\u001b[0m\u001b[0;34m[\u001b[0m\u001b[0msub_start\u001b[0m\u001b[0;34m.\u001b[0m\u001b[0mindex\u001b[0m\u001b[0;34m(\u001b[0m\u001b[0mbriber\u001b[0m\u001b[0;34m)\u001b[0m \u001b[0;34m-\u001b[0m \u001b[0;36m1\u001b[0m\u001b[0;34m]\u001b[0m\u001b[0;34m)\u001b[0m\u001b[0;34m\u001b[0m\u001b[0m\n\u001b[1;32m     35\u001b[0m                 \u001b[0mbribes\u001b[0m \u001b[0;34m+=\u001b[0m \u001b[0mswaps\u001b[0m\u001b[0;34m\u001b[0m\u001b[0m\n\u001b[0;32m---> 36\u001b[0;31m             \u001b[0mconduct_bribe\u001b[0m\u001b[0;34m(\u001b[0m\u001b[0msub_start\u001b[0m\u001b[0;34m,\u001b[0m \u001b[0msub_end\u001b[0m\u001b[0;34m,\u001b[0m \u001b[0mbribes\u001b[0m\u001b[0;34m)\u001b[0m\u001b[0;34m\u001b[0m\u001b[0m\n\u001b[0m\u001b[1;32m     37\u001b[0m     \u001b[0;32mreturn\u001b[0m \u001b[0mbribes\u001b[0m\u001b[0;34m\u001b[0m\u001b[0m\n\u001b[1;32m     38\u001b[0m \u001b[0;34m\u001b[0m\u001b[0m\n",
      "\u001b[0;32m<ipython-input-8-f3b28506af64>\u001b[0m in \u001b[0;36mconduct_bribe\u001b[0;34m(start, end, bribes)\u001b[0m\n\u001b[1;32m     34\u001b[0m                 \u001b[0mswap\u001b[0m\u001b[0;34m(\u001b[0m\u001b[0msub_start\u001b[0m\u001b[0;34m,\u001b[0m \u001b[0mbriber\u001b[0m\u001b[0;34m,\u001b[0m \u001b[0msub_start\u001b[0m\u001b[0;34m[\u001b[0m\u001b[0msub_start\u001b[0m\u001b[0;34m.\u001b[0m\u001b[0mindex\u001b[0m\u001b[0;34m(\u001b[0m\u001b[0mbriber\u001b[0m\u001b[0;34m)\u001b[0m \u001b[0;34m-\u001b[0m \u001b[0;36m1\u001b[0m\u001b[0;34m]\u001b[0m\u001b[0;34m)\u001b[0m\u001b[0;34m\u001b[0m\u001b[0m\n\u001b[1;32m     35\u001b[0m                 \u001b[0mbribes\u001b[0m \u001b[0;34m+=\u001b[0m \u001b[0mswaps\u001b[0m\u001b[0;34m\u001b[0m\u001b[0m\n\u001b[0;32m---> 36\u001b[0;31m             \u001b[0mconduct_bribe\u001b[0m\u001b[0;34m(\u001b[0m\u001b[0msub_start\u001b[0m\u001b[0;34m,\u001b[0m \u001b[0msub_end\u001b[0m\u001b[0;34m,\u001b[0m \u001b[0mbribes\u001b[0m\u001b[0;34m)\u001b[0m\u001b[0;34m\u001b[0m\u001b[0m\n\u001b[0m\u001b[1;32m     37\u001b[0m     \u001b[0;32mreturn\u001b[0m \u001b[0mbribes\u001b[0m\u001b[0;34m\u001b[0m\u001b[0m\n\u001b[1;32m     38\u001b[0m \u001b[0;34m\u001b[0m\u001b[0m\n",
      "\u001b[0;32m<ipython-input-8-f3b28506af64>\u001b[0m in \u001b[0;36mconduct_bribe\u001b[0;34m(start, end, bribes)\u001b[0m\n\u001b[1;32m     34\u001b[0m                 \u001b[0mswap\u001b[0m\u001b[0;34m(\u001b[0m\u001b[0msub_start\u001b[0m\u001b[0;34m,\u001b[0m \u001b[0mbriber\u001b[0m\u001b[0;34m,\u001b[0m \u001b[0msub_start\u001b[0m\u001b[0;34m[\u001b[0m\u001b[0msub_start\u001b[0m\u001b[0;34m.\u001b[0m\u001b[0mindex\u001b[0m\u001b[0;34m(\u001b[0m\u001b[0mbriber\u001b[0m\u001b[0;34m)\u001b[0m \u001b[0;34m-\u001b[0m \u001b[0;36m1\u001b[0m\u001b[0;34m]\u001b[0m\u001b[0;34m)\u001b[0m\u001b[0;34m\u001b[0m\u001b[0m\n\u001b[1;32m     35\u001b[0m                 \u001b[0mbribes\u001b[0m \u001b[0;34m+=\u001b[0m \u001b[0mswaps\u001b[0m\u001b[0;34m\u001b[0m\u001b[0m\n\u001b[0;32m---> 36\u001b[0;31m             \u001b[0mconduct_bribe\u001b[0m\u001b[0;34m(\u001b[0m\u001b[0msub_start\u001b[0m\u001b[0;34m,\u001b[0m \u001b[0msub_end\u001b[0m\u001b[0;34m,\u001b[0m \u001b[0mbribes\u001b[0m\u001b[0;34m)\u001b[0m\u001b[0;34m\u001b[0m\u001b[0m\n\u001b[0m\u001b[1;32m     37\u001b[0m     \u001b[0;32mreturn\u001b[0m \u001b[0mbribes\u001b[0m\u001b[0;34m\u001b[0m\u001b[0m\n\u001b[1;32m     38\u001b[0m \u001b[0;34m\u001b[0m\u001b[0m\n",
      "\u001b[0;32m<ipython-input-8-f3b28506af64>\u001b[0m in \u001b[0;36mconduct_bribe\u001b[0;34m(start, end, bribes)\u001b[0m\n\u001b[1;32m     29\u001b[0m     \u001b[0;32mwhile\u001b[0m \u001b[0mget_subs\u001b[0m\u001b[0;34m(\u001b[0m\u001b[0mstart\u001b[0m\u001b[0;34m,\u001b[0m \u001b[0mend\u001b[0m\u001b[0;34m)\u001b[0m\u001b[0;34m:\u001b[0m \u001b[0;31m# while there are still differences between start and end\u001b[0m\u001b[0;34m\u001b[0m\u001b[0m\n\u001b[1;32m     30\u001b[0m         \u001b[0msub_start\u001b[0m\u001b[0;34m,\u001b[0m \u001b[0msub_end\u001b[0m \u001b[0;34m=\u001b[0m \u001b[0mget_subs\u001b[0m\u001b[0;34m(\u001b[0m\u001b[0mstart\u001b[0m\u001b[0;34m,\u001b[0m \u001b[0mend\u001b[0m\u001b[0;34m)\u001b[0m\u001b[0;34m\u001b[0m\u001b[0m\n\u001b[0;32m---> 31\u001b[0;31m         \u001b[0;32mwhile\u001b[0m \u001b[0mnext_briber\u001b[0m\u001b[0;34m(\u001b[0m\u001b[0msub_start\u001b[0m\u001b[0;34m,\u001b[0m \u001b[0msub_end\u001b[0m\u001b[0;34m)\u001b[0m\u001b[0;34m[\u001b[0m\u001b[0;36m0\u001b[0m\u001b[0;34m]\u001b[0m\u001b[0;34m:\u001b[0m\u001b[0;34m\u001b[0m\u001b[0m\n\u001b[0m\u001b[1;32m     32\u001b[0m             \u001b[0mbriber\u001b[0m\u001b[0;34m,\u001b[0m \u001b[0mswaps\u001b[0m \u001b[0;34m=\u001b[0m \u001b[0mnext_briber\u001b[0m\u001b[0;34m(\u001b[0m\u001b[0msub_start\u001b[0m\u001b[0;34m,\u001b[0m \u001b[0msub_end\u001b[0m\u001b[0;34m)\u001b[0m\u001b[0;34m\u001b[0m\u001b[0m\n\u001b[1;32m     33\u001b[0m             \u001b[0;32mfor\u001b[0m \u001b[0mi\u001b[0m \u001b[0;32min\u001b[0m \u001b[0mrange\u001b[0m\u001b[0;34m(\u001b[0m\u001b[0mswaps\u001b[0m\u001b[0;34m)\u001b[0m\u001b[0;34m:\u001b[0m\u001b[0;34m\u001b[0m\u001b[0m\n",
      "\u001b[0;32m<ipython-input-8-f3b28506af64>\u001b[0m in \u001b[0;36mnext_briber\u001b[0;34m(sub_start, sub_end)\u001b[0m\n\u001b[1;32m     17\u001b[0m         \u001b[0;32melse\u001b[0m\u001b[0;34m:\u001b[0m\u001b[0;34m\u001b[0m\u001b[0m\n\u001b[1;32m     18\u001b[0m             \u001b[0mbriber\u001b[0m \u001b[0;34m=\u001b[0m \u001b[0;36m0\u001b[0m\u001b[0;34m\u001b[0m\u001b[0m\n\u001b[0;32m---> 19\u001b[0;31m     \u001b[0;32mreturn\u001b[0m \u001b[0mbriber\u001b[0m\u001b[0;34m,\u001b[0m \u001b[0mswaps\u001b[0m\u001b[0;34m\u001b[0m\u001b[0m\n\u001b[0m\u001b[1;32m     20\u001b[0m \u001b[0;34m\u001b[0m\u001b[0m\n\u001b[1;32m     21\u001b[0m \u001b[0;31m# swap two elements in place, mutating array\u001b[0m\u001b[0;34m\u001b[0m\u001b[0;34m\u001b[0m\u001b[0m\n",
      "\u001b[0;31mUnboundLocalError\u001b[0m: local variable 'briber' referenced before assignment"
     ]
    }
   ],
   "source": [
    "# compare two arrays and get subarrays containing differences\n",
    "def get_subs(a, b):\n",
    "    sub_start = [a[i] for i in range(len(a)) if a[i] != b[i]]\n",
    "    sub_end = [b[j] for j in range(len(b)) if a[j] != b[j]]\n",
    "    return sub_start, sub_end\n",
    "\n",
    "# compare subarrays and determine next briber\n",
    "def next_briber(sub_start, sub_end):\n",
    "    for i in sub_end:\n",
    "        if sub_end.index(i) < sub_start.index(i): # that person has conducted bribe(s)\n",
    "            briber = i\n",
    "            swaps = abs(sub_start.index(briber) - sub_end.index(briber))\n",
    "            if swaps:\n",
    "                break # stop at first briber found\n",
    "            else:\n",
    "                continue\n",
    "    if !swaps:\n",
    "        briber = 0\n",
    "    return briber, swaps\n",
    "\n",
    "# swap two elements in place, mutating array\n",
    "def swap(a, x, y):\n",
    "    i, j = a.index(x), a.index(y)\n",
    "    a[i], a[j] = a[j], a[i]\n",
    "    return a\n",
    "\n",
    "# conduct bribes recursively\n",
    "def conduct_bribe(start, end, bribes):\n",
    "    while get_subs(start, end): # while there are still differences between start and end\n",
    "        sub_start, sub_end = get_subs(start, end)\n",
    "        while next_briber(sub_start, sub_end)[0]:\n",
    "            briber, swaps = next_briber(sub_start, sub_end)\n",
    "            for i in range(swaps):\n",
    "                swap(sub_start, briber, sub_start[sub_start.index(briber) - 1])\n",
    "                bribes += swaps\n",
    "            conduct_bribe(sub_start, sub_end, bribes)\n",
    "    return bribes\n",
    "\n",
    "start = list(range(1,9))\n",
    "end = [1,2,5,3,7,8,6,4]\n",
    "bribes = 0\n",
    "conduct_bribe(start, end, bribes)"
   ]
  },
  {
   "cell_type": "code",
   "execution_count": null,
   "metadata": {},
   "outputs": [],
   "source": []
  }
 ],
 "metadata": {
  "kernelspec": {
   "display_name": "Python",
   "language": "python",
   "name": "python3"
  },
  "language_info": {
   "codemirror_mode": {
    "name": "ipython",
    "version": 3
   },
   "file_extension": ".py",
   "mimetype": "text/x-python",
   "name": "python",
   "nbconvert_exporter": "python",
   "pygments_lexer": "ipython3",
   "version": "3.6.4"
  }
 },
 "nbformat": 4,
 "nbformat_minor": 2
}
