{
 "cells": [
  {
   "cell_type": "markdown",
   "metadata": {},
   "source": [
    "Grid Illumination:\n",
    "- Given an NxN grid with an array of lamp coordinates.\n",
    "- Each lamp provides illumination to every square on their x axis, every square on their y axis, and every square that lies in their diagonal (think of a Queen in chess).\n",
    "- Given an array of query coordinates, determine whether that point is illuminated or not.\n",
    "- The catch is when checking a query all lamps adjacent to, or on, that query get turned off."
   ]
  },
  {
   "cell_type": "code",
   "execution_count": 290,
   "metadata": {},
   "outputs": [],
   "source": [
    "def get_index_2d(data, search):\n",
    "    for i, e in enumerate(data):\n",
    "        try:\n",
    "            return [i, e.index(search)]\n",
    "        except ValueError:\n",
    "            pass\n",
    "    raise ValueError(\"{} is not in list\".format(repr(search)))"
   ]
  },
  {
   "cell_type": "code",
   "execution_count": 521,
   "metadata": {},
   "outputs": [],
   "source": [
    "# make coordinate-style grid with index starting at 0\n",
    "def make_coords(n):\n",
    "    coords = []\n",
    "    for x in range(n):\n",
    "        row = []\n",
    "        for y in range(n):\n",
    "            row.append([y,x,'D'])\n",
    "        coords.append(row)\n",
    "    return coords[::-1]"
   ]
  },
  {
   "cell_type": "code",
   "execution_count": 525,
   "metadata": {},
   "outputs": [],
   "source": [
    "def lit_row(grid, lamp):\n",
    "    for row in grid:\n",
    "        for point in row:\n",
    "            if point[1] == lamp[1] and point[2] == 'D':\n",
    "                point.remove('D')\n",
    "                point.append('L')\n",
    "    return grid"
   ]
  },
  {
   "cell_type": "code",
   "execution_count": 527,
   "metadata": {},
   "outputs": [],
   "source": [
    "def lit_col(grid, lamp):\n",
    "    for row in grid:\n",
    "        for point in row:\n",
    "            if point[0] == lamp[0] and point[2] == 'D':\n",
    "                point.remove('D')\n",
    "                point.append('L')\n",
    "    return grid"
   ]
  },
  {
   "cell_type": "code",
   "execution_count": 530,
   "metadata": {},
   "outputs": [],
   "source": [
    "def lit_upper_desc_diag(grid, lamp):\n",
    "    marker = []\n",
    "    marker.append(lamp[0])\n",
    "    marker.append(lamp[1])\n",
    "    lit = []\n",
    "    print('marker:', marker)\n",
    "    while marker[0] < len(grid) and marker[1] < len(grid):\n",
    "        for row in grid:\n",
    "            for point in row:\n",
    "                if point[0] == marker[0] and point[1] == marker[1]:\n",
    "                    print('point:', point)\n",
    "                    lit.append(point)\n",
    "                    if point[2] == 'D':\n",
    "                        point.remove('D')\n",
    "                        point.append('L')\n",
    "                    print('point:', point)\n",
    "                    marker[0] = marker[0] + 1\n",
    "                    marker[1] = marker[1] + 1\n",
    "                    print('marker:', marker)\n",
    "    return grid"
   ]
  },
  {
   "cell_type": "code",
   "execution_count": 532,
   "metadata": {},
   "outputs": [],
   "source": [
    "def lit_lower_desc_diag(grid, lamp):\n",
    "    marker = []\n",
    "    marker.append(lamp[0])\n",
    "    marker.append(lamp[1])\n",
    "    print('marker:', marker)\n",
    "    lit = []\n",
    "    print('marker:', marker)\n",
    "    while marker[0] > 0 and marker[1] > 0:\n",
    "        for row in grid:\n",
    "            for point in row:\n",
    "                if point[0] == marker[0] and point[1] == marker[1]:\n",
    "                    print('point:', point)\n",
    "                    lit.append(point)\n",
    "                    if point[2] == 'D':\n",
    "                        point.remove('D')\n",
    "                        point.append('L')\n",
    "                    print('point:', point)\n",
    "                    marker[0] = marker[0] - 1\n",
    "                    marker[1] = marker[1] - 1\n",
    "                    print('marker:', marker)\n",
    "    return grid"
   ]
  },
  {
   "cell_type": "code",
   "execution_count": null,
   "metadata": {},
   "outputs": [],
   "source": []
  }
 ],
 "metadata": {
  "kernelspec": {
   "display_name": "Python",
   "language": "python",
   "name": "python3"
  },
  "language_info": {
   "codemirror_mode": {
    "name": "ipython",
    "version": 3
   },
   "file_extension": ".py",
   "mimetype": "text/x-python",
   "name": "python",
   "nbconvert_exporter": "python",
   "pygments_lexer": "ipython3",
   "version": "3.6.4"
  }
 },
 "nbformat": 4,
 "nbformat_minor": 2
}
