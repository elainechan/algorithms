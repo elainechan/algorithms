{
 "cells": [
  {
   "cell_type": "code",
   "execution_count": 186,
   "metadata": {},
   "outputs": [],
   "source": [
    "def merge(arr1, arr2):\n",
    "    result = [0] * (len(arr1) + len(arr2))\n",
    "    d1 = d2 = temp = 0\n",
    "    # walk through\n",
    "    while d1 < len(arr1) and d2 < len(arr2):\n",
    "        if arr1[d1] < arr2[d2]:\n",
    "            result[temp] = arr1[d1]\n",
    "            print('first while if,', 'arr1=', arr1, ', d1=', d1)\n",
    "            d1 += 1\n",
    "        else:\n",
    "            result[temp] = arr2[d2]\n",
    "            print('first while else,', 'arr2=', arr2, ', d2=', d2)\n",
    "            d2 += 1\n",
    "        temp += 1\n",
    "    while d1 < len(arr1):\n",
    "        result[temp] = arr1[d1]\n",
    "        print('second while,', 'arr1=', arr1, ', d1=', d1)\n",
    "        d1 += 1\n",
    "        temp += 1\n",
    "    while d2 < len(arr1):\n",
    "        result[temp] = arr2[d2]\n",
    "        print('third while,', 'arr2=', arr2, ', d2=', d2)\n",
    "        d2 += 1\n",
    "        temp += 1\n",
    "    return result\n",
    "\n",
    "def mergesort(a):\n",
    "    if len(a) <= 1:\n",
    "        return a\n",
    "    mid = len(a)//2\n",
    "    lefthalf = a[:mid]\n",
    "    righthalf = a[mid:]\n",
    "    # sort left half\n",
    "    sorted_left = mergesort(lefthalf)\n",
    "    print('sorted_left =', sorted_left)\n",
    "    # sort right half\n",
    "    sorted_right = mergesort(righthalf)\n",
    "    print('sorted_right =', sorted_right)\n",
    "    return merge(sorted_left, sorted_right)"
   ]
  },
  {
   "cell_type": "code",
   "execution_count": 231,
   "metadata": {},
   "outputs": [
    {
     "data": {
      "text/plain": [
       "[79, 6, 94, 82, 37, 3, 90, 50, 77, 90, 14, 62, 42, 9, 25, 65, 60, 8, 44, 96]"
      ]
     },
     "execution_count": 231,
     "metadata": {},
     "output_type": "execute_result"
    }
   ],
   "source": [
    "import random\n",
    "a1 = [random.randrange(1,101,1) for i in range(20)]; a1"
   ]
  },
  {
   "cell_type": "code",
   "execution_count": 232,
   "metadata": {},
   "outputs": [
    {
     "name": "stdout",
     "output_type": "stream",
     "text": [
      "sorted_left = [79]\n",
      "sorted_right = [6]\n",
      "first while else, arr2= [6] , d2= 0\n",
      "second while, arr1= [79] , d1= 0\n",
      "sorted_left = [6, 79]\n",
      "sorted_left = [94]\n",
      "sorted_left = [82]\n",
      "sorted_right = [37]\n",
      "first while else, arr2= [37] , d2= 0\n",
      "second while, arr1= [82] , d1= 0\n",
      "sorted_right = [37, 82]\n",
      "first while else, arr2= [37, 82] , d2= 0\n",
      "first while else, arr2= [37, 82] , d2= 1\n",
      "second while, arr1= [94] , d1= 0\n",
      "sorted_right = [37, 82, 94]\n",
      "first while if, arr1= [6, 79] , d1= 0\n",
      "first while else, arr2= [37, 82, 94] , d2= 0\n",
      "first while if, arr1= [6, 79] , d1= 1\n",
      "third while, arr2= [37, 82, 94] , d2= 1\n",
      "sorted_left = [6, 37, 79, 82, 0]\n",
      "sorted_left = [3]\n",
      "sorted_right = [90]\n",
      "first while if, arr1= [3] , d1= 0\n",
      "third while, arr2= [90] , d2= 0\n",
      "sorted_left = [3, 90]\n",
      "sorted_left = [50]\n",
      "sorted_left = [77]\n",
      "sorted_right = [90]\n",
      "first while if, arr1= [77] , d1= 0\n",
      "third while, arr2= [90] , d2= 0\n",
      "sorted_right = [77, 90]\n",
      "first while if, arr1= [50] , d1= 0\n",
      "third while, arr2= [77, 90] , d2= 0\n",
      "sorted_right = [50, 77, 0]\n",
      "first while if, arr1= [3, 90] , d1= 0\n",
      "first while else, arr2= [50, 77, 0] , d2= 0\n",
      "first while else, arr2= [50, 77, 0] , d2= 1\n",
      "first while else, arr2= [50, 77, 0] , d2= 2\n",
      "second while, arr1= [3, 90] , d1= 1\n",
      "sorted_right = [3, 50, 77, 0, 90]\n",
      "first while else, arr2= [3, 50, 77, 0, 90] , d2= 0\n",
      "first while if, arr1= [6, 37, 79, 82, 0] , d1= 0\n",
      "first while if, arr1= [6, 37, 79, 82, 0] , d1= 1\n",
      "first while else, arr2= [3, 50, 77, 0, 90] , d2= 1\n",
      "first while else, arr2= [3, 50, 77, 0, 90] , d2= 2\n",
      "first while else, arr2= [3, 50, 77, 0, 90] , d2= 3\n",
      "first while if, arr1= [6, 37, 79, 82, 0] , d1= 2\n",
      "first while if, arr1= [6, 37, 79, 82, 0] , d1= 3\n",
      "first while if, arr1= [6, 37, 79, 82, 0] , d1= 4\n",
      "third while, arr2= [3, 50, 77, 0, 90] , d2= 4\n",
      "sorted_left = [3, 6, 37, 50, 77, 0, 79, 82, 0, 90]\n",
      "sorted_left = [14]\n",
      "sorted_right = [62]\n",
      "first while if, arr1= [14] , d1= 0\n",
      "third while, arr2= [62] , d2= 0\n",
      "sorted_left = [14, 62]\n",
      "sorted_left = [42]\n",
      "sorted_left = [9]\n",
      "sorted_right = [25]\n",
      "first while if, arr1= [9] , d1= 0\n",
      "third while, arr2= [25] , d2= 0\n",
      "sorted_right = [9, 25]\n",
      "first while else, arr2= [9, 25] , d2= 0\n",
      "first while else, arr2= [9, 25] , d2= 1\n",
      "second while, arr1= [42] , d1= 0\n",
      "sorted_right = [9, 25, 42]\n",
      "first while else, arr2= [9, 25, 42] , d2= 0\n",
      "first while if, arr1= [14, 62] , d1= 0\n",
      "first while else, arr2= [9, 25, 42] , d2= 1\n",
      "first while else, arr2= [9, 25, 42] , d2= 2\n",
      "second while, arr1= [14, 62] , d1= 1\n",
      "sorted_left = [9, 14, 25, 42, 62]\n",
      "sorted_left = [65]\n",
      "sorted_right = [60]\n",
      "first while else, arr2= [60] , d2= 0\n",
      "second while, arr1= [65] , d1= 0\n",
      "sorted_left = [60, 65]\n",
      "sorted_left = [8]\n",
      "sorted_left = [44]\n",
      "sorted_right = [96]\n",
      "first while if, arr1= [44] , d1= 0\n",
      "third while, arr2= [96] , d2= 0\n",
      "sorted_right = [44, 96]\n",
      "first while if, arr1= [8] , d1= 0\n",
      "third while, arr2= [44, 96] , d2= 0\n",
      "sorted_right = [8, 44, 0]\n",
      "first while else, arr2= [8, 44, 0] , d2= 0\n",
      "first while else, arr2= [8, 44, 0] , d2= 1\n",
      "first while else, arr2= [8, 44, 0] , d2= 2\n",
      "second while, arr1= [60, 65] , d1= 0\n",
      "second while, arr1= [60, 65] , d1= 1\n",
      "sorted_right = [8, 44, 0, 60, 65]\n",
      "first while else, arr2= [8, 44, 0, 60, 65] , d2= 0\n",
      "first while if, arr1= [9, 14, 25, 42, 62] , d1= 0\n",
      "first while if, arr1= [9, 14, 25, 42, 62] , d1= 1\n",
      "first while if, arr1= [9, 14, 25, 42, 62] , d1= 2\n",
      "first while if, arr1= [9, 14, 25, 42, 62] , d1= 3\n",
      "first while else, arr2= [8, 44, 0, 60, 65] , d2= 1\n",
      "first while else, arr2= [8, 44, 0, 60, 65] , d2= 2\n",
      "first while else, arr2= [8, 44, 0, 60, 65] , d2= 3\n",
      "first while if, arr1= [9, 14, 25, 42, 62] , d1= 4\n",
      "third while, arr2= [8, 44, 0, 60, 65] , d2= 4\n",
      "sorted_right = [8, 9, 14, 25, 42, 44, 0, 60, 62, 65]\n",
      "first while if, arr1= [3, 6, 37, 50, 77, 0, 79, 82, 0, 90] , d1= 0\n",
      "first while if, arr1= [3, 6, 37, 50, 77, 0, 79, 82, 0, 90] , d1= 1\n",
      "first while else, arr2= [8, 9, 14, 25, 42, 44, 0, 60, 62, 65] , d2= 0\n",
      "first while else, arr2= [8, 9, 14, 25, 42, 44, 0, 60, 62, 65] , d2= 1\n",
      "first while else, arr2= [8, 9, 14, 25, 42, 44, 0, 60, 62, 65] , d2= 2\n",
      "first while else, arr2= [8, 9, 14, 25, 42, 44, 0, 60, 62, 65] , d2= 3\n",
      "first while if, arr1= [3, 6, 37, 50, 77, 0, 79, 82, 0, 90] , d1= 2\n",
      "first while else, arr2= [8, 9, 14, 25, 42, 44, 0, 60, 62, 65] , d2= 4\n",
      "first while else, arr2= [8, 9, 14, 25, 42, 44, 0, 60, 62, 65] , d2= 5\n",
      "first while else, arr2= [8, 9, 14, 25, 42, 44, 0, 60, 62, 65] , d2= 6\n",
      "first while if, arr1= [3, 6, 37, 50, 77, 0, 79, 82, 0, 90] , d1= 3\n",
      "first while else, arr2= [8, 9, 14, 25, 42, 44, 0, 60, 62, 65] , d2= 7\n",
      "first while else, arr2= [8, 9, 14, 25, 42, 44, 0, 60, 62, 65] , d2= 8\n",
      "first while else, arr2= [8, 9, 14, 25, 42, 44, 0, 60, 62, 65] , d2= 9\n",
      "second while, arr1= [3, 6, 37, 50, 77, 0, 79, 82, 0, 90] , d1= 4\n",
      "second while, arr1= [3, 6, 37, 50, 77, 0, 79, 82, 0, 90] , d1= 5\n",
      "second while, arr1= [3, 6, 37, 50, 77, 0, 79, 82, 0, 90] , d1= 6\n",
      "second while, arr1= [3, 6, 37, 50, 77, 0, 79, 82, 0, 90] , d1= 7\n",
      "second while, arr1= [3, 6, 37, 50, 77, 0, 79, 82, 0, 90] , d1= 8\n",
      "second while, arr1= [3, 6, 37, 50, 77, 0, 79, 82, 0, 90] , d1= 9\n"
     ]
    },
    {
     "data": {
      "text/plain": [
       "[3, 6, 8, 9, 14, 25, 37, 42, 44, 0, 50, 60, 62, 65, 77, 0, 79, 82, 0, 90]"
      ]
     },
     "execution_count": 232,
     "metadata": {},
     "output_type": "execute_result"
    }
   ],
   "source": [
    "a2 = mergesort(a1); a2"
   ]
  },
  {
   "cell_type": "code",
   "execution_count": 234,
   "metadata": {},
   "outputs": [
    {
     "name": "stdout",
     "output_type": "stream",
     "text": [
      "In a1 but not in a2: [94, 90, 96]\n",
      "In a2 but not in a1: [0, 0, 0]\n"
     ]
    },
    {
     "data": {
      "text/plain": [
       "(None, None)"
      ]
     },
     "execution_count": 234,
     "metadata": {},
     "output_type": "execute_result"
    }
   ],
   "source": [
    "from collections import Counter\n",
    "c1, c2 = Counter(a1), Counter(a2)\n",
    "diff1, diff2 = (c1 - c2), (c2 - c1)\n",
    "print('In a1 but not in a2:', list(diff1.elements())), print('In a2 but not in a1:', list(diff2.elements()))"
   ]
  },
  {
   "cell_type": "code",
   "execution_count": 135,
   "metadata": {},
   "outputs": [
    {
     "name": "stdout",
     "output_type": "stream",
     "text": [
      "sorted_left = [9]\n",
      "sorted_right = [8]\n",
      "first while else, arr2= [8] , d2= 0\n",
      "second while, arr1= [9] , d1= 0\n",
      "sorted_left = [8, 9]\n",
      "sorted_left = [7]\n",
      "sorted_right = [6]\n",
      "first while else, arr2= [6] , d2= 0\n",
      "second while, arr1= [7] , d1= 0\n",
      "sorted_right = [6, 7]\n",
      "first while else, arr2= [6, 7] , d2= 0\n",
      "first while else, arr2= [6, 7] , d2= 1\n",
      "second while, arr1= [8, 9] , d1= 0\n",
      "second while, arr1= [8, 9] , d1= 1\n",
      "sorted_left = [6, 7, 8, 9]\n",
      "sorted_left = [5]\n",
      "sorted_right = [4]\n",
      "first while else, arr2= [4] , d2= 0\n",
      "second while, arr1= [5] , d1= 0\n",
      "sorted_left = [4, 5]\n",
      "sorted_left = [3]\n",
      "sorted_left = [2]\n",
      "sorted_right = [1]\n",
      "first while else, arr2= [1] , d2= 0\n",
      "second while, arr1= [2] , d1= 0\n",
      "sorted_right = [1, 2]\n",
      "first while else, arr2= [1, 2] , d2= 0\n",
      "first while else, arr2= [1, 2] , d2= 1\n",
      "second while, arr1= [3] , d1= 0\n",
      "sorted_right = [1, 2, 3]\n",
      "first while else, arr2= [1, 2, 3] , d2= 0\n",
      "first while else, arr2= [1, 2, 3] , d2= 1\n",
      "first while else, arr2= [1, 2, 3] , d2= 2\n",
      "second while, arr1= [4, 5] , d1= 0\n",
      "second while, arr1= [4, 5] , d1= 1\n",
      "sorted_right = [1, 2, 3, 4, 5]\n",
      "first while else, arr2= [1, 2, 3, 4, 5] , d2= 0\n",
      "first while else, arr2= [1, 2, 3, 4, 5] , d2= 1\n",
      "first while else, arr2= [1, 2, 3, 4, 5] , d2= 2\n",
      "first while else, arr2= [1, 2, 3, 4, 5] , d2= 3\n",
      "first while else, arr2= [1, 2, 3, 4, 5] , d2= 4\n",
      "second while, arr1= [6, 7, 8, 9] , d1= 0\n",
      "second while, arr1= [6, 7, 8, 9] , d1= 1\n",
      "second while, arr1= [6, 7, 8, 9] , d1= 2\n",
      "second while, arr1= [6, 7, 8, 9] , d1= 3\n"
     ]
    },
    {
     "data": {
      "text/plain": [
       "[1, 2, 3, 4, 5, 6, 7, 8, 9]"
      ]
     },
     "execution_count": 135,
     "metadata": {},
     "output_type": "execute_result"
    }
   ],
   "source": [
    "arr = [9,8,7,6,5,4,3,2,1]\n",
    "mergesort(arr)"
   ]
  },
  {
   "cell_type": "code",
   "execution_count": 204,
   "metadata": {},
   "outputs": [
    {
     "data": {
      "text/plain": [
       "([84, 89, 85, 49], [78, 8, 8, 76])"
      ]
     },
     "execution_count": 204,
     "metadata": {},
     "output_type": "execute_result"
    }
   ],
   "source": [
    "arr1 = [random.randrange(1,101,1) for i in range(4)]\n",
    "arr2 = [random.randrange(1,101,1) for i in range(4)]\n",
    "arr1, arr2"
   ]
  },
  {
   "cell_type": "code",
   "execution_count": 205,
   "metadata": {},
   "outputs": [
    {
     "data": {
      "text/plain": [
       "([49, 84, 85, 89], [8, 8, 76, 78])"
      ]
     },
     "execution_count": 205,
     "metadata": {},
     "output_type": "execute_result"
    }
   ],
   "source": [
    "arr1.sort()\n",
    "arr2.sort()\n",
    "arr1, arr2"
   ]
  },
  {
   "cell_type": "code",
   "execution_count": 206,
   "metadata": {},
   "outputs": [
    {
     "name": "stdout",
     "output_type": "stream",
     "text": [
      "first while else, arr2= [8, 8, 76, 78] , d2= 0\n",
      "first while else, arr2= [8, 8, 76, 78] , d2= 1\n",
      "first while if, arr1= [49, 84, 85, 89] , d1= 0\n",
      "first while else, arr2= [8, 8, 76, 78] , d2= 2\n",
      "first while else, arr2= [8, 8, 76, 78] , d2= 3\n",
      "second while, arr1= [49, 84, 85, 89] , d1= 1\n",
      "second while, arr1= [49, 84, 85, 89] , d1= 2\n",
      "second while, arr1= [49, 84, 85, 89] , d1= 3\n"
     ]
    },
    {
     "data": {
      "text/plain": [
       "[8, 8, 49, 76, 78, 84, 85, 89]"
      ]
     },
     "execution_count": 206,
     "metadata": {},
     "output_type": "execute_result"
    }
   ],
   "source": [
    "merge(arr1, arr2)"
   ]
  },
  {
   "cell_type": "code",
   "execution_count": 207,
   "metadata": {},
   "outputs": [
    {
     "data": {
      "text/plain": [
       "([98, 40, 49, 10], [65, 18, 28, 9])"
      ]
     },
     "execution_count": 207,
     "metadata": {},
     "output_type": "execute_result"
    }
   ],
   "source": [
    "arr1 = [random.randrange(1,101,1) for i in range(4)]\n",
    "arr2 = [random.randrange(1,101,1) for i in range(4)]\n",
    "arr1, arr2"
   ]
  },
  {
   "cell_type": "code",
   "execution_count": 208,
   "metadata": {},
   "outputs": [
    {
     "name": "stdout",
     "output_type": "stream",
     "text": [
      "first while else, arr2= [65, 18, 28, 9] , d2= 0\n",
      "first while else, arr2= [65, 18, 28, 9] , d2= 1\n",
      "first while else, arr2= [65, 18, 28, 9] , d2= 2\n",
      "first while else, arr2= [65, 18, 28, 9] , d2= 3\n",
      "second while, arr1= [98, 40, 49, 10] , d1= 0\n",
      "second while, arr1= [98, 40, 49, 10] , d1= 1\n",
      "second while, arr1= [98, 40, 49, 10] , d1= 2\n",
      "second while, arr1= [98, 40, 49, 10] , d1= 3\n"
     ]
    },
    {
     "data": {
      "text/plain": [
       "[65, 18, 28, 9, 98, 40, 49, 10]"
      ]
     },
     "execution_count": 208,
     "metadata": {},
     "output_type": "execute_result"
    }
   ],
   "source": [
    "merge(arr1, arr2)"
   ]
  },
  {
   "cell_type": "code",
   "execution_count": 209,
   "metadata": {},
   "outputs": [],
   "source": [
    "def merge_sort(a):\n",
    "    if len(a) <= 1:\n",
    "        return a\n",
    "    mid = len(a)//2\n",
    "    lefthalf = a[:mid]\n",
    "    righthalf = a[mid:]\n",
    "    # sort left half\n",
    "    merge_sort(lefthalf)\n",
    "    # sort right half\n",
    "    merge_sort(righthalf)\n",
    "    # merge two sorted halves\n",
    "    i = 0\n",
    "    j = 0\n",
    "    temp = 0\n",
    "    while i < len(lefthalf) and j < len(righthalf): # walk through both halves\n",
    "        if lefthalf[i] < righthalf[j]: # num from lefthalf < num from righthalf\n",
    "            a[temp] = lefthalf[i] # take num from lefthalf\n",
    "            i += 1 # walk to next position in lefthalf\n",
    "            print('first while if', 'a =', a, 'i =', i)\n",
    "        else: # num from lefthalf > num from righthalf\n",
    "            a[temp] = righthalf[j] # take num from righthalf\n",
    "            j += 1 # walk to next position in lefthalf\n",
    "            print('first while else', 'a =', a, 'j =', j)\n",
    "        temp += 1 # after comparing and inserting, walk to next temp position \n",
    "    while i < len(lefthalf):\n",
    "        a[temp] = lefthalf[i]\n",
    "        i += 1\n",
    "        temp += 1\n",
    "        print('second while', 'a =', a, 'i =', i)\n",
    "    while j < len(righthalf):\n",
    "        a[temp] = righthalf[j]\n",
    "        j += 1\n",
    "        temp += 1\n",
    "        print('third while', 'a =', a, 'j =', j)\n",
    "    return a"
   ]
  },
  {
   "cell_type": "code",
   "execution_count": 210,
   "metadata": {},
   "outputs": [
    {
     "data": {
      "text/plain": [
       "[58, 90, 90, 96, 100, 29, 30, 61, 92, 88]"
      ]
     },
     "execution_count": 210,
     "metadata": {},
     "output_type": "execute_result"
    }
   ],
   "source": [
    "import random\n",
    "a = [random.randrange(1,101,1) for i in range(10)];a"
   ]
  },
  {
   "cell_type": "code",
   "execution_count": 211,
   "metadata": {},
   "outputs": [
    {
     "name": "stdout",
     "output_type": "stream",
     "text": [
      "first while if a = [58, 90] i = 1\n",
      "third while a = [58, 90] j = 1\n",
      "first while if a = [96, 100] i = 1\n",
      "third while a = [96, 100] j = 1\n",
      "first while if a = [90, 96, 100] i = 1\n",
      "third while a = [90, 96, 100] j = 1\n",
      "third while a = [90, 96, 100] j = 2\n",
      "first while if a = [58, 90, 90, 96, 100] i = 1\n",
      "first while else a = [58, 90, 90, 96, 100] j = 1\n",
      "first while if a = [58, 90, 90, 96, 100] i = 2\n",
      "third while a = [58, 90, 90, 96, 100] j = 2\n",
      "third while a = [58, 90, 90, 96, 100] j = 3\n",
      "first while if a = [29, 30] i = 1\n",
      "third while a = [29, 30] j = 1\n",
      "first while else a = [88, 88] j = 1\n",
      "second while a = [88, 92] i = 1\n",
      "first while if a = [61, 92, 88] i = 1\n",
      "third while a = [61, 88, 88] j = 1\n",
      "third while a = [61, 88, 92] j = 2\n",
      "first while if a = [29, 30, 61, 92, 88] i = 1\n",
      "first while if a = [29, 30, 61, 92, 88] i = 2\n",
      "third while a = [29, 30, 61, 92, 88] j = 1\n",
      "third while a = [29, 30, 61, 88, 88] j = 2\n",
      "third while a = [29, 30, 61, 88, 92] j = 3\n",
      "first while else a = [29, 90, 90, 96, 100, 29, 30, 61, 92, 88] j = 1\n",
      "first while else a = [29, 30, 90, 96, 100, 29, 30, 61, 92, 88] j = 2\n",
      "first while if a = [29, 30, 58, 96, 100, 29, 30, 61, 92, 88] i = 1\n",
      "first while else a = [29, 30, 58, 61, 100, 29, 30, 61, 92, 88] j = 3\n",
      "first while else a = [29, 30, 58, 61, 88, 29, 30, 61, 92, 88] j = 4\n",
      "first while if a = [29, 30, 58, 61, 88, 90, 30, 61, 92, 88] i = 2\n",
      "first while if a = [29, 30, 58, 61, 88, 90, 90, 61, 92, 88] i = 3\n",
      "first while else a = [29, 30, 58, 61, 88, 90, 90, 92, 92, 88] j = 5\n",
      "second while a = [29, 30, 58, 61, 88, 90, 90, 92, 96, 88] i = 4\n",
      "second while a = [29, 30, 58, 61, 88, 90, 90, 92, 96, 100] i = 5\n"
     ]
    },
    {
     "data": {
      "text/plain": [
       "[29, 30, 58, 61, 88, 90, 90, 92, 96, 100]"
      ]
     },
     "execution_count": 211,
     "metadata": {},
     "output_type": "execute_result"
    }
   ],
   "source": [
    "merge_sort(a)"
   ]
  },
  {
   "cell_type": "code",
   "execution_count": null,
   "metadata": {},
   "outputs": [],
   "source": []
  }
 ],
 "metadata": {
  "kernelspec": {
   "display_name": "Python",
   "language": "python",
   "name": "python3"
  },
  "language_info": {
   "codemirror_mode": {
    "name": "ipython",
    "version": 3
   },
   "file_extension": ".py",
   "mimetype": "text/x-python",
   "name": "python",
   "nbconvert_exporter": "python",
   "pygments_lexer": "ipython3",
   "version": "3.6.4"
  }
 },
 "nbformat": 4,
 "nbformat_minor": 2
}
