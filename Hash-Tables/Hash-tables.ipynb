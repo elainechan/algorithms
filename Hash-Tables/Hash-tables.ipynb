{
 "cells": [
  {
   "cell_type": "markdown",
   "metadata": {},
   "source": [
    "# Hash Tables, `collections`"
   ]
  },
  {
   "cell_type": "markdown",
   "metadata": {},
   "source": [
    "## djb2 algorithm\n",
    "http://www.cse.yorku.ca/~oz/hash.html\n",
    "https://gist.github.com/mengzhuo/180cd6be8ba9e2743753"
   ]
  },
  {
   "cell_type": "code",
   "execution_count": 1,
   "metadata": {},
   "outputs": [],
   "source": [
    "def hash_djb2(s):\n",
    "    h = 5381\n",
    "    for x in s:\n",
    "        h = ((h << 5) + h) + ord(x)\n",
    "    return h"
   ]
  },
  {
   "cell_type": "code",
   "execution_count": 2,
   "metadata": {},
   "outputs": [],
   "source": [
    "import functools\n",
    "def hash_epi(s, modulus):\n",
    "    h = 5381\n",
    "    return functools.reduce(lambda constant, char: (constant * h + ord(char)) % modulus, s, 0)"
   ]
  },
  {
   "cell_type": "code",
   "execution_count": 20,
   "metadata": {},
   "outputs": [
    {
     "data": {
      "text/plain": [
       "7"
      ]
     },
     "execution_count": 20,
     "metadata": {},
     "output_type": "execute_result"
    }
   ],
   "source": [
    "hash_epi('and', 10)"
   ]
  },
  {
   "cell_type": "code",
   "execution_count": 6,
   "metadata": {},
   "outputs": [
    {
     "data": {
      "text/plain": [
       "1"
      ]
     },
     "execution_count": 6,
     "metadata": {},
     "output_type": "execute_result"
    }
   ],
   "source": [
    "hash_epi('either', 10)"
   ]
  },
  {
   "cell_type": "code",
   "execution_count": 24,
   "metadata": {},
   "outputs": [
    {
     "data": {
      "text/plain": [
       "8"
      ]
     },
     "execution_count": 24,
     "metadata": {},
     "output_type": "execute_result"
    }
   ],
   "source": [
    "hash_epi('nevermind', 10)"
   ]
  },
  {
   "cell_type": "code",
   "execution_count": 28,
   "metadata": {},
   "outputs": [
    {
     "data": {
      "text/plain": [
       "193486360"
      ]
     },
     "execution_count": 28,
     "metadata": {},
     "output_type": "execute_result"
    }
   ],
   "source": [
    "hash_djb2('and')"
   ]
  },
  {
   "cell_type": "code",
   "execution_count": 29,
   "metadata": {},
   "outputs": [
    {
     "data": {
      "text/plain": [
       "6953470622982"
      ]
     },
     "execution_count": 29,
     "metadata": {},
     "output_type": "execute_result"
    }
   ],
   "source": [
    "hash_djb2('either')"
   ]
  },
  {
   "cell_type": "code",
   "execution_count": 30,
   "metadata": {},
   "outputs": [
    {
     "data": {
      "text/plain": [
       "249899363462781517"
      ]
     },
     "execution_count": 30,
     "metadata": {},
     "output_type": "execute_result"
    }
   ],
   "source": [
    "hash_djb2('nevermind')"
   ]
  },
  {
   "cell_type": "markdown",
   "metadata": {},
   "source": [
    "## Using `hashlib`\n",
    "https://docs.python.org/3/library/hashlib.html"
   ]
  },
  {
   "cell_type": "code",
   "execution_count": 8,
   "metadata": {},
   "outputs": [
    {
     "name": "stdout",
     "output_type": "stream",
     "text": [
      "{'ripemd160', 'sha512', 'sha', 'sha1', 'dsaEncryption', 'md5', 'sha3_256', 'SHA', 'sha3_512', 'whirlpool', 'dsaWithSHA', 'SHA512', 'MDC2', 'SHA1', 'ecdsa-with-SHA1', 'sha3_384', 'SHA384', 'SHA224', 'mdc2', 'md4', 'sha256', 'blake2s', 'sha384', 'blake2b', 'SHA256', 'DSA-SHA', 'sha3_224', 'shake_128', 'RIPEMD160', 'MD4', 'shake_256', 'sha224', 'DSA', 'MD5'}\n",
      "{'sha512', 'sha3_512', 'sha1', 'sha384', 'sha3_384', 'sha3_224', 'shake_128', 'md5', 'sha3_256', 'sha224', 'shake_256', 'blake2b', 'sha256', 'blake2s'}\n"
     ]
    },
    {
     "data": {
      "text/plain": [
       "(None, None)"
      ]
     },
     "execution_count": 8,
     "metadata": {},
     "output_type": "execute_result"
    }
   ],
   "source": [
    "import hashlib\n",
    "print(hashlib.algorithms_available), print(hashlib.algorithms_guaranteed)"
   ]
  },
  {
   "cell_type": "code",
   "execution_count": 21,
   "metadata": {},
   "outputs": [
    {
     "name": "stdout",
     "output_type": "stream",
     "text": [
      "fcb9684bfddfe32e9aa62794256fc78d b\"\\xfc\\xb9hK\\xfd\\xdf\\xe3.\\x9a\\xa6'\\x94%o\\xc7\\x8d\"\n"
     ]
    }
   ],
   "source": [
    "hash_obj = hashlib.md5(b\"John Lennon\")\n",
    "print(hash_obj.hexdigest(), hash_obj.digest())"
   ]
  },
  {
   "cell_type": "code",
   "execution_count": 22,
   "metadata": {},
   "outputs": [
    {
     "name": "stdout",
     "output_type": "stream",
     "text": [
      "fcb9684bfddfe32e9aa62794256fc78d b\"\\xfc\\xb9hK\\xfd\\xdf\\xe3.\\x9a\\xa6'\\x94%o\\xc7\\x8d\"\n"
     ]
    }
   ],
   "source": [
    "hash_obj2 = hashlib.md5(b\"John Lennon\")\n",
    "print(hash_obj2.hexdigest(), hash_obj2.digest())"
   ]
  },
  {
   "cell_type": "code",
   "execution_count": 3,
   "metadata": {},
   "outputs": [
    {
     "ename": "NameError",
     "evalue": "name 'hash_obj' is not defined",
     "output_type": "error",
     "traceback": [
      "\u001b[0;31m--------------------------------------------------------------------------\u001b[0m",
      "\u001b[0;31mNameError\u001b[0m                                Traceback (most recent call last)",
      "\u001b[0;32m<ipython-input-3-64e2ab45ebcd>\u001b[0m in \u001b[0;36m<module>\u001b[0;34m()\u001b[0m\n\u001b[0;32m----> 1\u001b[0;31m \u001b[0mhash_obj\u001b[0m\u001b[0;34m\u001b[0m\u001b[0m\n\u001b[0m",
      "\u001b[0;31mNameError\u001b[0m: name 'hash_obj' is not defined"
     ]
    }
   ],
   "source": [
    "hash_obj"
   ]
  },
  {
   "cell_type": "markdown",
   "metadata": {},
   "source": [
    "## `multidict()` from PySCIPOpt\n",
    "https://github.com/SCIP-Interfaces/PySCIPOpt/blob/master/src/pyscipopt/Multidict.py\n",
    "\n",
    "- Input a dictionary\n",
    "- Returns a list with a list of keys at position 0 and a dictionary at position 1"
   ]
  },
  {
   "cell_type": "code",
   "execution_count": 45,
   "metadata": {},
   "outputs": [],
   "source": [
    "def multidict(D):\n",
    "    keys = list(D.keys())\n",
    "    if len(keys) == 0:\n",
    "        return [[]]\n",
    "    try:\n",
    "        N = len(D[keys[0]])\n",
    "        islist = True\n",
    "    except:\n",
    "        N = 1\n",
    "        islist = False\n",
    "    dlist = [dict() for d in range(N)]\n",
    "    for k in keys:\n",
    "        if islist:\n",
    "            for i in range(N):\n",
    "                dlist[i][k] = D[k][i]\n",
    "        else:\n",
    "            dlist[0][k] = D[k]\n",
    "    return [keys] + dlist"
   ]
  },
  {
   "cell_type": "code",
   "execution_count": 46,
   "metadata": {},
   "outputs": [
    {
     "data": {
      "text/plain": [
       "[['i', 'm', 'p', 's'], {'i': 4, 'm': 1, 'p': 2, 's': 4}]"
      ]
     },
     "execution_count": 46,
     "metadata": {},
     "output_type": "execute_result"
    }
   ],
   "source": [
    "di = {'i': 4, 'm': 1, 'p': 2, 's': 4}\n",
    "multidict(di)"
   ]
  },
  {
   "cell_type": "markdown",
   "metadata": {},
   "source": [
    "### Hash encode and decode\n",
    "Take the digits of a number and add them all together.\n",
    "Keep going till you have only a single digit.\n",
    "Can you decode that hash and get back the original number?"
   ]
  },
  {
   "cell_type": "code",
   "execution_count": 7,
   "metadata": {},
   "outputs": [],
   "source": [
    "def hash_encode(n):\n",
    "    lst = list(str(n))\n",
    "    ilst = [int(i) for i in lst]\n",
    "    return sum(ilst)"
   ]
  },
  {
   "cell_type": "code",
   "execution_count": 6,
   "metadata": {},
   "outputs": [
    {
     "data": {
      "text/plain": [
       "[9, 8, 7]"
      ]
     },
     "execution_count": 6,
     "metadata": {},
     "output_type": "execute_result"
    }
   ],
   "source": [
    "n = 987\n",
    "lst = list(str(n))\n",
    "ilst = [int(i) for i in lst]; ilst"
   ]
  },
  {
   "cell_type": "code",
   "execution_count": 8,
   "metadata": {},
   "outputs": [
    {
     "data": {
      "text/plain": [
       "27"
      ]
     },
     "execution_count": 8,
     "metadata": {},
     "output_type": "execute_result"
    }
   ],
   "source": [
    "hash_encode(999)"
   ]
  },
  {
   "cell_type": "code",
   "execution_count": null,
   "metadata": {},
   "outputs": [],
   "source": []
  }
 ],
 "metadata": {
  "kernelspec": {
   "display_name": "Python",
   "language": "python",
   "name": "python3"
  },
  "language_info": {
   "codemirror_mode": {
    "name": "ipython",
    "version": 3
   },
   "file_extension": ".py",
   "mimetype": "text/x-python",
   "name": "python",
   "nbconvert_exporter": "python",
   "pygments_lexer": "ipython3",
   "version": "3.6.4"
  }
 },
 "nbformat": 4,
 "nbformat_minor": 2
}
