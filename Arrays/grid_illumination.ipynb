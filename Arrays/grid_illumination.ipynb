{
 "cells": [
  {
   "cell_type": "markdown",
   "metadata": {},
   "source": [
    "Grid Illumination:\n",
    "- Given an NxN grid with an array of lamp coordinates.\n",
    "- Each lamp provides illumination to every square on their x axis, every square on their y axis, and every square that lies in their diagonal (think of a Queen in chess).\n",
    "- Given an array of query coordinates, determine whether that point is illuminated or not.\n",
    "- The catch is when checking a query all lamps adjacent to, or on, that query get turned off."
   ]
  },
  {
   "cell_type": "code",
   "execution_count": 37,
   "metadata": {},
   "outputs": [],
   "source": [
    "def get_index_2d(data, search):\n",
    "    for i, e in enumerate(data):\n",
    "        try:\n",
    "            return [i, e.index(search)]\n",
    "        except ValueError:\n",
    "            pass\n",
    "    raise ValueError(\"{} is not in list\".format(repr(search)))"
   ]
  },
  {
   "cell_type": "code",
   "execution_count": 38,
   "metadata": {},
   "outputs": [],
   "source": [
    "# make grid with index starting at 0\n",
    "def make_coords(n):\n",
    "    coords = []\n",
    "    for x in range(n):\n",
    "        row = []\n",
    "        for y in range(n):\n",
    "            row.append([x,y,'D'])\n",
    "        coords.append(row)\n",
    "    return coords"
   ]
  },
  {
   "cell_type": "code",
   "execution_count": 39,
   "metadata": {},
   "outputs": [],
   "source": [
    "def lit_row(grid, lamp):\n",
    "    for row in grid:\n",
    "        for point in row:\n",
    "            if point[1] == lamp[1] and point[2] == 'D':\n",
    "                point.remove('D')\n",
    "                point.append('L')\n",
    "    return grid"
   ]
  },
  {
   "cell_type": "code",
   "execution_count": 40,
   "metadata": {},
   "outputs": [],
   "source": [
    "def lit_col(grid, lamp):\n",
    "    for row in grid:\n",
    "        for point in row:\n",
    "            if point[0] == lamp[0] and point[2] == 'D':\n",
    "                point.remove('D')\n",
    "                point.append('L')\n",
    "    return grid"
   ]
  },
  {
   "cell_type": "code",
   "execution_count": 41,
   "metadata": {},
   "outputs": [],
   "source": [
    "def lit_upper_desc_diag(grid, lamp):\n",
    "    marker = []\n",
    "    marker.append(lamp[0])\n",
    "    marker.append(lamp[1])\n",
    "    lit = []\n",
    "    print('marker:', marker)\n",
    "    while marker[0] < len(grid) and marker[1] < len(grid):\n",
    "        for row in grid:\n",
    "            for point in row:\n",
    "                if point[0] == marker[0] and point[1] == marker[1]:\n",
    "                    print('point:', point)\n",
    "                    lit.append(point)\n",
    "                    if point[2] == 'D':\n",
    "                        point.remove('D')\n",
    "                        point.append('L')\n",
    "                    print('point:', point)\n",
    "                    marker[0] = marker[0] + 1\n",
    "                    marker[1] = marker[1] + 1\n",
    "                    print('marker:', marker)\n",
    "    return grid"
   ]
  },
  {
   "cell_type": "code",
   "execution_count": 42,
   "metadata": {},
   "outputs": [],
   "source": [
    "def lit_lower_desc_diag(grid, lamp):\n",
    "    marker = []\n",
    "    marker.append(lamp[0])\n",
    "    marker.append(lamp[1])\n",
    "    print('marker:', marker)\n",
    "    lit = []\n",
    "    print('marker:', marker)\n",
    "    while marker[0] >= 0 and marker[1] >= 0:\n",
    "        for row in grid:\n",
    "            for point in row:\n",
    "                if point[0] == marker[0] and point[1] == marker[1]:\n",
    "                    print('point:', point)\n",
    "                    lit.append(point)\n",
    "                    if point[2] == 'D':\n",
    "                        point.remove('D')\n",
    "                        point.append('L')\n",
    "                    print('point:', point)\n",
    "                    marker[0] = marker[0] - 1\n",
    "                    marker[1] = marker[1] - 1\n",
    "                    print('marker:', marker)\n",
    "    return grid"
   ]
  },
  {
   "cell_type": "code",
   "execution_count": 43,
   "metadata": {},
   "outputs": [],
   "source": [
    "def lit_asc_diag(grid, lamp):\n",
    "    for row in grid:\n",
    "        for point in row:\n",
    "            if point[0] + point[1] == lamp[0] + lamp[1]:\n",
    "                if point[2] == 'D':\n",
    "                    point.remove('D')\n",
    "                    point.append('L')\n",
    "    return grid"
   ]
  },
  {
   "cell_type": "code",
   "execution_count": 44,
   "metadata": {},
   "outputs": [],
   "source": [
    "def lit(grid, lamp):\n",
    "    lit_row(grid, lamp)\n",
    "    lit_col(grid, lamp)\n",
    "    lit_upper_desc_diag(grid, lamp)\n",
    "    lit_lower_desc_diag(grid, lamp)\n",
    "    lit_asc_diag(grid, lamp)\n",
    "    return grid"
   ]
  },
  {
   "cell_type": "code",
   "execution_count": 17,
   "metadata": {},
   "outputs": [],
   "source": [
    "lamp = [2,2]\n",
    "grid = make_coords(5)"
   ]
  },
  {
   "cell_type": "code",
   "execution_count": 16,
   "metadata": {},
   "outputs": [
    {
     "data": {
      "text/plain": [
       "[[[0, 0, 'D'], [0, 1, 'D'], [0, 2, 'L'], [0, 3, 'D'], [0, 4, 'D']],\n",
       " [[1, 0, 'D'], [1, 1, 'D'], [1, 2, 'L'], [1, 3, 'D'], [1, 4, 'D']],\n",
       " [[2, 0, 'D'], [2, 1, 'D'], [2, 2, 'L'], [2, 3, 'D'], [2, 4, 'D']],\n",
       " [[3, 0, 'D'], [3, 1, 'D'], [3, 2, 'L'], [3, 3, 'D'], [3, 4, 'D']],\n",
       " [[4, 0, 'D'], [4, 1, 'D'], [4, 2, 'L'], [4, 3, 'D'], [4, 4, 'D']]]"
      ]
     },
     "execution_count": 16,
     "metadata": {},
     "output_type": "execute_result"
    }
   ],
   "source": [
    "lit_row(grid, lamp)"
   ]
  },
  {
   "cell_type": "code",
   "execution_count": 8,
   "metadata": {},
   "outputs": [
    {
     "data": {
      "text/plain": [
       "[[[0, 0, 'D'], [0, 1, 'D'], [0, 2, 'L'], [0, 3, 'D'], [0, 4, 'D']],\n",
       " [[1, 0, 'D'], [1, 1, 'D'], [1, 2, 'L'], [1, 3, 'D'], [1, 4, 'D']],\n",
       " [[2, 0, 'L'], [2, 1, 'L'], [2, 2, 'L'], [2, 3, 'L'], [2, 4, 'L']],\n",
       " [[3, 0, 'D'], [3, 1, 'D'], [3, 2, 'L'], [3, 3, 'D'], [3, 4, 'D']],\n",
       " [[4, 0, 'D'], [4, 1, 'D'], [4, 2, 'L'], [4, 3, 'D'], [4, 4, 'D']]]"
      ]
     },
     "execution_count": 8,
     "metadata": {},
     "output_type": "execute_result"
    }
   ],
   "source": [
    "lit_col(grid, lamp)"
   ]
  },
  {
   "cell_type": "code",
   "execution_count": 9,
   "metadata": {},
   "outputs": [
    {
     "name": "stdout",
     "output_type": "stream",
     "text": [
      "marker: [2, 2]\n",
      "point: [2, 2, 'L']\n",
      "point: [2, 2, 'L']\n",
      "marker: [3, 3]\n",
      "point: [3, 3, 'D']\n",
      "point: [3, 3, 'L']\n",
      "marker: [4, 4]\n",
      "point: [4, 4, 'D']\n",
      "point: [4, 4, 'L']\n",
      "marker: [5, 5]\n"
     ]
    },
    {
     "data": {
      "text/plain": [
       "[[[0, 0, 'D'], [0, 1, 'D'], [0, 2, 'L'], [0, 3, 'D'], [0, 4, 'D']],\n",
       " [[1, 0, 'D'], [1, 1, 'D'], [1, 2, 'L'], [1, 3, 'D'], [1, 4, 'D']],\n",
       " [[2, 0, 'L'], [2, 1, 'L'], [2, 2, 'L'], [2, 3, 'L'], [2, 4, 'L']],\n",
       " [[3, 0, 'D'], [3, 1, 'D'], [3, 2, 'L'], [3, 3, 'L'], [3, 4, 'D']],\n",
       " [[4, 0, 'D'], [4, 1, 'D'], [4, 2, 'L'], [4, 3, 'D'], [4, 4, 'L']]]"
      ]
     },
     "execution_count": 9,
     "metadata": {},
     "output_type": "execute_result"
    }
   ],
   "source": [
    "lit_upper_desc_diag(grid, lamp)"
   ]
  },
  {
   "cell_type": "code",
   "execution_count": 12,
   "metadata": {},
   "outputs": [
    {
     "name": "stdout",
     "output_type": "stream",
     "text": [
      "marker: [2, 2]\n",
      "marker: [2, 2]\n",
      "point: [2, 2, 'L']\n",
      "point: [2, 2, 'L']\n",
      "marker: [1, 1]\n",
      "point: [1, 1, 'L']\n",
      "point: [1, 1, 'L']\n",
      "marker: [0, 0]\n",
      "point: [0, 0, 'D']\n",
      "point: [0, 0, 'L']\n",
      "marker: [-1, -1]\n"
     ]
    },
    {
     "data": {
      "text/plain": [
       "[[[0, 0, 'L'], [0, 1, 'D'], [0, 2, 'L'], [0, 3, 'D'], [0, 4, 'D']],\n",
       " [[1, 0, 'D'], [1, 1, 'L'], [1, 2, 'L'], [1, 3, 'D'], [1, 4, 'D']],\n",
       " [[2, 0, 'L'], [2, 1, 'L'], [2, 2, 'L'], [2, 3, 'L'], [2, 4, 'L']],\n",
       " [[3, 0, 'D'], [3, 1, 'D'], [3, 2, 'L'], [3, 3, 'L'], [3, 4, 'D']],\n",
       " [[4, 0, 'D'], [4, 1, 'D'], [4, 2, 'L'], [4, 3, 'D'], [4, 4, 'L']]]"
      ]
     },
     "execution_count": 12,
     "metadata": {},
     "output_type": "execute_result"
    }
   ],
   "source": [
    "lit_lower_desc_diag(grid,lamp)"
   ]
  },
  {
   "cell_type": "code",
   "execution_count": 26,
   "metadata": {},
   "outputs": [
    {
     "data": {
      "text/plain": [
       "[[[0, 0, 'D'], [0, 1, 'D'], [0, 2, 'D'], [0, 3, 'D'], [0, 4, 'L']],\n",
       " [[1, 0, 'D'], [1, 1, 'D'], [1, 2, 'D'], [1, 3, 'L'], [1, 4, 'D']],\n",
       " [[2, 0, 'D'], [2, 1, 'D'], [2, 2, 'L'], [2, 3, 'D'], [2, 4, 'D']],\n",
       " [[3, 0, 'D'], [3, 1, 'L'], [3, 2, 'D'], [3, 3, 'D'], [3, 4, 'D']],\n",
       " [[4, 0, 'L'], [4, 1, 'D'], [4, 2, 'D'], [4, 3, 'D'], [4, 4, 'D']]]"
      ]
     },
     "execution_count": 26,
     "metadata": {},
     "output_type": "execute_result"
    }
   ],
   "source": [
    "lamp = [2,2]\n",
    "grid = make_coords(5)\n",
    "lit_asc_diag(grid, lamp)"
   ]
  },
  {
   "cell_type": "code",
   "execution_count": 27,
   "metadata": {},
   "outputs": [
    {
     "data": {
      "text/plain": [
       "[[[0, 0, 'D'], [0, 1, 'D'], [0, 2, 'D'], [0, 3, 'D'], [0, 4, 'L']],\n",
       " [[1, 0, 'D'], [1, 1, 'D'], [1, 2, 'D'], [1, 3, 'L'], [1, 4, 'D']],\n",
       " [[2, 0, 'D'], [2, 1, 'D'], [2, 2, 'L'], [2, 3, 'D'], [2, 4, 'D']],\n",
       " [[3, 0, 'D'], [3, 1, 'L'], [3, 2, 'D'], [3, 3, 'D'], [3, 4, 'D']],\n",
       " [[4, 0, 'L'], [4, 1, 'D'], [4, 2, 'D'], [4, 3, 'D'], [4, 4, 'D']]]"
      ]
     },
     "execution_count": 27,
     "metadata": {},
     "output_type": "execute_result"
    }
   ],
   "source": [
    "lamp = [1,3]\n",
    "grid = make_coords(5)\n",
    "lit_asc_diag(grid, lamp)"
   ]
  },
  {
   "cell_type": "code",
   "execution_count": 35,
   "metadata": {},
   "outputs": [
    {
     "name": "stdout",
     "output_type": "stream",
     "text": [
      "marker: [1, 3]\n",
      "point: [1, 3, 'D']\n",
      "point: [1, 3, 'L']\n",
      "marker: [2, 4]\n",
      "point: [2, 4, 'D']\n",
      "point: [2, 4, 'L']\n",
      "marker: [3, 5]\n",
      "marker: [1, 3]\n",
      "marker: [1, 3]\n",
      "point: [1, 3, 'L']\n",
      "point: [1, 3, 'L']\n",
      "marker: [0, 2]\n",
      "point: [0, 2, 'D']\n",
      "point: [0, 2, 'L']\n",
      "marker: [-1, 1]\n"
     ]
    },
    {
     "data": {
      "text/plain": [
       "[[[0, 0, 'D'], [0, 1, 'D'], [0, 2, 'L'], [0, 3, 'D'], [0, 4, 'D']],\n",
       " [[1, 0, 'D'], [1, 1, 'D'], [1, 2, 'D'], [1, 3, 'L'], [1, 4, 'D']],\n",
       " [[2, 0, 'D'], [2, 1, 'D'], [2, 2, 'D'], [2, 3, 'D'], [2, 4, 'L']],\n",
       " [[3, 0, 'D'], [3, 1, 'D'], [3, 2, 'D'], [3, 3, 'D'], [3, 4, 'D']],\n",
       " [[4, 0, 'D'], [4, 1, 'D'], [4, 2, 'D'], [4, 3, 'D'], [4, 4, 'D']]]"
      ]
     },
     "execution_count": 35,
     "metadata": {},
     "output_type": "execute_result"
    }
   ],
   "source": [
    "lamp = [1,3]\n",
    "grid = make_coords(5)\n",
    "lit_upper_desc_diag(grid,lamp)\n",
    "lit_lower_desc_diag(grid,lamp)"
   ]
  },
  {
   "cell_type": "code",
   "execution_count": 45,
   "metadata": {},
   "outputs": [
    {
     "name": "stdout",
     "output_type": "stream",
     "text": [
      "marker: [3, 1]\n",
      "point: [3, 1, 'L']\n",
      "point: [3, 1, 'L']\n",
      "marker: [4, 2]\n",
      "point: [4, 2, 'D']\n",
      "point: [4, 2, 'L']\n",
      "marker: [5, 3]\n",
      "marker: [3, 1]\n",
      "marker: [3, 1]\n",
      "point: [3, 1, 'L']\n",
      "point: [3, 1, 'L']\n",
      "marker: [2, 0]\n",
      "point: [2, 0, 'D']\n",
      "point: [2, 0, 'L']\n",
      "marker: [1, -1]\n"
     ]
    },
    {
     "data": {
      "text/plain": [
       "[[[0, 0, 'D'], [0, 1, 'L'], [0, 2, 'D'], [0, 3, 'D'], [0, 4, 'L']],\n",
       " [[1, 0, 'D'], [1, 1, 'L'], [1, 2, 'D'], [1, 3, 'L'], [1, 4, 'D']],\n",
       " [[2, 0, 'L'], [2, 1, 'L'], [2, 2, 'L'], [2, 3, 'D'], [2, 4, 'D']],\n",
       " [[3, 0, 'L'], [3, 1, 'L'], [3, 2, 'L'], [3, 3, 'L'], [3, 4, 'L']],\n",
       " [[4, 0, 'L'], [4, 1, 'L'], [4, 2, 'L'], [4, 3, 'D'], [4, 4, 'D']]]"
      ]
     },
     "execution_count": 45,
     "metadata": {},
     "output_type": "execute_result"
    }
   ],
   "source": [
    "lamp = [3,1]\n",
    "grid = make_coords(5)\n",
    "lit(grid, lamp)"
   ]
  },
  {
   "cell_type": "code",
   "execution_count": 48,
   "metadata": {},
   "outputs": [
    {
     "name": "stdout",
     "output_type": "stream",
     "text": [
      "marker: [1, 0]\n",
      "point: [1, 0, 'L']\n",
      "point: [1, 0, 'L']\n",
      "marker: [2, 1]\n",
      "point: [2, 1, 'D']\n",
      "point: [2, 1, 'L']\n",
      "marker: [3, 2]\n",
      "point: [3, 2, 'D']\n",
      "point: [3, 2, 'L']\n",
      "marker: [4, 3]\n",
      "point: [4, 3, 'D']\n",
      "point: [4, 3, 'L']\n",
      "marker: [5, 4]\n",
      "marker: [1, 0]\n",
      "marker: [1, 0]\n",
      "point: [1, 0, 'L']\n",
      "point: [1, 0, 'L']\n",
      "marker: [0, -1]\n"
     ]
    },
    {
     "data": {
      "text/plain": [
       "[[[0, 0, 'L'], [0, 1, 'L'], [0, 2, 'D'], [0, 3, 'D'], [0, 4, 'D']],\n",
       " [[1, 0, 'L'], [1, 1, 'L'], [1, 2, 'L'], [1, 3, 'L'], [1, 4, 'L']],\n",
       " [[2, 0, 'L'], [2, 1, 'L'], [2, 2, 'D'], [2, 3, 'D'], [2, 4, 'D']],\n",
       " [[3, 0, 'L'], [3, 1, 'D'], [3, 2, 'L'], [3, 3, 'D'], [3, 4, 'D']],\n",
       " [[4, 0, 'L'], [4, 1, 'D'], [4, 2, 'D'], [4, 3, 'L'], [4, 4, 'D']]]"
      ]
     },
     "execution_count": 48,
     "metadata": {},
     "output_type": "execute_result"
    }
   ],
   "source": [
    "grid = make_coords(5)\n",
    "lamp = [1,0]\n",
    "lit(grid,lamp)"
   ]
  },
  {
   "cell_type": "code",
   "execution_count": 49,
   "metadata": {},
   "outputs": [
    {
     "name": "stdout",
     "output_type": "stream",
     "text": [
      "marker: [3, 2]\n",
      "point: [3, 2, 'L']\n",
      "point: [3, 2, 'L']\n",
      "marker: [4, 3]\n",
      "point: [4, 3, 'D']\n",
      "point: [4, 3, 'L']\n",
      "marker: [5, 4]\n",
      "marker: [3, 2]\n",
      "marker: [3, 2]\n",
      "point: [3, 2, 'L']\n",
      "point: [3, 2, 'L']\n",
      "marker: [2, 1]\n",
      "point: [2, 1, 'D']\n",
      "point: [2, 1, 'L']\n",
      "marker: [1, 0]\n",
      "point: [1, 0, 'D']\n",
      "point: [1, 0, 'L']\n",
      "marker: [0, -1]\n"
     ]
    },
    {
     "data": {
      "text/plain": [
       "[[[0, 0, 'D'], [0, 1, 'D'], [0, 2, 'L'], [0, 3, 'D'], [0, 4, 'D']],\n",
       " [[1, 0, 'L'], [1, 1, 'D'], [1, 2, 'L'], [1, 3, 'D'], [1, 4, 'L']],\n",
       " [[2, 0, 'D'], [2, 1, 'L'], [2, 2, 'L'], [2, 3, 'L'], [2, 4, 'D']],\n",
       " [[3, 0, 'L'], [3, 1, 'L'], [3, 2, 'L'], [3, 3, 'L'], [3, 4, 'L']],\n",
       " [[4, 0, 'D'], [4, 1, 'L'], [4, 2, 'L'], [4, 3, 'L'], [4, 4, 'D']]]"
      ]
     },
     "execution_count": 49,
     "metadata": {},
     "output_type": "execute_result"
    }
   ],
   "source": [
    "grid = make_coords(5)\n",
    "lamp = [3,2]\n",
    "lit(grid,lamp)"
   ]
  },
  {
   "cell_type": "code",
   "execution_count": 52,
   "metadata": {},
   "outputs": [],
   "source": [
    "# when a point is chosen, itself and its adjacent points should be marked\n",
    "def move_up(point):\n",
    "    if point[0] > 0:\n",
    "        marker = point[0] - 1\n",
    "    else:\n",
    "        marker = point[0]\n",
    "    return marker\n",
    "def move_down(point, grid)\n",
    "    if point[0] < len(grid):\n",
    "        marker = point[0] + 1\n",
    "    else:\n",
    "        marker = point[0]\n",
    "    return marker\n",
    "\n",
    "def mark_neighbors(grid, point):\n",
    "    while True:\n",
    "        try: # upper left\n",
    "            upleft = grid[point[0] - 1][point[1] - 1]\n",
    "            del upleft[2]\n",
    "            upleft.append('M')\n",
    "        except:\n",
    "            pass\n",
    "        try: # above\n",
    "            above = grid[point[0] - 1][point[1]]\n",
    "            del above[2]\n",
    "            above.append('M')\n",
    "        except:\n",
    "            pass\n",
    "        try: # upper right\n",
    "            upright = grid[point[0] - 1][point[1] + 1]\n",
    "            del upright[2]\n",
    "            upright.append('M')\n",
    "        except:\n",
    "            pass\n",
    "        try: # left\n",
    "            left = grid[point[0]][point[1] - 1]\n",
    "            del left[2]\n",
    "            left.append('M')\n",
    "        except:\n",
    "            pass\n",
    "        try: # self\n",
    "            self = grid[point[0]][point[1]]\n",
    "            del self[2]\n",
    "            self.append('M')\n",
    "        except:\n",
    "            pass\n",
    "        try: # right\n",
    "            right = grid[point[0]][point[1] + 1]\n",
    "            del right[2]\n",
    "            right.append('M')\n",
    "        except:\n",
    "            pass\n",
    "        try: # lower left\n",
    "            lowleft = grid[point[0] + 1][point[1] - 1]\n",
    "            del lowleft[2]\n",
    "            lowleft.append('M')\n",
    "        except:\n",
    "            pass\n",
    "        try: # below\n",
    "            below = grid[point[0] + 1][point[1]]\n",
    "            del below[2]\n",
    "            below.append('M')\n",
    "        except:\n",
    "            pass\n",
    "        try: # lower right\n",
    "            lowright = grid[point[0] + 1][point[1] + 1]\n",
    "            del lowright[2]\n",
    "            lowright.append('M')\n",
    "        except:\n",
    "            pass\n",
    "        return grid"
   ]
  },
  {
   "cell_type": "code",
   "execution_count": 53,
   "metadata": {},
   "outputs": [
    {
     "data": {
      "text/plain": [
       "[[[0, 0, 'D'], [0, 1, 'D'], [0, 2, 'D'], [0, 3, 'D'], [0, 4, 'D']],\n",
       " [[1, 0, 'D'], [1, 1, 'M'], [1, 2, 'M'], [1, 3, 'M'], [1, 4, 'D']],\n",
       " [[2, 0, 'D'], [2, 1, 'M'], [2, 2, 'M'], [2, 3, 'M'], [2, 4, 'D']],\n",
       " [[3, 0, 'D'], [3, 1, 'M'], [3, 2, 'M'], [3, 3, 'M'], [3, 4, 'D']],\n",
       " [[4, 0, 'D'], [4, 1, 'D'], [4, 2, 'D'], [4, 3, 'D'], [4, 4, 'D']]]"
      ]
     },
     "execution_count": 53,
     "metadata": {},
     "output_type": "execute_result"
    }
   ],
   "source": [
    "grid = make_coords(5)\n",
    "mark_neighbors(grid, [2,2])"
   ]
  },
  {
   "cell_type": "code",
   "execution_count": 54,
   "metadata": {},
   "outputs": [
    {
     "data": {
      "text/plain": [
       "[[[0, 0, 'D'], [0, 1, 'M'], [0, 2, 'M'], [0, 3, 'M'], [0, 4, 'D']],\n",
       " [[1, 0, 'D'], [1, 1, 'M'], [1, 2, 'M'], [1, 3, 'M'], [1, 4, 'D']],\n",
       " [[2, 0, 'D'], [2, 1, 'M'], [2, 2, 'M'], [2, 3, 'M'], [2, 4, 'D']],\n",
       " [[3, 0, 'D'], [3, 1, 'D'], [3, 2, 'D'], [3, 3, 'D'], [3, 4, 'D']],\n",
       " [[4, 0, 'D'], [4, 1, 'D'], [4, 2, 'D'], [4, 3, 'D'], [4, 4, 'D']]]"
      ]
     },
     "execution_count": 54,
     "metadata": {},
     "output_type": "execute_result"
    }
   ],
   "source": [
    "grid = make_coords(5)\n",
    "mark_neighbors(grid, [1,2])"
   ]
  },
  {
   "cell_type": "code",
   "execution_count": 56,
   "metadata": {},
   "outputs": [
    {
     "data": {
      "text/plain": [
       "[[[0, 0, 'M'], [0, 1, 'M'], [0, 2, 'D'], [0, 3, 'D'], [0, 4, 'M']],\n",
       " [[1, 0, 'M'], [1, 1, 'M'], [1, 2, 'D'], [1, 3, 'D'], [1, 4, 'M']],\n",
       " [[2, 0, 'D'], [2, 1, 'D'], [2, 2, 'D'], [2, 3, 'D'], [2, 4, 'D']],\n",
       " [[3, 0, 'D'], [3, 1, 'D'], [3, 2, 'D'], [3, 3, 'D'], [3, 4, 'D']],\n",
       " [[4, 0, 'M'], [4, 1, 'M'], [4, 2, 'D'], [4, 3, 'D'], [4, 4, 'M']]]"
      ]
     },
     "execution_count": 56,
     "metadata": {},
     "output_type": "execute_result"
    }
   ],
   "source": [
    "grid = make_coords(5)\n",
    "mark_neighbors(grid, [0,0])"
   ]
  },
  {
   "cell_type": "code",
   "execution_count": null,
   "metadata": {},
   "outputs": [],
   "source": []
  }
 ],
 "metadata": {
  "kernelspec": {
   "display_name": "Python",
   "language": "python",
   "name": "python3"
  },
  "language_info": {
   "codemirror_mode": {
    "name": "ipython",
    "version": 3
   },
   "file_extension": ".py",
   "mimetype": "text/x-python",
   "name": "python",
   "nbconvert_exporter": "python",
   "pygments_lexer": "ipython3",
   "version": "3.6.4"
  }
 },
 "nbformat": 4,
 "nbformat_minor": 2
}
